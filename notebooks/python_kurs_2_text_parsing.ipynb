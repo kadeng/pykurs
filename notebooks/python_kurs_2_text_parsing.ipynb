{
  "nbformat": 4,
  "nbformat_minor": 0,
  "metadata": {
    "colab": {
      "provenance": [],
      "authorship_tag": "ABX9TyMI+iq+Lt9iuFHkXky4PBGd",
      "include_colab_link": true
    },
    "kernelspec": {
      "name": "python3",
      "display_name": "Python 3"
    },
    "language_info": {
      "name": "python"
    }
  },
  "cells": [
    {
      "cell_type": "markdown",
      "metadata": {
        "id": "view-in-github",
        "colab_type": "text"
      },
      "source": [
        "<a href=\"https://colab.research.google.com/github/kadeng/pykurs/blob/main/notebooks/python_kurs_2_text_parsing.ipynb\" target=\"_parent\"><img src=\"https://colab.research.google.com/assets/colab-badge.svg\" alt=\"Open In Colab\"/></a>"
      ]
    },
    {
      "cell_type": "markdown",
      "source": [
        "## Python Kurs\n",
        "\n",
        "Dieses Notebook ist Teil 2, eines kleinen Kurses mit Übungen, in dem auf einige Themen mittleren bis einfachen Komplexitätsgrads eingegangen wird, die in generellen Einführungen zu Python manchmal zu kurz kommen, in der Praxis aber relevant sind.\n"
      ],
      "metadata": {
        "id": "62NmuHb2jHin"
      }
    },
    {
      "cell_type": "markdown",
      "source": [
        "### Text Parsing & Manipulation\n",
        "\n",
        "in diesem Teil des Kurses, lernen wir [Text Parsing](https://en.wikipedia.org/wiki/Parsing). Das ist in diesem Kontext definiert als das interpretieren eines Textes anhand von formellen Regeln, so dass am Ende eine maschineninterpretierbare Datenstruktur entsteht welche die Bedeutung des Texts korrekt wiedergibt.\n",
        "\n",
        "Wir beginnen mit sehr simplen Text-Parsing aufgaben, wie z.B. dem **zerlegen von Text** anhand von Separatoren und dem **Bereinigen und Normalisieren** durch einfache Textersetzungen.\n",
        "\n",
        "Anschliessend widmen wir uns einigen **standardisierten Formaten zu**: CSV, JSON und YAML.\n",
        "\n",
        "Anschliessend gehen wir auf das Thema **Regulaere Ausdruecke ( Regular Expressions )** ein, mit denen bereits sehr anspruchsvolle Aufgaben ( Muster- und Teilmusterkennung ) ausgefuehrt werden koennen.\n",
        "\n",
        "Abschliessend gehen wir darauf ein, wie man durch **mehrstufiges Parsing** auch Texte interpretiert die man mit einem einzelnen Regulaeren Ausdruck nicht interpretiert bekommt.\n"
      ],
      "metadata": {
        "id": "Wanr50N93AUr"
      }
    },
    {
      "cell_type": "markdown",
      "source": [
        "### Manuelles Parsing\n",
        "\n",
        "Im folgenden sehen wir einige Beispiele für Parsing von kurzen relativ leicht zu zerlegenden und interpretierenden Texten"
      ],
      "metadata": {
        "id": "qVfkzmoDs_wq"
      }
    },
    {
      "cell_type": "code",
      "source": [
        "# Interpretiere einen Text als eine ganze Zahl\n",
        "\n",
        "a = \" 23\"\n",
        "int(a)"
      ],
      "metadata": {
        "colab": {
          "base_uri": "https://localhost:8080/"
        },
        "id": "gLPNrN7mtOye",
        "outputId": "08f8a3f0-7706-4e2c-fae8-78bdcd787878"
      },
      "execution_count": 154,
      "outputs": [
        {
          "output_type": "execute_result",
          "data": {
            "text/plain": [
              "23"
            ]
          },
          "metadata": {},
          "execution_count": 154
        }
      ]
    },
    {
      "cell_type": "code",
      "source": [
        "# Geht das?\n",
        "a = \"Hallo?\"\n",
        "int(a)"
      ],
      "metadata": {
        "colab": {
          "base_uri": "https://localhost:8080/",
          "height": 200
        },
        "id": "jpNQ8DtCtXlm",
        "outputId": "c5eab669-9365-41a5-e7b9-88dbd68f1083"
      },
      "execution_count": 155,
      "outputs": [
        {
          "output_type": "error",
          "ename": "ValueError",
          "evalue": "ignored",
          "traceback": [
            "\u001b[0;31m---------------------------------------------------------------------------\u001b[0m",
            "\u001b[0;31mValueError\u001b[0m                                Traceback (most recent call last)",
            "\u001b[0;32m<ipython-input-155-8e0bca3b81b8>\u001b[0m in \u001b[0;36m<cell line: 3>\u001b[0;34m()\u001b[0m\n\u001b[1;32m      1\u001b[0m \u001b[0;31m# Geht das?\u001b[0m\u001b[0;34m\u001b[0m\u001b[0;34m\u001b[0m\u001b[0m\n\u001b[1;32m      2\u001b[0m \u001b[0ma\u001b[0m \u001b[0;34m=\u001b[0m \u001b[0;34m\"Hallo?\"\u001b[0m\u001b[0;34m\u001b[0m\u001b[0;34m\u001b[0m\u001b[0m\n\u001b[0;32m----> 3\u001b[0;31m \u001b[0mint\u001b[0m\u001b[0;34m(\u001b[0m\u001b[0ma\u001b[0m\u001b[0;34m)\u001b[0m\u001b[0;34m\u001b[0m\u001b[0;34m\u001b[0m\u001b[0m\n\u001b[0m",
            "\u001b[0;31mValueError\u001b[0m: invalid literal for int() with base 10: 'Hallo?'"
          ]
        }
      ]
    },
    {
      "cell_type": "code",
      "source": [
        "# Beispiel fuer einen simplen Parser mit Ausnahmebehandlung\n",
        "def parse_as_int(s, default_value=-1):\n",
        "  try:\n",
        "    return int(s)\n",
        "  except:\n",
        "    return default_value\n",
        "\n",
        "print(parse_as_int(\"23\"))\n",
        "print(parse_as_int(\"Hallo\", \"Hallo ist keine Zahl\"))"
      ],
      "metadata": {
        "colab": {
          "base_uri": "https://localhost:8080/"
        },
        "id": "KIgTWUO4tf7w",
        "outputId": "57bc5ac7-4be1-481c-be97-a44631b8af61"
      },
      "execution_count": 158,
      "outputs": [
        {
          "output_type": "stream",
          "name": "stdout",
          "text": [
            "23\n",
            "Hallo ist keine Zahl\n"
          ]
        }
      ]
    },
    {
      "cell_type": "code",
      "source": [
        "# Floating-Point Zahl parsen?\n",
        "def parse_as_float(s, default_value=float('NaN')):\n",
        "  try:\n",
        "    return float(s)\n",
        "  except:\n",
        "    return default_value\n",
        "\n",
        "print(parse_as_float(\"23.4\"))\n",
        "print(parse_as_float(\"1e-2\"))\n",
        "print(parse_as_float(\"Hallo\"))\n",
        "print(type(parse_as_float(\"Hallo\"))) # nan ist ein float-wert der als \"keine Zahl\" interpretiert wird ( NaN = Not a Number)"
      ],
      "metadata": {
        "colab": {
          "base_uri": "https://localhost:8080/"
        },
        "id": "g2LOC5LQynB9",
        "outputId": "4585c362-9648-447c-9107-5e18a42e1a81"
      },
      "execution_count": 167,
      "outputs": [
        {
          "output_type": "stream",
          "name": "stdout",
          "text": [
            "23.4\n",
            "0.01\n",
            "nan\n",
            "<class 'float'>\n"
          ]
        }
      ]
    },
    {
      "cell_type": "code",
      "source": [
        "# Kategorische Werte parsen?\n",
        "\n",
        "color_code_map = {\n",
        "    \"red\" : 1,\n",
        "    \"blue\" : 2,\n",
        "    \"unknown\" : 0\n",
        "}\n",
        "\n",
        "def parse_color_code(s):\n",
        "  return color_code_map.get(s, 0)\n",
        "\n",
        "print(parse_color_code(\"red\"))\n",
        "print(parse_color_code(\"blue\"))\n",
        "print(parse_color_code(\"Blue\")) # klappt nicht, weil B grossgeschrieben\n",
        "print(parse_color_code(\"Blue\".lower())) # normalisiert klappt das"
      ],
      "metadata": {
        "colab": {
          "base_uri": "https://localhost:8080/"
        },
        "id": "EjYkrO2uzIcG",
        "outputId": "a0a59f08-cd8b-44b2-d141-0b455cf3e201"
      },
      "execution_count": 169,
      "outputs": [
        {
          "output_type": "stream",
          "name": "stdout",
          "text": [
            "1\n",
            "2\n",
            "0\n",
            "2\n"
          ]
        }
      ]
    },
    {
      "cell_type": "code",
      "source": [
        "# Jetzt ein komplexeres Beispiel\n",
        "zeile = \"12;239$;C23: Yes, C24:No;239\"\n",
        "werte = zeile.split(\";\")\n",
        "print(werte)"
      ],
      "metadata": {
        "colab": {
          "base_uri": "https://localhost:8080/"
        },
        "id": "waN8qjruuHeH",
        "outputId": "57802463-90db-4587-ce2b-30ea1a718154"
      },
      "execution_count": 170,
      "outputs": [
        {
          "output_type": "stream",
          "name": "stdout",
          "text": [
            "['12', '239$', 'C23: Yes, C24:No', '239']\n"
          ]
        }
      ]
    },
    {
      "cell_type": "code",
      "source": [
        "# Man kann auch gleich den Rückgabewert in mehrere Variablen **entpacken** wenn man weiss dass es immmer eine feste Anzahl ist\n",
        "substance_id, price, results, study = zeile.split(\";\")\n",
        "print(f\"substance_id={substance_id}, results={results}\")"
      ],
      "metadata": {
        "colab": {
          "base_uri": "https://localhost:8080/"
        },
        "id": "kWjkGuaYudY7",
        "outputId": "219a4b11-a0ea-44f7-c1fb-c6f7fad6bb4e"
      },
      "execution_count": 161,
      "outputs": [
        {
          "output_type": "stream",
          "name": "stdout",
          "text": [
            "substance_id=12, results=C23: Yes, C24:No\n"
          ]
        }
      ]
    },
    {
      "cell_type": "code",
      "source": [
        "# Vielleicht wollen wir aber auch etwas weiter zerlegen?\n",
        "\n",
        "def parse_results_str(results_str : str) -> dict[str,str]:\n",
        "    \"\"\"\n",
        "    Zerlegt einen einzelnen results_str wie \"C23: Yes, C24:No\"\n",
        "    \"\"\"\n",
        "    results = {} # rueckgabewert dict das wir gleich befuellen wollen\n",
        "    teilergebnisse_liste = results_str.split(\",\")\n",
        "    # jetzt muesste teilergebnisse_liste sowas wie [\"C23: Yes\", \"C24:No\" ] sein.\n",
        "    # zerlegen wir jeden Eintrag weiter\n",
        "    for teilergebnis in teilergebnisse_liste:\n",
        "      # teilergebnis ist sowas wie \"C23: Yes\"\n",
        "      key, value = teilergebnis.split(\":\") # gibt uns zwei Werte\n",
        "      key = key.strip() # leerzeichen am anfang und ende entfernen\n",
        "      value = value.strip().lower() # leerzeichen am anfang und ende entfernen und kleinschreiben\n",
        "      # Sicherheitspruefung: Wir nehmen an, dass jeder key nur einmal vorkommt. Sonst Fehlermeldung\n",
        "      assert key not in results, f\"Eintrag {key} ist doppelt vorhanden\"\n",
        "      # jetzt koennen wir das in das Resultat packen\n",
        "      results[key] = value\n",
        "\n",
        "    return results # alles zurueckgeben\n",
        "\n",
        "\n",
        "def parse_zeile(zeile):\n",
        "    \"\"\"\n",
        "    Parst eine Zeile wie \"12;239$;C23: Yes, C24:No;239\"\n",
        "    \"\"\"\n",
        "    substance_id_str, price_str, results_str, study_str = zeile.split(\";\")\n",
        "    price = float(price_str.replace(\"$\", \"\")) # Dollarzeichen entfernen und in float konvertieren\n",
        "    substance_id = int(substance_id_str) # in Integer konvertieren\n",
        "    study_id = int(study_str)\n",
        "    results_dict : dict[str,str] = parse_results_str(results_str)\n",
        "    resultate = {\n",
        "        \"substance_id\" : substance_id,\n",
        "        \"study_id\" : study_id,\n",
        "        \"results\" : results_dict,\n",
        "        \"price\" : price\n",
        "    }\n",
        "    return resultate\n",
        "\n",
        ""
      ],
      "metadata": {
        "id": "uw7BFelJu5Ug"
      },
      "execution_count": 162,
      "outputs": []
    },
    {
      "cell_type": "code",
      "source": [
        "# Jetzt mal ausfuehren\n",
        "parse_zeile(zeile)\n"
      ],
      "metadata": {
        "colab": {
          "base_uri": "https://localhost:8080/"
        },
        "id": "OP1aPxWptv65",
        "outputId": "8265acfb-9b8c-47e8-99be-f955ab3f0c04"
      },
      "execution_count": 163,
      "outputs": [
        {
          "output_type": "execute_result",
          "data": {
            "text/plain": [
              "{'substance_id': 12,\n",
              " 'study_id': 239,\n",
              " 'results': {'C23': 'yes', 'C24': 'no'},\n",
              " 'price': 239.0}"
            ]
          },
          "metadata": {},
          "execution_count": 163
        }
      ]
    },
    {
      "cell_type": "markdown",
      "source": [
        "#### Uebungen\n",
        "\n",
        "* Schreib die Funktionen oben so um, dass anstatt von \"yes\" oder \"no\" ein Wert von **True** oder **False** zurueckgebeben wird in den Detail-Results.\n",
        "* Erzeuge ein paar Varianten fuer input-Zeilen und pass ggf. den Code an um mit diesen Inputs klarzukommen.\n",
        "* Bau eine Fallunterscheidung ein: Wenn ein bestimmter Text im String vorkommt, verwende den einen Parser, wenn er nicht vorkommt einen anderen. (Dazu kannst du das \"in\" Keyword verwenden, siehe Teil 1 )\n"
      ],
      "metadata": {
        "id": "4AxHMp5ayNX9"
      }
    },
    {
      "cell_type": "markdown",
      "source": [
        "\n",
        "### CSV, JSON & YAML\n",
        "\n",
        "CSV, JSON und YAML sind gaengige textbasierte Datenformate die gut Menschen- und Maschinenlesbar sind.\n",
        "\n",
        "Das obige Resultat laesst sich sehr gut in JSON oder YAML uebersetzen, um es in besser Maschinenlesbarer Form abzulegen:\n",
        "\n"
      ],
      "metadata": {
        "id": "GpqmA-ibpHN_"
      }
    },
    {
      "cell_type": "code",
      "source": [
        "import json\n",
        "import yaml"
      ],
      "metadata": {
        "id": "BspDZjun2NSJ"
      },
      "execution_count": null,
      "outputs": []
    },
    {
      "cell_type": "code",
      "source": [
        "# Aus dem geparsten Dictionary einen String im JSON Format machen, mit Hilfe von json.dumps(...)\n",
        "json_str = json.dumps(parse_zeile(zeile), indent=2)\n",
        "json_str"
      ],
      "metadata": {
        "colab": {
          "base_uri": "https://localhost:8080/",
          "height": 35
        },
        "id": "N4qCDVmW2t5m",
        "outputId": "09ecac48-cf74-4c0f-dd45-e83e7d643e88"
      },
      "execution_count": 177,
      "outputs": [
        {
          "output_type": "execute_result",
          "data": {
            "text/plain": [
              "'{\\n  \"substance_id\": 12,\\n  \"study_id\": 239,\\n  \"results\": {\\n    \"C23\": \"yes\",\\n    \"C24\": \"no\"\\n  },\\n  \"price\": 239.0\\n}'"
            ],
            "application/vnd.google.colaboratory.intrinsic+json": {
              "type": "string"
            }
          },
          "metadata": {},
          "execution_count": 177
        }
      ]
    },
    {
      "cell_type": "code",
      "source": [
        "print(json_str)"
      ],
      "metadata": {
        "colab": {
          "base_uri": "https://localhost:8080/"
        },
        "id": "EigO7ef22eof",
        "outputId": "e0b24c3b-cf0f-4b72-ab67-d92f52b835cd"
      },
      "execution_count": 178,
      "outputs": [
        {
          "output_type": "stream",
          "name": "stdout",
          "text": [
            "{\n",
            "  \"substance_id\": 12,\n",
            "  \"study_id\": 239,\n",
            "  \"results\": {\n",
            "    \"C23\": \"yes\",\n",
            "    \"C24\": \"no\"\n",
            "  },\n",
            "  \"price\": 239.0\n",
            "}\n"
          ]
        }
      ]
    },
    {
      "cell_type": "code",
      "source": [
        "# it's just a string, see\n",
        "print(json_str[10:20])"
      ],
      "metadata": {
        "colab": {
          "base_uri": "https://localhost:8080/"
        },
        "id": "rn-uhkSC4tj9",
        "outputId": "a1d0d0bf-413c-4e5a-a6ee-21fa9384441c"
      },
      "execution_count": 184,
      "outputs": [
        {
          "output_type": "stream",
          "name": "stdout",
          "text": [
            "ance_id\": \n"
          ]
        }
      ]
    },
    {
      "cell_type": "code",
      "source": [
        "# Das schoene ist, wir koennten den String speichern, spaeter laden und dann die Daten wiederherstellen, einfach so\n",
        "# mit json.loads\n",
        "result = json.loads(json_str)"
      ],
      "metadata": {
        "id": "4O_5szLl2_VO"
      },
      "execution_count": 182,
      "outputs": []
    },
    {
      "cell_type": "code",
      "source": [
        "# Das hier ist kein String\n",
        "result[\"price\"]"
      ],
      "metadata": {
        "colab": {
          "base_uri": "https://localhost:8080/"
        },
        "id": "SjqRW5dW4zcI",
        "outputId": "6d58d849-ff3e-437c-b350-e05d2e9c4bd1"
      },
      "execution_count": 183,
      "outputs": [
        {
          "output_type": "execute_result",
          "data": {
            "text/plain": [
              "239.0"
            ]
          },
          "metadata": {},
          "execution_count": 183
        }
      ]
    },
    {
      "cell_type": "code",
      "source": [
        "# ganz aehnlich geht das mit dem YAML parser / generator\n",
        "# der etwas leichter zu lesen ist\n",
        "yaml_str = yaml.safe_dump(parse_zeile(zeile), indent=2)\n",
        "print(yaml_str)"
      ],
      "metadata": {
        "colab": {
          "base_uri": "https://localhost:8080/"
        },
        "id": "YZ7aq6Zc7ezO",
        "outputId": "798486d8-aa00-436a-e170-013fab89ec53"
      },
      "execution_count": 214,
      "outputs": [
        {
          "output_type": "stream",
          "name": "stdout",
          "text": [
            "price: 239.0\n",
            "results:\n",
            "  C23: 'yes'\n",
            "  C24: 'no'\n",
            "study_id: 239\n",
            "substance_id: 12\n",
            "\n"
          ]
        }
      ]
    },
    {
      "cell_type": "code",
      "source": [
        "# Das YAML kann man auch automatisch parsen lassen\n",
        "result2 = yaml.safe_load(yaml_str)\n",
        "print(result2)"
      ],
      "metadata": {
        "colab": {
          "base_uri": "https://localhost:8080/"
        },
        "id": "OmBSWnS07y8i",
        "outputId": "6c5d96d8-bfb1-4499-e5cb-cbc3beb1c53d"
      },
      "execution_count": 215,
      "outputs": [
        {
          "output_type": "stream",
          "name": "stdout",
          "text": [
            "{'price': 239.0, 'results': {'C23': 'yes', 'C24': 'no'}, 'study_id': 239, 'substance_id': 12}\n"
          ]
        }
      ]
    },
    {
      "cell_type": "markdown",
      "source": [
        "#### CSV\n",
        "\n",
        "Das vermutlich einfachste Format ist CSV, was für \"Comma Separated Values\" steht. Es repräsentiert Tabellen einfach als Textdatei mit einer Textzeile pro Tabellenzeile, wobei jede Spalte durch einen Separator getrennt wird ( typischerweise durch Komma, Tab-Charakter oder Semikolon ).\n",
        "\n",
        "Das CSV Format kann in verschiedenen Varianten auftreten, bei denen z.B. die Werte manchmal in Anführungszeichen gesetzt werden oder nicht, mit Headern oder ohne usw.\n",
        "\n",
        "Das hier ist ein ganz typisches CSV:\n",
        "\n",
        "```\n",
        "CUSTOMER_ID;ORDER_ID;UNIT_PRICE;AMOUNT;NAME\n",
        "1;32832;28.4$;4;iPad Schutzhülle A9\n",
        "2;32833;9.99$;4;Panzerglas Huawei Mate 20\n",
        "```\n",
        "usw..\n",
        "\n",
        "alternativ ist aber auch dies eine CSV\n",
        "\n",
        "```\n",
        "\"customer id\",\"order id\",\"unit price\",\"amount\",\"name\"\n",
        "1;32832;\"28.4$\";4;\"iPad Schutzhülle A9\"\n",
        "2;32833;\"9.99$\";4;\"Panzerglas, Huawei Mate 20\"\n",
        "```\n",
        "\n",
        "in diesem Beispiel zeigt sich auch direkt eines der gängigen Probleme dieser Formate: Wie geht man mit Zeichen um, die eine besondere Bedeutung haben? Im Feld \"Panzerglas, Huawei Mate 20\" findet sich ein Komma. Das ist nur deshalb kein Problem, weil der Text in Anführungszeichen ist. Dennoch kann man jetzt nicht mehr einfach die Zeile anhand von Kommas trennen um an alle Werte zu gelangen. Ein richtiger **CSV Parser** muss her.\n",
        "\n",
        "Glücklicherweise gibt es ja **pandas**..."
      ],
      "metadata": {
        "id": "lzCQxrLH2IzH"
      }
    },
    {
      "cell_type": "code",
      "source": [
        "# Beginnen wir mit dem Import\n",
        "import pandas\n",
        "import io"
      ],
      "metadata": {
        "id": "Rrx13qMOpRI4"
      },
      "execution_count": 187,
      "outputs": []
    },
    {
      "cell_type": "code",
      "source": [
        "csv_text = \"\"\"\n",
        "\"customer id\";\"order id\";\"unit price\";\"amount\";\"name\"\n",
        "1;32832;\"28.4$\";4;\"iPad Schutzhülle A9\"\n",
        "2;32833;\"9.99$\";4;\"Panzerglas; Huawei Mate 20\"\n",
        "\"\"\"\n",
        "\n",
        "csv_io = io.StringIO(csv_text.strip()) # das brauchen wir, weil es nicht aus einer Datei kommt\n",
        "\n",
        "df = pandas.read_csv(csv_io, sep=\";\")\n",
        "df"
      ],
      "metadata": {
        "id": "xusN_KqW3PXL",
        "colab": {
          "base_uri": "https://localhost:8080/",
          "height": 112
        },
        "outputId": "fe07b2bd-8fcd-4a5c-aca4-543d18c29632"
      },
      "execution_count": 209,
      "outputs": [
        {
          "output_type": "execute_result",
          "data": {
            "text/plain": [
              "   customer id  order id unit price  amount                        name\n",
              "0            1     32832      28.4$       4         iPad Schutzhülle A9\n",
              "1            2     32833      9.99$       4  Panzerglas; Huawei Mate 20"
            ],
            "text/html": [
              "\n",
              "\n",
              "  <div id=\"df-f81ab38d-3ade-4246-9717-4851ce7cb4ab\">\n",
              "    <div class=\"colab-df-container\">\n",
              "      <div>\n",
              "<style scoped>\n",
              "    .dataframe tbody tr th:only-of-type {\n",
              "        vertical-align: middle;\n",
              "    }\n",
              "\n",
              "    .dataframe tbody tr th {\n",
              "        vertical-align: top;\n",
              "    }\n",
              "\n",
              "    .dataframe thead th {\n",
              "        text-align: right;\n",
              "    }\n",
              "</style>\n",
              "<table border=\"1\" class=\"dataframe\">\n",
              "  <thead>\n",
              "    <tr style=\"text-align: right;\">\n",
              "      <th></th>\n",
              "      <th>customer id</th>\n",
              "      <th>order id</th>\n",
              "      <th>unit price</th>\n",
              "      <th>amount</th>\n",
              "      <th>name</th>\n",
              "    </tr>\n",
              "  </thead>\n",
              "  <tbody>\n",
              "    <tr>\n",
              "      <th>0</th>\n",
              "      <td>1</td>\n",
              "      <td>32832</td>\n",
              "      <td>28.4$</td>\n",
              "      <td>4</td>\n",
              "      <td>iPad Schutzhülle A9</td>\n",
              "    </tr>\n",
              "    <tr>\n",
              "      <th>1</th>\n",
              "      <td>2</td>\n",
              "      <td>32833</td>\n",
              "      <td>9.99$</td>\n",
              "      <td>4</td>\n",
              "      <td>Panzerglas; Huawei Mate 20</td>\n",
              "    </tr>\n",
              "  </tbody>\n",
              "</table>\n",
              "</div>\n",
              "      <button class=\"colab-df-convert\" onclick=\"convertToInteractive('df-f81ab38d-3ade-4246-9717-4851ce7cb4ab')\"\n",
              "              title=\"Convert this dataframe to an interactive table.\"\n",
              "              style=\"display:none;\">\n",
              "\n",
              "  <svg xmlns=\"http://www.w3.org/2000/svg\" height=\"24px\"viewBox=\"0 0 24 24\"\n",
              "       width=\"24px\">\n",
              "    <path d=\"M0 0h24v24H0V0z\" fill=\"none\"/>\n",
              "    <path d=\"M18.56 5.44l.94 2.06.94-2.06 2.06-.94-2.06-.94-.94-2.06-.94 2.06-2.06.94zm-11 1L8.5 8.5l.94-2.06 2.06-.94-2.06-.94L8.5 2.5l-.94 2.06-2.06.94zm10 10l.94 2.06.94-2.06 2.06-.94-2.06-.94-.94-2.06-.94 2.06-2.06.94z\"/><path d=\"M17.41 7.96l-1.37-1.37c-.4-.4-.92-.59-1.43-.59-.52 0-1.04.2-1.43.59L10.3 9.45l-7.72 7.72c-.78.78-.78 2.05 0 2.83L4 21.41c.39.39.9.59 1.41.59.51 0 1.02-.2 1.41-.59l7.78-7.78 2.81-2.81c.8-.78.8-2.07 0-2.86zM5.41 20L4 18.59l7.72-7.72 1.47 1.35L5.41 20z\"/>\n",
              "  </svg>\n",
              "      </button>\n",
              "\n",
              "\n",
              "\n",
              "    <div id=\"df-b40fcf04-d974-4ec5-95d2-05fe30450308\">\n",
              "      <button class=\"colab-df-quickchart\" onclick=\"quickchart('df-b40fcf04-d974-4ec5-95d2-05fe30450308')\"\n",
              "              title=\"Suggest charts.\"\n",
              "              style=\"display:none;\">\n",
              "\n",
              "<svg xmlns=\"http://www.w3.org/2000/svg\" height=\"24px\"viewBox=\"0 0 24 24\"\n",
              "     width=\"24px\">\n",
              "    <g>\n",
              "        <path d=\"M19 3H5c-1.1 0-2 .9-2 2v14c0 1.1.9 2 2 2h14c1.1 0 2-.9 2-2V5c0-1.1-.9-2-2-2zM9 17H7v-7h2v7zm4 0h-2V7h2v10zm4 0h-2v-4h2v4z\"/>\n",
              "    </g>\n",
              "</svg>\n",
              "      </button>\n",
              "    </div>\n",
              "\n",
              "<style>\n",
              "  .colab-df-quickchart {\n",
              "    background-color: #E8F0FE;\n",
              "    border: none;\n",
              "    border-radius: 50%;\n",
              "    cursor: pointer;\n",
              "    display: none;\n",
              "    fill: #1967D2;\n",
              "    height: 32px;\n",
              "    padding: 0 0 0 0;\n",
              "    width: 32px;\n",
              "  }\n",
              "\n",
              "  .colab-df-quickchart:hover {\n",
              "    background-color: #E2EBFA;\n",
              "    box-shadow: 0px 1px 2px rgba(60, 64, 67, 0.3), 0px 1px 3px 1px rgba(60, 64, 67, 0.15);\n",
              "    fill: #174EA6;\n",
              "  }\n",
              "\n",
              "  [theme=dark] .colab-df-quickchart {\n",
              "    background-color: #3B4455;\n",
              "    fill: #D2E3FC;\n",
              "  }\n",
              "\n",
              "  [theme=dark] .colab-df-quickchart:hover {\n",
              "    background-color: #434B5C;\n",
              "    box-shadow: 0px 1px 3px 1px rgba(0, 0, 0, 0.15);\n",
              "    filter: drop-shadow(0px 1px 2px rgba(0, 0, 0, 0.3));\n",
              "    fill: #FFFFFF;\n",
              "  }\n",
              "</style>\n",
              "\n",
              "    <script>\n",
              "      async function quickchart(key) {\n",
              "        const containerElement = document.querySelector('#' + key);\n",
              "        const charts = await google.colab.kernel.invokeFunction(\n",
              "            'suggestCharts', [key], {});\n",
              "      }\n",
              "    </script>\n",
              "\n",
              "      <script>\n",
              "\n",
              "function displayQuickchartButton(domScope) {\n",
              "  let quickchartButtonEl =\n",
              "    domScope.querySelector('#df-b40fcf04-d974-4ec5-95d2-05fe30450308 button.colab-df-quickchart');\n",
              "  quickchartButtonEl.style.display =\n",
              "    google.colab.kernel.accessAllowed ? 'block' : 'none';\n",
              "}\n",
              "\n",
              "        displayQuickchartButton(document);\n",
              "      </script>\n",
              "      <style>\n",
              "    .colab-df-container {\n",
              "      display:flex;\n",
              "      flex-wrap:wrap;\n",
              "      gap: 12px;\n",
              "    }\n",
              "\n",
              "    .colab-df-convert {\n",
              "      background-color: #E8F0FE;\n",
              "      border: none;\n",
              "      border-radius: 50%;\n",
              "      cursor: pointer;\n",
              "      display: none;\n",
              "      fill: #1967D2;\n",
              "      height: 32px;\n",
              "      padding: 0 0 0 0;\n",
              "      width: 32px;\n",
              "    }\n",
              "\n",
              "    .colab-df-convert:hover {\n",
              "      background-color: #E2EBFA;\n",
              "      box-shadow: 0px 1px 2px rgba(60, 64, 67, 0.3), 0px 1px 3px 1px rgba(60, 64, 67, 0.15);\n",
              "      fill: #174EA6;\n",
              "    }\n",
              "\n",
              "    [theme=dark] .colab-df-convert {\n",
              "      background-color: #3B4455;\n",
              "      fill: #D2E3FC;\n",
              "    }\n",
              "\n",
              "    [theme=dark] .colab-df-convert:hover {\n",
              "      background-color: #434B5C;\n",
              "      box-shadow: 0px 1px 3px 1px rgba(0, 0, 0, 0.15);\n",
              "      filter: drop-shadow(0px 1px 2px rgba(0, 0, 0, 0.3));\n",
              "      fill: #FFFFFF;\n",
              "    }\n",
              "  </style>\n",
              "\n",
              "      <script>\n",
              "        const buttonEl =\n",
              "          document.querySelector('#df-f81ab38d-3ade-4246-9717-4851ce7cb4ab button.colab-df-convert');\n",
              "        buttonEl.style.display =\n",
              "          google.colab.kernel.accessAllowed ? 'block' : 'none';\n",
              "\n",
              "        async function convertToInteractive(key) {\n",
              "          const element = document.querySelector('#df-f81ab38d-3ade-4246-9717-4851ce7cb4ab');\n",
              "          const dataTable =\n",
              "            await google.colab.kernel.invokeFunction('convertToInteractive',\n",
              "                                                     [key], {});\n",
              "          if (!dataTable) return;\n",
              "\n",
              "          const docLinkHtml = 'Like what you see? Visit the ' +\n",
              "            '<a target=\"_blank\" href=https://colab.research.google.com/notebooks/data_table.ipynb>data table notebook</a>'\n",
              "            + ' to learn more about interactive tables.';\n",
              "          element.innerHTML = '';\n",
              "          dataTable['output_type'] = 'display_data';\n",
              "          await google.colab.output.renderOutput(dataTable, element);\n",
              "          const docLink = document.createElement('div');\n",
              "          docLink.innerHTML = docLinkHtml;\n",
              "          element.appendChild(docLink);\n",
              "        }\n",
              "      </script>\n",
              "    </div>\n",
              "  </div>\n"
            ]
          },
          "metadata": {},
          "execution_count": 209
        }
      ]
    },
    {
      "cell_type": "markdown",
      "source": [],
      "metadata": {
        "id": "hUcY1s7kOZaC"
      }
    }
  ]
}