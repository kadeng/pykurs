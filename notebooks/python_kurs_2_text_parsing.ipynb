{
  "nbformat": 4,
  "nbformat_minor": 0,
  "metadata": {
    "colab": {
      "provenance": [],
      "authorship_tag": "ABX9TyNAZk4KCCYJSOix/TKU96ga",
      "include_colab_link": true
    },
    "kernelspec": {
      "name": "python3",
      "display_name": "Python 3"
    },
    "language_info": {
      "name": "python"
    }
  },
  "cells": [
    {
      "cell_type": "markdown",
      "metadata": {
        "id": "view-in-github",
        "colab_type": "text"
      },
      "source": [
        "<a href=\"https://colab.research.google.com/github/kadeng/pykurs/blob/main/notebooks/python_kurs_2_text_parsing.ipynb\" target=\"_parent\"><img src=\"https://colab.research.google.com/assets/colab-badge.svg\" alt=\"Open In Colab\"/></a>"
      ]
    },
    {
      "cell_type": "markdown",
      "source": [
        "## Python Kurs\n",
        "\n",
        "Dieses Notebook ist Teil 2, eines kleinen Kurses mit Übungen, in dem auf einige Themen mittleren bis einfachen Komplexitätsgrads eingegangen wird, die in generellen Einführungen zu Python manchmal zu kurz kommen, in der Praxis aber relevant sind.\n"
      ],
      "metadata": {
        "id": "62NmuHb2jHin"
      }
    },
    {
      "cell_type": "markdown",
      "source": [
        "# Dokumentation finden\n",
        "\n",
        "zunächst einmal hier ein paar Grundlagen um weitere Details nachschlagen zu können und herauszufinden wo man mehr Informationen zu einer Funktion oder Objekt findet, und leichter herauszufinden was man eigentlich so machen kann.\n",
        "\n",
        "### String Methoden\n",
        "\n",
        "Ein wichtiges Thema in diesem Notebook ist String-Parsing. Darum: [hier ist die Liste der String Methoden](https://docs.python.org/3/library/stdtypes.html#string-methods). Auf der gleichen Seite findet sich auch Dokumentation zu den anderen eingebauten Standardtypen von Python.\n",
        "\n"
      ],
      "metadata": {
        "id": "lEQOyE25RC-N"
      }
    },
    {
      "cell_type": "markdown",
      "source": [
        "Wenn du schon weisst dass du eine bestimmte Methode aufrufen willst, aber die Parameter nicht mehr auswendig weisst, ist **Codevervollständigung und Inline-Dokumentation** meistens sehr hilfreich. EInfach anfangen zu tippen, und nach der öffnenden Klammer einer Funktion kurz warten. In Jupyter Notebook (leider nicht in Colab) bekommt man dann ausführliche Hilfe wenn man **Umschalttaste plus zwei mal schnell hintereinander Tab** drückt."
      ],
      "metadata": {
        "id": "ySxl_kNcVZf2"
      }
    },
    {
      "cell_type": "markdown",
      "source": [
        "### Methoden und Dokumentation finden\n",
        "\n",
        "aber nehmen wir mal an, man hat irgend ein Objekt (sagen wir **obj**) als Rückgabewert einer Funktion bekommen, und weiss nicht wo dazu die Dokumentation zu finden ist. Wie findet man schnell heraus was man mit dem Objekt so machen kann?\n",
        "\n",
        "Eine Methode ist natürlich, auf die **Codevervollständigung** zu setzen, und einfach mal **obj.** einzutippen. Je nach Umgebung muss man dann häufig nur kurz warten, **Strg+Leerzeichen** (z.B. in Colab) oder **Umschalttaste+Tab** drücken um eine Liste der verfügbaren Methoden zu bekommen.\n",
        "\n",
        "Zum anderen kann man mit Hilfe der Funktion **type(obj)** den Typ des Objekts herausfinden, womit man dann ggf. leichter die Dokumentation finden kann (und andere Dinge).\n",
        "\n",
        "Etwas was immer geht, ist mit Hilfe der Funktion **dir(obj)** herauszufinden welche Attribute und Methoden ein Objekt hat.\n",
        "\n",
        "In Jupyter und Colab Notebooks kommt man zudem sehr schnell an die Dokumentation einer Methode oder einer Funktion, indem man **funktionsname??** schreibt und ausführt. Im Falle von Methoden muss man **typname.methodenname??** schreiben. Das entspricht ungefähr der help(...) Funktion in R.\n",
        "\n",
        "Apropos **help** Funktion: Auch diese Funktion gibt es. Und sie ist sehr hilfreich. Aber sie ist nicht so gut in die Notebook oder Editor-Umgebung integriert.\n",
        "\n",
        "Versuchen wir das mal alles."
      ],
      "metadata": {
        "id": "r07-ptlMRc2e"
      }
    },
    {
      "cell_type": "code",
      "source": [
        "# Dokumentation für die \"split\" Methode auf \"str\" anzeigen\n",
        "str.split??"
      ],
      "metadata": {
        "id": "wDpYC3xUQfmo"
      },
      "execution_count": null,
      "outputs": []
    },
    {
      "cell_type": "code",
      "source": [
        "# Dokumentation für 'len' anzeigen\n",
        "len??"
      ],
      "metadata": {
        "id": "IpTse8EbQvXI"
      },
      "execution_count": null,
      "outputs": []
    },
    {
      "cell_type": "code",
      "source": [
        "# split gibt uns irgend etwas zurück. Aber was?\n",
        "obj = \"1,2,3\".split(\",\")"
      ],
      "metadata": {
        "id": "vMjdIB3JSuYo"
      },
      "execution_count": null,
      "outputs": []
    },
    {
      "cell_type": "code",
      "source": [
        "# finden wir es heraus\n",
        "type(obj)"
      ],
      "metadata": {
        "id": "njIWPNg1TfgY",
        "outputId": "7bf7bb4a-b583-4dab-eaee-8358061775d5",
        "colab": {
          "base_uri": "https://localhost:8080/"
        }
      },
      "execution_count": null,
      "outputs": [
        {
          "output_type": "execute_result",
          "data": {
            "text/plain": [
              "list"
            ]
          },
          "metadata": {},
          "execution_count": 21
        }
      ]
    },
    {
      "cell_type": "code",
      "source": [
        "# Was kann man mit einem Objekt vom Typ list so machen?\n",
        "# Tipp ein \"obj.\" und drücke strg+leerzeichen\n",
        "# navigiere zur \"insert\" Methode\n",
        "# und füg am Ende \"??\" an, und führ diese Zelle aus um zur Doku von list.insert zu kommen"
      ],
      "metadata": {
        "id": "WgC42wQcTmd4"
      },
      "execution_count": null,
      "outputs": []
    },
    {
      "cell_type": "code",
      "source": [
        "# Welche Attribute und Methoden hat obj?\n",
        "# Ignorier erstmal alle die mit _ oder mit __ beginnen. Die sind speziell\n",
        "dir(obj)"
      ],
      "metadata": {
        "id": "xWG7juITXd8_",
        "outputId": "eb68736a-0d6a-4c55-f54a-455501a7772c",
        "colab": {
          "base_uri": "https://localhost:8080/"
        }
      },
      "execution_count": null,
      "outputs": [
        {
          "output_type": "execute_result",
          "data": {
            "text/plain": [
              "['__add__',\n",
              " '__class__',\n",
              " '__class_getitem__',\n",
              " '__contains__',\n",
              " '__delattr__',\n",
              " '__delitem__',\n",
              " '__dir__',\n",
              " '__doc__',\n",
              " '__eq__',\n",
              " '__format__',\n",
              " '__ge__',\n",
              " '__getattribute__',\n",
              " '__getitem__',\n",
              " '__gt__',\n",
              " '__hash__',\n",
              " '__iadd__',\n",
              " '__imul__',\n",
              " '__init__',\n",
              " '__init_subclass__',\n",
              " '__iter__',\n",
              " '__le__',\n",
              " '__len__',\n",
              " '__lt__',\n",
              " '__mul__',\n",
              " '__ne__',\n",
              " '__new__',\n",
              " '__reduce__',\n",
              " '__reduce_ex__',\n",
              " '__repr__',\n",
              " '__reversed__',\n",
              " '__rmul__',\n",
              " '__setattr__',\n",
              " '__setitem__',\n",
              " '__sizeof__',\n",
              " '__str__',\n",
              " '__subclasshook__',\n",
              " 'append',\n",
              " 'clear',\n",
              " 'copy',\n",
              " 'count',\n",
              " 'extend',\n",
              " 'index',\n",
              " 'insert',\n",
              " 'pop',\n",
              " 'remove',\n",
              " 'reverse',\n",
              " 'sort']"
            ]
          },
          "metadata": {},
          "execution_count": 29
        }
      ]
    },
    {
      "cell_type": "code",
      "source": [
        "# Oder ruf direkt die Doku von list insert auf:\n",
        "list.insert??"
      ],
      "metadata": {
        "id": "Dzh5DipDVQg4"
      },
      "execution_count": null,
      "outputs": []
    },
    {
      "cell_type": "code",
      "source": [
        "# oder wir nutzen die help(...) Funktion\n",
        "help(obj.insert)"
      ],
      "metadata": {
        "id": "D0aH6ZZWZhDa",
        "outputId": "60eb2965-d1d6-48ab-c540-f5f2c7e919dc",
        "colab": {
          "base_uri": "https://localhost:8080/"
        }
      },
      "execution_count": null,
      "outputs": [
        {
          "output_type": "stream",
          "name": "stdout",
          "text": [
            "Help on built-in function insert:\n",
            "\n",
            "insert(index, object, /) method of builtins.list instance\n",
            "    Insert object before index.\n",
            "\n"
          ]
        }
      ]
    },
    {
      "cell_type": "code",
      "source": [
        "# Dokumentation zur Klasse String?\n",
        "# help(str)"
      ],
      "metadata": {
        "id": "Lis1IDGfeSxS"
      },
      "execution_count": null,
      "outputs": []
    },
    {
      "cell_type": "code",
      "source": [
        "# Auch das kann man machen, wenn man den Typ gerade nicht benennen kann\n",
        "#help(type(\"irgend_ein_text\"))"
      ],
      "metadata": {
        "id": "jZScqrS5Z-So"
      },
      "execution_count": null,
      "outputs": []
    },
    {
      "cell_type": "code",
      "source": [
        "# oder das\n",
        "#help(type(obj))"
      ],
      "metadata": {
        "id": "-CI6Ct3gaFz7"
      },
      "execution_count": null,
      "outputs": []
    },
    {
      "cell_type": "markdown",
      "source": [
        "### Online Dokumentation und Tutorials\n",
        "\n",
        "Wie man sieht ist die \"list.insert\" Funktion nur minimal dokumentiert. Wenn man Anwendungsbeispiele sucht, findet man die am schnellsten mit Hilfe von Google (z.B. \"list insert Python example\") oder ChatGPT (z.B. \"Schreib mir ein kurzes Anwendungsbeispiel für list.insert von Python und erkläre es mir\")"
      ],
      "metadata": {
        "id": "xe-I_V5Tb-ri"
      }
    },
    {
      "cell_type": "markdown",
      "source": [
        "#### Spezielle Methoden mit __\n",
        "\n",
        "Wie man sieht, hat list auch eine Menge Methoden die mit zwei Unterstrichen beginnen. z.B. \\_\\_add\\_\\_ oder \\_\\_len\\_\\_. Diese Funktionen haben in der Regel eine besondere Bedeutung in Python. So wird z.B. in wirklichkeit die list.__add__ Methode aufgerufen wenn man zwei Listen mit Hilfe von **+** addiert. (die zweite Liste wird als Argument übergeben, die erste ist das Objekt deren __add__ Methode aufgerufen wird. Die __add__ Methode gibt dann das Ergebnis der Addition zurück.)\n",
        "\n",
        "Man kann diese speziellen Methoden aber auch einfach direkt aufrufen, macht man nur eher selten.\n",
        "\n",
        "Welche speziellen Methoden es alle gibt, ist in der Python Referenzdokumentation nachlesbar. Das ist jetzt allerdings zunächst nicht so wichtig."
      ],
      "metadata": {
        "id": "pa_x0PYBYB9h"
      }
    },
    {
      "cell_type": "markdown",
      "source": [],
      "metadata": {
        "id": "dRK1c822bfVV"
      }
    },
    {
      "cell_type": "code",
      "source": [
        "meine_liste = [1,2,3]\n",
        "meine_liste.__add__([5,6]) # exakt das gleiche wie: meine_liste + [5,6]"
      ],
      "metadata": {
        "id": "5-cMbEgWXdW6",
        "outputId": "3d16477f-dfe2-4dc8-9a4c-32a30798d5b5",
        "colab": {
          "base_uri": "https://localhost:8080/"
        }
      },
      "execution_count": null,
      "outputs": [
        {
          "output_type": "execute_result",
          "data": {
            "text/plain": [
              "[1, 2, 3, 5, 6]"
            ]
          },
          "metadata": {},
          "execution_count": 32
        }
      ]
    },
    {
      "cell_type": "code",
      "source": [
        "meine_liste.__len__() # exakt das gleiche wie len(meine_liste)"
      ],
      "metadata": {
        "id": "pkfZa-VHZEvq",
        "outputId": "12ae5e5b-bd53-4e61-c0bb-d6dd65eb0302",
        "colab": {
          "base_uri": "https://localhost:8080/"
        }
      },
      "execution_count": null,
      "outputs": [
        {
          "output_type": "execute_result",
          "data": {
            "text/plain": [
              "3"
            ]
          },
          "metadata": {},
          "execution_count": 33
        }
      ]
    },
    {
      "cell_type": "markdown",
      "source": [
        "# Text Parsing & Manipulation\n",
        "\n",
        "Jetzt lernen wir [Text Parsing](https://en.wikipedia.org/wiki/Parsing). Das ist in diesem Kontext definiert als das interpretieren eines Textes anhand von formellen Regeln, so dass am Ende eine maschineninterpretierbare Datenstruktur entsteht welche die Bedeutung des Texts korrekt wiedergibt.\n",
        "\n",
        " In Teil 1 des Kurses hatten wir bereits den Operator **in** Kennengelernt, sowie gelernt wie man Teilstrings ( Slices ) aus einem String extrahiert.\n",
        "\n",
        "Wir beginnen mit sehr simplen Text-Parsing aufgaben, wie z.B. dem **zerlegen von Text** anhand von Separatoren und dem **Bereinigen und Normalisieren** durch einfache Textersetzungen.\n",
        "\n",
        "Anschliessend widmen wir uns einigen **standardisierten Formaten zu**: CSV, JSON und YAML.\n",
        "\n",
        "Abschliessend gehen wir darauf ein, wie man durch **mehrstufiges Parsing** auch Texte interpretiert die man mit einem einzelnen Schritt (oder auch regulären Ausdruck) nicht interpretiert bekommt.\n",
        "\n",
        "Anschliessend gehen wir auf das Thema **Regulaere Ausdruecke ( Regular Expressions )** ein, mit denen bereits beliebig anspruchsvolle Aufgaben ( Muster- und Teilmusterkennung ) ausgefuehrt werden können, insbesondere wenn man sie mit mehrstufigem Parsing kombiniert.\n"
      ],
      "metadata": {
        "id": "Wanr50N93AUr"
      }
    },
    {
      "cell_type": "markdown",
      "source": [
        "### Manuelles Parsing\n",
        "\n",
        "Im folgenden sehen wir einige Beispiele für Parsing von kurzen relativ leicht zu zerlegenden und interpretierenden Texten."
      ],
      "metadata": {
        "id": "qVfkzmoDs_wq"
      }
    },
    {
      "cell_type": "code",
      "source": [
        "# Interpretiere einen Text als eine ganze Zahl\n",
        "\n",
        "a = \" 23\"\n",
        "int(a)"
      ],
      "metadata": {
        "colab": {
          "base_uri": "https://localhost:8080/"
        },
        "id": "gLPNrN7mtOye",
        "outputId": "8372a685-3930-43eb-afb2-d69df9c7884a"
      },
      "execution_count": null,
      "outputs": [
        {
          "output_type": "execute_result",
          "data": {
            "text/plain": [
              "23"
            ]
          },
          "metadata": {},
          "execution_count": 6
        }
      ]
    },
    {
      "cell_type": "code",
      "source": [
        "# Geht das?\n",
        "a = \"Hallo?\"\n",
        "int(a)"
      ],
      "metadata": {
        "colab": {
          "base_uri": "https://localhost:8080/",
          "height": 200
        },
        "id": "jpNQ8DtCtXlm",
        "outputId": "9dcaf100-bead-4956-ebb6-b434bff847c5"
      },
      "execution_count": null,
      "outputs": [
        {
          "output_type": "error",
          "ename": "ValueError",
          "evalue": "ignored",
          "traceback": [
            "\u001b[0;31m---------------------------------------------------------------------------\u001b[0m",
            "\u001b[0;31mValueError\u001b[0m                                Traceback (most recent call last)",
            "\u001b[0;32m<ipython-input-7-8e0bca3b81b8>\u001b[0m in \u001b[0;36m<cell line: 3>\u001b[0;34m()\u001b[0m\n\u001b[1;32m      1\u001b[0m \u001b[0;31m# Geht das?\u001b[0m\u001b[0;34m\u001b[0m\u001b[0;34m\u001b[0m\u001b[0m\n\u001b[1;32m      2\u001b[0m \u001b[0ma\u001b[0m \u001b[0;34m=\u001b[0m \u001b[0;34m\"Hallo?\"\u001b[0m\u001b[0;34m\u001b[0m\u001b[0;34m\u001b[0m\u001b[0m\n\u001b[0;32m----> 3\u001b[0;31m \u001b[0mint\u001b[0m\u001b[0;34m(\u001b[0m\u001b[0ma\u001b[0m\u001b[0;34m)\u001b[0m\u001b[0;34m\u001b[0m\u001b[0;34m\u001b[0m\u001b[0m\n\u001b[0m",
            "\u001b[0;31mValueError\u001b[0m: invalid literal for int() with base 10: 'Hallo?'"
          ]
        }
      ]
    },
    {
      "cell_type": "code",
      "source": [
        "# Beispiel fuer einen simplen Parser mit Ausnahmebehandlung\n",
        "def parse_as_int(s, default_value=-1):\n",
        "  try:\n",
        "    return int(s)\n",
        "  except:\n",
        "    return default_value\n",
        "\n",
        "print(parse_as_int(\"23\"))\n",
        "print(parse_as_int(\"Hallo\", \"Hallo ist keine Zahl\"))"
      ],
      "metadata": {
        "colab": {
          "base_uri": "https://localhost:8080/"
        },
        "id": "KIgTWUO4tf7w",
        "outputId": "c4d37eb1-6af0-468b-b4c5-c7de3905107d"
      },
      "execution_count": null,
      "outputs": [
        {
          "output_type": "stream",
          "name": "stdout",
          "text": [
            "23\n",
            "Hallo ist keine Zahl\n"
          ]
        }
      ]
    },
    {
      "cell_type": "code",
      "source": [
        "# Floating-Point Zahl parsen?\n",
        "def parse_as_float(s, default_value=float('NaN')):\n",
        "  try:\n",
        "    return float(s)\n",
        "  except:\n",
        "    return default_value\n",
        "\n",
        "print(parse_as_float(\"23.4\"))\n",
        "print(parse_as_float(\"1e-2\"))\n",
        "print(parse_as_float(\"Hallo\"))\n",
        "print(type(parse_as_float(\"Hallo\"))) # nan ist ein float-wert der als \"keine Zahl\" interpretiert wird ( NaN = Not a Number)"
      ],
      "metadata": {
        "colab": {
          "base_uri": "https://localhost:8080/"
        },
        "id": "g2LOC5LQynB9",
        "outputId": "234c7f57-9cf4-410b-9ea4-6b648c9e893f"
      },
      "execution_count": null,
      "outputs": [
        {
          "output_type": "stream",
          "name": "stdout",
          "text": [
            "23.4\n",
            "0.01\n",
            "nan\n",
            "<class 'float'>\n"
          ]
        }
      ]
    },
    {
      "cell_type": "code",
      "source": [
        "# Kategorische Werte parsen?\n",
        "\n",
        "color_code_map = {\n",
        "    \"red\" : 1,\n",
        "    \"blue\" : 2,\n",
        "    \"unknown\" : 0\n",
        "}\n",
        "\n",
        "def parse_color_code(s):\n",
        "  return color_code_map.get(s, 0)\n",
        "\n",
        "print(parse_color_code(\"red\"))\n",
        "print(parse_color_code(\"blue\"))\n",
        "print(parse_color_code(\"Blue\")) # klappt nicht, weil B grossgeschrieben\n",
        "print(parse_color_code(\"Blue\".lower())) # normalisiert klappt das"
      ],
      "metadata": {
        "colab": {
          "base_uri": "https://localhost:8080/"
        },
        "id": "EjYkrO2uzIcG",
        "outputId": "13066e1d-7e50-4339-c43c-73a106859edc"
      },
      "execution_count": null,
      "outputs": [
        {
          "output_type": "stream",
          "name": "stdout",
          "text": [
            "1\n",
            "2\n",
            "0\n",
            "2\n"
          ]
        }
      ]
    },
    {
      "cell_type": "markdown",
      "source": [],
      "metadata": {
        "id": "PMrjX-niMePV"
      }
    },
    {
      "cell_type": "markdown",
      "source": [
        "#### Übung\n",
        "\n",
        "Schreib eine Funktion **zahl_interpretieren**, die einen String als Input erwartet, und den input \"nothing\" in 0 und \"very much\" in 1000 verwandelt, und ansonsten davon ausgeht dass der Text als eine (int) Zahl interpretierbar und diese zurückliefert. Falls es dann nicht als Zahl interpretierbar ist, soll irgend eine Exception geworfen werden."
      ],
      "metadata": {
        "id": "s0AlW_nSNXOZ"
      }
    },
    {
      "cell_type": "code",
      "source": [
        "# code hier einfügen"
      ],
      "metadata": {
        "id": "4a2udlCWatyJ"
      },
      "execution_count": null,
      "outputs": []
    },
    {
      "cell_type": "markdown",
      "source": [],
      "metadata": {
        "id": "TC9hoJ6jQ7Rx"
      }
    },
    {
      "cell_type": "markdown",
      "source": [
        "#### In Text suchen\n",
        "\n",
        "Wir hatten bereits das Thema, dass man mit Hilfe des **in** Operators feststellen kann ob ein Substring in einem anderen String enthalten ist ( oder ein Wert in einer Liste, Set, Dict oder ähnlichem enthalten ist). Aber was wenn wir die genaue Position eines Substrings finden müssen? z.B. weil wir dahinter einen Wert ausschneiden müssen? Dazu bietet die String Klasse ebenfalls Methoden an die das ermöglichen, insbesondere **str.find** (vorwärts suchen) und **str.rfind** (rückwärst suchen) Schauen wir uns erstmal die Dokumentation zu str.find an, bevor wir sie verwenden:\n"
      ],
      "metadata": {
        "id": "EKfHaLUzPEJJ"
      }
    },
    {
      "cell_type": "code",
      "source": [
        "help(str.find)"
      ],
      "metadata": {
        "id": "k1jmazt3fIhx",
        "outputId": "efc851ad-bc29-4b3d-b750-e29a2778613d",
        "colab": {
          "base_uri": "https://localhost:8080/"
        }
      },
      "execution_count": null,
      "outputs": [
        {
          "output_type": "stream",
          "name": "stdout",
          "text": [
            "Help on method_descriptor:\n",
            "\n",
            "find(...)\n",
            "    S.find(sub[, start[, end]]) -> int\n",
            "    \n",
            "    Return the lowest index in S where substring sub is found,\n",
            "    such that sub is contained within S[start:end].  Optional\n",
            "    arguments start and end are interpreted as in slice notation.\n",
            "    \n",
            "    Return -1 on failure.\n",
            "\n"
          ]
        }
      ]
    },
    {
      "cell_type": "code",
      "source": [
        "#  Beispiel für string.find\n",
        "\n",
        "ein_text = \"Zu Essen gab es: Hühnchen. Zu trinken gab es: Cola.\"\n",
        "zweiter_text= \"Zu trinken gab es Wasser. Zu essen gab es: Spaghetti Bolognese.\"\n"
      ],
      "metadata": {
        "id": "BFKsdU-RgaMx"
      },
      "execution_count": 8,
      "outputs": []
    },
    {
      "cell_type": "code",
      "source": [
        "# finden wir heraus was es zu trinken gab\n",
        "def was_gab_es_zu_essen(s):\n",
        "  essen_pos = s.find(\"Zu Essen gab es:\")\n",
        "  essen_endpos = s.find(\".\", essen_pos)\n",
        "  essen = s[essen_pos:essen_endpos]\n",
        "  return essen\n",
        "\n",
        "was_gab_es_zu_essen(ein_text)"
      ],
      "metadata": {
        "colab": {
          "base_uri": "https://localhost:8080/",
          "height": 36
        },
        "id": "5wB0gqnKj31R",
        "outputId": "e8ebc6cc-0f1f-44bd-c595-6f6ece6376ce"
      },
      "execution_count": 3,
      "outputs": [
        {
          "output_type": "execute_result",
          "data": {
            "text/plain": [
              "'Zu Essen gab es: Hühnchen'"
            ],
            "application/vnd.google.colaboratory.intrinsic+json": {
              "type": "string"
            }
          },
          "metadata": {},
          "execution_count": 3
        }
      ]
    },
    {
      "cell_type": "code",
      "source": [
        "# Übung: Schreib die Funktion so um, dass nur 'Hühnchen' zurückgegeben wird.\n",
        "# Code hier einfügen"
      ],
      "metadata": {
        "id": "Fm6-36oMlq-r"
      },
      "execution_count": null,
      "outputs": []
    },
    {
      "cell_type": "code",
      "source": [
        "# Uebung: Warum klappt das hier nicht? Finde das Problem\n",
        "# bau dir dazu print Statements in die Funktion ein, um herauszufinden ab welchem Punkt das ganze von dem abweicht was du erwarten würdest\n",
        "# Bau fann if Statements ein, die einen RuntimeError werfen wenn ein Text nicht gefunden wurde (zurückgegebene Position = -1)\n",
        "# Abschliessend: behebe das Problem, so dass wir hier \"Spaghetti Bolognese\" erhalten.\n",
        "was_gab_es_zu_essen(zweiter_text)"
      ],
      "metadata": {
        "colab": {
          "base_uri": "https://localhost:8080/",
          "height": 36
        },
        "id": "SIc1isYwkwGX",
        "outputId": "db76fb1c-7b0c-4099-8bd1-b8483e0e1757"
      },
      "execution_count": 11,
      "outputs": [
        {
          "output_type": "execute_result",
          "data": {
            "text/plain": [
              "''"
            ],
            "application/vnd.google.colaboratory.intrinsic+json": {
              "type": "string"
            }
          },
          "metadata": {},
          "execution_count": 11
        }
      ]
    },
    {
      "cell_type": "markdown",
      "source": [
        "### Text zerteilen\n",
        "\n",
        "Eine sehr wichtige grundlegende Operation ist es, Text anhand von Separatoren zu zerlegen. Eine der einfachsten Möglichkeiten dies zu tun ist die **split** Methode von Strings. Wenn **meinstring** ein String ist ( vom Typ \"str\" ) dann ruft man **meinstr.split(separator)** auf, wobei **separator** ein anderer String ist der als Separator dient.\n",
        "\n"
      ],
      "metadata": {
        "id": "wjptjJdMNr88"
      }
    },
    {
      "cell_type": "code",
      "source": [
        "help(str.split)"
      ],
      "metadata": {
        "id": "oR6TOzilfP2A",
        "outputId": "a621410b-eb80-4395-d499-12fcf81bb4fa",
        "colab": {
          "base_uri": "https://localhost:8080/"
        }
      },
      "execution_count": null,
      "outputs": [
        {
          "output_type": "stream",
          "name": "stdout",
          "text": [
            "Help on method_descriptor:\n",
            "\n",
            "split(self, /, sep=None, maxsplit=-1)\n",
            "    Return a list of the substrings in the string, using sep as the separator string.\n",
            "    \n",
            "      sep\n",
            "        The separator used to split the string.\n",
            "    \n",
            "        When set to None (the default value), will split on any whitespace\n",
            "        character (including \\\\n \\\\r \\\\t \\\\f and spaces) and will discard\n",
            "        empty strings from the result.\n",
            "      maxsplit\n",
            "        Maximum number of splits (starting from the left).\n",
            "        -1 (the default value) means no limit.\n",
            "    \n",
            "    Note, str.split() is mainly useful for data that has been intentionally\n",
            "    delimited.  With natural text that includes punctuation, consider using\n",
            "    the regular expression module.\n",
            "\n"
          ]
        }
      ]
    },
    {
      "cell_type": "code",
      "source": [
        "# Jetzt ein Beispiel\n",
        "zeile = \"12;239$;C23: Yes, C24:No;127\"\n",
        "werte = zeile.split(\";\")\n",
        "print(werte)"
      ],
      "metadata": {
        "colab": {
          "base_uri": "https://localhost:8080/",
          "height": 0
        },
        "id": "waN8qjruuHeH",
        "outputId": "bc834757-981f-4d41-c6a4-d1ade2e0e752"
      },
      "execution_count": 19,
      "outputs": [
        {
          "output_type": "stream",
          "name": "stdout",
          "text": [
            "['12', '239$', 'C23: Yes, C24:No', '127']\n"
          ]
        }
      ]
    },
    {
      "cell_type": "code",
      "source": [
        "# Man kann auch gleich den Rückgabewert in mehrere Variablen zurueckgeben wenn man weiss dass es immmer eine feste Anzahl ist\n",
        "product_id, price, results, tester = zeile.split(\";\")\n",
        "print(f\"product_id={substance_id}, quality_test_passed={results}\")"
      ],
      "metadata": {
        "colab": {
          "base_uri": "https://localhost:8080/",
          "height": 209
        },
        "id": "kWjkGuaYudY7",
        "outputId": "55d8bd35-232c-475c-990b-9a6b8e7c55aa"
      },
      "execution_count": 20,
      "outputs": [
        {
          "output_type": "error",
          "ename": "NameError",
          "evalue": "ignored",
          "traceback": [
            "\u001b[0;31m---------------------------------------------------------------------------\u001b[0m",
            "\u001b[0;31mNameError\u001b[0m                                 Traceback (most recent call last)",
            "\u001b[0;32m<ipython-input-20-4a27a9be8999>\u001b[0m in \u001b[0;36m<cell line: 3>\u001b[0;34m()\u001b[0m\n\u001b[1;32m      1\u001b[0m \u001b[0;31m# Man kann auch gleich den Rückgabewert in mehrere Variablen zurueckgeben wenn man weiss dass es immmer eine feste Anzahl ist\u001b[0m\u001b[0;34m\u001b[0m\u001b[0;34m\u001b[0m\u001b[0m\n\u001b[1;32m      2\u001b[0m \u001b[0mproduct_id\u001b[0m\u001b[0;34m,\u001b[0m \u001b[0mprice\u001b[0m\u001b[0;34m,\u001b[0m \u001b[0mresults\u001b[0m\u001b[0;34m,\u001b[0m \u001b[0mtester\u001b[0m \u001b[0;34m=\u001b[0m \u001b[0mzeile\u001b[0m\u001b[0;34m.\u001b[0m\u001b[0msplit\u001b[0m\u001b[0;34m(\u001b[0m\u001b[0;34m\";\"\u001b[0m\u001b[0;34m)\u001b[0m\u001b[0;34m\u001b[0m\u001b[0;34m\u001b[0m\u001b[0m\n\u001b[0;32m----> 3\u001b[0;31m \u001b[0mprint\u001b[0m\u001b[0;34m(\u001b[0m\u001b[0;34mf\"product_id={substance_id}, quality_test_passed={results}\"\u001b[0m\u001b[0;34m)\u001b[0m\u001b[0;34m\u001b[0m\u001b[0;34m\u001b[0m\u001b[0m\n\u001b[0m",
            "\u001b[0;31mNameError\u001b[0m: name 'substance_id' is not defined"
          ]
        }
      ]
    },
    {
      "cell_type": "markdown",
      "source": [
        "### Mehrstufiges Parsing\n",
        "\n",
        "In dem Beispiel oben befinden sich zwei Ebenen, einmal die Ebene die mit Semikolon separiert ist, und dann noch ein Feld das wiederum in sich mit Kommas separiert ist, und darin finden sich Name: Wert zuordnungen. Wie interpretiert / parst man so etwas?\n",
        "\n",
        "Hier ein Beispiel.\n",
        "\n"
      ],
      "metadata": {
        "id": "tL8ZpKVgnrRi"
      }
    },
    {
      "cell_type": "code",
      "source": [
        "\n",
        "\n",
        "def parse_results_str(results_str : str) -> dict[str,str]:\n",
        "    \"\"\"\n",
        "    Zerlegt einen einzelnen results_str wie \"C23: Yes, C24:No\"\n",
        "    \"\"\"\n",
        "    results = {} # rueckgabewert dict das wir gleich befuellen wollen\n",
        "    teilergebnisse_liste = results_str.split(\",\")\n",
        "    # jetzt muesste teilergebnisse_liste sowas wie [\"C23: Yes\", \"C24:No\" ] sein.\n",
        "    # zerlegen wir jeden Eintrag weiter\n",
        "    for teilergebnis in teilergebnisse_liste:\n",
        "      # teilergebnis ist sowas wie \"C23: Yes\"\n",
        "      key, value = teilergebnis.split(\":\") # gibt uns zwei Werte\n",
        "      key = key.strip() # leerzeichen am anfang und ende entfernen\n",
        "      value = value.strip().lower() # leerzeichen am anfang und ende entfernen und kleinschreiben\n",
        "      # Sicherheitspruefung: Wir nehmen an, dass jeder key nur einmal vorkommt. Sonst Fehlermeldung\n",
        "      assert key not in results, f\"Eintrag {key} ist doppelt vorhanden\"\n",
        "      # jetzt koennen wir das in das Resultat packen\n",
        "      results[key] = value\n",
        "\n",
        "    return results # alles zurueckgeben\n",
        "\n",
        "\n",
        "\n"
      ],
      "metadata": {
        "id": "uw7BFelJu5Ug"
      },
      "execution_count": 23,
      "outputs": []
    },
    {
      "cell_type": "code",
      "source": [
        "# Ausprobieren\n",
        "parse_results_str(\"C23: Yes, C24: No\")"
      ],
      "metadata": {
        "colab": {
          "base_uri": "https://localhost:8080/",
          "height": 0
        },
        "id": "yiFzxcAd8IVS",
        "outputId": "f4203f1e-4e9b-4c01-9f1d-15d8f510058c"
      },
      "execution_count": 24,
      "outputs": [
        {
          "output_type": "execute_result",
          "data": {
            "text/plain": [
              "{'C23': 'yes', 'C24': 'no'}"
            ]
          },
          "metadata": {},
          "execution_count": 24
        }
      ]
    },
    {
      "cell_type": "code",
      "source": [
        "def parse_zeile(zeile):\n",
        "    \"\"\"\n",
        "    Parst eine Zeile wie \"12;239$;C23: Yes, C24:No;239\"\n",
        "    \"\"\"\n",
        "    substance_id_str, price_str, results_str, study_str = zeile.split(\";\")\n",
        "    price = float(price_str.replace(\"$\", \"\")) # Dollarzeichen entfernen und in float konvertieren\n",
        "    substance_id = int(substance_id_str) # in Integer konvertieren\n",
        "    study_id = int(study_str)\n",
        "    results_dict : dict[str,str] = parse_results_str(results_str)\n",
        "    resultate = {\n",
        "        \"product_id\" : substance_id,\n",
        "        \"tester_id\" : study_id,\n",
        "        \"quality_tests\" : results_dict,\n",
        "        \"price\" : price\n",
        "    }\n",
        "    return resultate\n"
      ],
      "metadata": {
        "id": "J8qUIl9A7yLA"
      },
      "execution_count": null,
      "outputs": []
    },
    {
      "cell_type": "code",
      "source": [
        "# Ausprobieren\n",
        "parse_zeile(\"12;239$;C23: Yes, C24:No;127\")\n"
      ],
      "metadata": {
        "colab": {
          "base_uri": "https://localhost:8080/",
          "height": 0
        },
        "id": "v_69VUTI8UdC",
        "outputId": "ce9bad55-8293-43d2-85d6-4a7bb79c7066"
      },
      "execution_count": 25,
      "outputs": [
        {
          "output_type": "execute_result",
          "data": {
            "text/plain": [
              "{'product_id': 12,\n",
              " 'tester_id': 127,\n",
              " 'quality_tests': {'C23': 'yes', 'C24': 'no'},\n",
              " 'price': 239.0}"
            ]
          },
          "metadata": {},
          "execution_count": 25
        }
      ]
    },
    {
      "cell_type": "markdown",
      "source": [
        "### Übung\n",
        "\n",
        "Bitte den Code genau lesen und nachvollziehen was passiert. Bau **print** Statements ein um nachzuvollziehen was an welchem Punkt passiert wenn nötig."
      ],
      "metadata": {
        "id": "BA01pWBboYJU"
      }
    },
    {
      "cell_type": "code",
      "source": [
        "# Code hier einfuegen\n",
        "# am besten mit noch mehr Beispielen ueben"
      ],
      "metadata": {
        "id": "VGGU_YIyCZHk"
      },
      "execution_count": null,
      "outputs": []
    },
    {
      "cell_type": "markdown",
      "source": [
        "#### Übungen ( Vorschläge, gerne experimentieren )\n",
        "\n",
        "* Schreib die Funktionen oben so um, dass anstatt von \"yes\" oder \"no\" ein Wert von **True** oder **False** zurueckgebeben wird in den Detail-Results.\n",
        "* Erzeuge ein paar Varianten fuer input-Zeilen und pass ggf. den Code an um mit diesen Inputs klarzukommen.\n",
        "* Bau eine Fallunterscheidung ein: Wenn ein bestimmter Text im String vorkommt, verwende den einen Parser, wenn er nicht vorkommt einen anderen. (Dazu kannst du das \"in\" Keyword verwenden, siehe Teil 1 )\n"
      ],
      "metadata": {
        "id": "4AxHMp5ayNX9"
      }
    },
    {
      "cell_type": "code",
      "source": [
        "# Code hier einfügen"
      ],
      "metadata": {
        "id": "PIMnPlWTChg6"
      },
      "execution_count": null,
      "outputs": []
    },
    {
      "cell_type": "markdown",
      "source": [
        "\n",
        "### CSV, JSON & YAML\n",
        "\n",
        "CSV, JSON und YAML sind gaengige textbasierte Datenformate die gut Menschen- und Maschinenlesbar sind.\n",
        "\n",
        "Das obige Resultat laesst sich sehr gut in JSON oder YAML uebersetzen, um es in besser Maschinenlesbarer Form abzulegen:\n",
        "\n"
      ],
      "metadata": {
        "id": "GpqmA-ibpHN_"
      }
    },
    {
      "cell_type": "code",
      "source": [
        "import json\n",
        "import yaml"
      ],
      "metadata": {
        "id": "BspDZjun2NSJ"
      },
      "execution_count": null,
      "outputs": []
    },
    {
      "cell_type": "code",
      "source": [
        "# Aus dem geparsten Dictionary einen String im JSON Format machen, mit Hilfe von json.dumps(...)\n",
        "json_str = json.dumps(parse_zeile(zeile), indent=2)\n",
        "json_str"
      ],
      "metadata": {
        "colab": {
          "base_uri": "https://localhost:8080/",
          "height": 35
        },
        "id": "N4qCDVmW2t5m",
        "outputId": "09ecac48-cf74-4c0f-dd45-e83e7d643e88"
      },
      "execution_count": null,
      "outputs": [
        {
          "output_type": "execute_result",
          "data": {
            "text/plain": [
              "'{\\n  \"substance_id\": 12,\\n  \"study_id\": 239,\\n  \"results\": {\\n    \"C23\": \"yes\",\\n    \"C24\": \"no\"\\n  },\\n  \"price\": 239.0\\n}'"
            ],
            "application/vnd.google.colaboratory.intrinsic+json": {
              "type": "string"
            }
          },
          "metadata": {},
          "execution_count": 177
        }
      ]
    },
    {
      "cell_type": "code",
      "source": [
        "# oben wurden Zeilenumbrüche als \\n ausgegeben und das ganze in Anführungszeichen gepackt. Der eigentliche Text sieht so aus:\n",
        "print(json_str)"
      ],
      "metadata": {
        "colab": {
          "base_uri": "https://localhost:8080/"
        },
        "id": "EigO7ef22eof",
        "outputId": "e0b24c3b-cf0f-4b72-ab67-d92f52b835cd"
      },
      "execution_count": null,
      "outputs": [
        {
          "output_type": "stream",
          "name": "stdout",
          "text": [
            "{\n",
            "  \"substance_id\": 12,\n",
            "  \"study_id\": 239,\n",
            "  \"results\": {\n",
            "    \"C23\": \"yes\",\n",
            "    \"C24\": \"no\"\n",
            "  },\n",
            "  \"price\": 239.0\n",
            "}\n"
          ]
        }
      ]
    },
    {
      "cell_type": "code",
      "source": [
        "# it's just a string, see\n",
        "print(json_str[10:20])"
      ],
      "metadata": {
        "colab": {
          "base_uri": "https://localhost:8080/"
        },
        "id": "rn-uhkSC4tj9",
        "outputId": "a1d0d0bf-413c-4e5a-a6ee-21fa9384441c"
      },
      "execution_count": null,
      "outputs": [
        {
          "output_type": "stream",
          "name": "stdout",
          "text": [
            "ance_id\": \n"
          ]
        }
      ]
    },
    {
      "cell_type": "code",
      "source": [
        "# Das schoene ist, wir koennten den String speichern, spaeter laden und dann die Daten wiederherstellen, einfach so\n",
        "# mit json.loads. Man kann so einen json string auch einfach in ein Feld einer Pandas Tabelle packen...\n",
        "result = json.loads(json_str)"
      ],
      "metadata": {
        "id": "4O_5szLl2_VO"
      },
      "execution_count": null,
      "outputs": []
    },
    {
      "cell_type": "code",
      "source": [
        "# Das hier ist kein String\n",
        "result[\"price\"]"
      ],
      "metadata": {
        "colab": {
          "base_uri": "https://localhost:8080/"
        },
        "id": "SjqRW5dW4zcI",
        "outputId": "6d58d849-ff3e-437c-b350-e05d2e9c4bd1"
      },
      "execution_count": null,
      "outputs": [
        {
          "output_type": "execute_result",
          "data": {
            "text/plain": [
              "239.0"
            ]
          },
          "metadata": {},
          "execution_count": 183
        }
      ]
    },
    {
      "cell_type": "code",
      "source": [
        "# ganz aehnlich geht das mit dem YAML parser / generator\n",
        "# der etwas leichter zu lesen ist\n",
        "yaml_str = yaml.safe_dump(parse_zeile(zeile), indent=2)\n",
        "print(yaml_str)"
      ],
      "metadata": {
        "colab": {
          "base_uri": "https://localhost:8080/"
        },
        "id": "YZ7aq6Zc7ezO",
        "outputId": "798486d8-aa00-436a-e170-013fab89ec53"
      },
      "execution_count": null,
      "outputs": [
        {
          "output_type": "stream",
          "name": "stdout",
          "text": [
            "price: 239.0\n",
            "results:\n",
            "  C23: 'yes'\n",
            "  C24: 'no'\n",
            "study_id: 239\n",
            "substance_id: 12\n",
            "\n"
          ]
        }
      ]
    },
    {
      "cell_type": "code",
      "source": [
        "# Das YAML kann man auch automatisch parsen lassen\n",
        "result2 = yaml.safe_load(yaml_str)\n",
        "print(result2)"
      ],
      "metadata": {
        "colab": {
          "base_uri": "https://localhost:8080/"
        },
        "id": "OmBSWnS07y8i",
        "outputId": "6c5d96d8-bfb1-4499-e5cb-cbc3beb1c53d"
      },
      "execution_count": null,
      "outputs": [
        {
          "output_type": "stream",
          "name": "stdout",
          "text": [
            "{'price': 239.0, 'results': {'C23': 'yes', 'C24': 'no'}, 'study_id': 239, 'substance_id': 12}\n"
          ]
        }
      ]
    },
    {
      "cell_type": "markdown",
      "source": [
        "### Anwendungsbeispiele\n",
        "\n",
        "Man kann JSON hervorragend benutzen, um komplexere Datenfelder in denen Listen, Dictionaries oder sogar geschachtelte Datenstrukturen ohne festes Schema in Datenbankfeldern abzulegen und sie hinterher dennoch gut auswerten zu können.\n",
        "\n",
        "JSON und YAML Parser gibt es für quasi jede Programmiersprache und auch in vielen SQL Dialekten.\n",
        "\n",
        "#### Warnung zu YAML\n",
        "\n",
        "YAML wird heutzutage gerne anstelle von JSON verwendet. Das Format hat aber seine Tücken wo man sie nicht erwartet. Daher würde ich wenn die Wahl besteht, immer JSON nutzen."
      ],
      "metadata": {
        "id": "ywlnda6qpKvx"
      }
    },
    {
      "cell_type": "markdown",
      "source": [
        "#### CSV\n",
        "\n",
        "Das vermutlich einfachste Format ist CSV, was für \"Comma Separated Values\" steht. Es repräsentiert Tabellen einfach als Textdatei mit einer Textzeile pro Tabellenzeile, wobei jede Spalte durch einen Separator getrennt wird ( typischerweise durch Komma, Tab-Charakter oder Semikolon ).\n",
        "\n",
        "Das CSV Format kann in verschiedenen Varianten auftreten, bei denen z.B. die Werte manchmal in Anführungszeichen gesetzt werden oder nicht, mit Headern oder ohne usw.\n",
        "\n",
        "Das hier ist ein ganz typisches CSV:\n",
        "\n",
        "```\n",
        "CUSTOMER_ID;ORDER_ID;UNIT_PRICE;AMOUNT;NAME\n",
        "1;32832;28.4$;4;iPad Schutzhülle A9\n",
        "2;32833;9.99$;4;Panzerglas Huawei Mate 20\n",
        "```\n",
        "usw..\n",
        "\n",
        "alternativ ist aber auch dies eine CSV\n",
        "\n",
        "```\n",
        "\"customer id\",\"order id\",\"unit price\",\"amount\",\"name\"\n",
        "1;32832;\"28.4$\";4;\"iPad Schutzhülle A9\"\n",
        "2;32833;\"9.99$\";4;\"Panzerglas, Huawei Mate 20\"\n",
        "```\n",
        "\n",
        "in diesem Beispiel zeigt sich auch direkt eines der gängigen Probleme dieser Formate: Wie geht man mit Zeichen um, die eine besondere Bedeutung haben? Im Feld \"Panzerglas, Huawei Mate 20\" findet sich ein Komma. Das ist nur deshalb kein Problem, weil der Text in Anführungszeichen ist. Dennoch kann man jetzt nicht mehr einfach die Zeile anhand von Kommas trennen um an alle Werte zu gelangen. Ein richtiger **CSV Parser** muss her.\n",
        "\n",
        "Glücklicherweise gibt es ja **pandas**..."
      ],
      "metadata": {
        "id": "lzCQxrLH2IzH"
      }
    },
    {
      "cell_type": "code",
      "source": [
        "# Beginnen wir mit dem Import\n",
        "import pandas\n",
        "import io"
      ],
      "metadata": {
        "id": "Rrx13qMOpRI4"
      },
      "execution_count": null,
      "outputs": []
    },
    {
      "cell_type": "code",
      "source": [
        "csv_text = \"\"\"\n",
        "\"customer id\";\"order id\";\"unit price\";\"amount\";\"name\"\n",
        "1;32832;\"28.4$\";4;\"iPad Schutzhülle A9\"\n",
        "2;32833;\"9.99$\";4;\"Panzerglas; Huawei Mate 20\"\n",
        "\"\"\"\n",
        "\n",
        "csv_io = io.StringIO(csv_text.strip()) # das brauchen wir, weil es nicht aus einer Datei kommt\n",
        "\n",
        "df = pandas.read_csv(csv_io, sep=\";\")\n",
        "df"
      ],
      "metadata": {
        "id": "xusN_KqW3PXL",
        "colab": {
          "base_uri": "https://localhost:8080/",
          "height": 112
        },
        "outputId": "fe07b2bd-8fcd-4a5c-aca4-543d18c29632"
      },
      "execution_count": null,
      "outputs": [
        {
          "output_type": "execute_result",
          "data": {
            "text/plain": [
              "   customer id  order id unit price  amount                        name\n",
              "0            1     32832      28.4$       4         iPad Schutzhülle A9\n",
              "1            2     32833      9.99$       4  Panzerglas; Huawei Mate 20"
            ],
            "text/html": [
              "\n",
              "\n",
              "  <div id=\"df-f81ab38d-3ade-4246-9717-4851ce7cb4ab\">\n",
              "    <div class=\"colab-df-container\">\n",
              "      <div>\n",
              "<style scoped>\n",
              "    .dataframe tbody tr th:only-of-type {\n",
              "        vertical-align: middle;\n",
              "    }\n",
              "\n",
              "    .dataframe tbody tr th {\n",
              "        vertical-align: top;\n",
              "    }\n",
              "\n",
              "    .dataframe thead th {\n",
              "        text-align: right;\n",
              "    }\n",
              "</style>\n",
              "<table border=\"1\" class=\"dataframe\">\n",
              "  <thead>\n",
              "    <tr style=\"text-align: right;\">\n",
              "      <th></th>\n",
              "      <th>customer id</th>\n",
              "      <th>order id</th>\n",
              "      <th>unit price</th>\n",
              "      <th>amount</th>\n",
              "      <th>name</th>\n",
              "    </tr>\n",
              "  </thead>\n",
              "  <tbody>\n",
              "    <tr>\n",
              "      <th>0</th>\n",
              "      <td>1</td>\n",
              "      <td>32832</td>\n",
              "      <td>28.4$</td>\n",
              "      <td>4</td>\n",
              "      <td>iPad Schutzhülle A9</td>\n",
              "    </tr>\n",
              "    <tr>\n",
              "      <th>1</th>\n",
              "      <td>2</td>\n",
              "      <td>32833</td>\n",
              "      <td>9.99$</td>\n",
              "      <td>4</td>\n",
              "      <td>Panzerglas; Huawei Mate 20</td>\n",
              "    </tr>\n",
              "  </tbody>\n",
              "</table>\n",
              "</div>\n",
              "      <button class=\"colab-df-convert\" onclick=\"convertToInteractive('df-f81ab38d-3ade-4246-9717-4851ce7cb4ab')\"\n",
              "              title=\"Convert this dataframe to an interactive table.\"\n",
              "              style=\"display:none;\">\n",
              "\n",
              "  <svg xmlns=\"http://www.w3.org/2000/svg\" height=\"24px\"viewBox=\"0 0 24 24\"\n",
              "       width=\"24px\">\n",
              "    <path d=\"M0 0h24v24H0V0z\" fill=\"none\"/>\n",
              "    <path d=\"M18.56 5.44l.94 2.06.94-2.06 2.06-.94-2.06-.94-.94-2.06-.94 2.06-2.06.94zm-11 1L8.5 8.5l.94-2.06 2.06-.94-2.06-.94L8.5 2.5l-.94 2.06-2.06.94zm10 10l.94 2.06.94-2.06 2.06-.94-2.06-.94-.94-2.06-.94 2.06-2.06.94z\"/><path d=\"M17.41 7.96l-1.37-1.37c-.4-.4-.92-.59-1.43-.59-.52 0-1.04.2-1.43.59L10.3 9.45l-7.72 7.72c-.78.78-.78 2.05 0 2.83L4 21.41c.39.39.9.59 1.41.59.51 0 1.02-.2 1.41-.59l7.78-7.78 2.81-2.81c.8-.78.8-2.07 0-2.86zM5.41 20L4 18.59l7.72-7.72 1.47 1.35L5.41 20z\"/>\n",
              "  </svg>\n",
              "      </button>\n",
              "\n",
              "\n",
              "\n",
              "    <div id=\"df-b40fcf04-d974-4ec5-95d2-05fe30450308\">\n",
              "      <button class=\"colab-df-quickchart\" onclick=\"quickchart('df-b40fcf04-d974-4ec5-95d2-05fe30450308')\"\n",
              "              title=\"Suggest charts.\"\n",
              "              style=\"display:none;\">\n",
              "\n",
              "<svg xmlns=\"http://www.w3.org/2000/svg\" height=\"24px\"viewBox=\"0 0 24 24\"\n",
              "     width=\"24px\">\n",
              "    <g>\n",
              "        <path d=\"M19 3H5c-1.1 0-2 .9-2 2v14c0 1.1.9 2 2 2h14c1.1 0 2-.9 2-2V5c0-1.1-.9-2-2-2zM9 17H7v-7h2v7zm4 0h-2V7h2v10zm4 0h-2v-4h2v4z\"/>\n",
              "    </g>\n",
              "</svg>\n",
              "      </button>\n",
              "    </div>\n",
              "\n",
              "<style>\n",
              "  .colab-df-quickchart {\n",
              "    background-color: #E8F0FE;\n",
              "    border: none;\n",
              "    border-radius: 50%;\n",
              "    cursor: pointer;\n",
              "    display: none;\n",
              "    fill: #1967D2;\n",
              "    height: 32px;\n",
              "    padding: 0 0 0 0;\n",
              "    width: 32px;\n",
              "  }\n",
              "\n",
              "  .colab-df-quickchart:hover {\n",
              "    background-color: #E2EBFA;\n",
              "    box-shadow: 0px 1px 2px rgba(60, 64, 67, 0.3), 0px 1px 3px 1px rgba(60, 64, 67, 0.15);\n",
              "    fill: #174EA6;\n",
              "  }\n",
              "\n",
              "  [theme=dark] .colab-df-quickchart {\n",
              "    background-color: #3B4455;\n",
              "    fill: #D2E3FC;\n",
              "  }\n",
              "\n",
              "  [theme=dark] .colab-df-quickchart:hover {\n",
              "    background-color: #434B5C;\n",
              "    box-shadow: 0px 1px 3px 1px rgba(0, 0, 0, 0.15);\n",
              "    filter: drop-shadow(0px 1px 2px rgba(0, 0, 0, 0.3));\n",
              "    fill: #FFFFFF;\n",
              "  }\n",
              "</style>\n",
              "\n",
              "    <script>\n",
              "      async function quickchart(key) {\n",
              "        const containerElement = document.querySelector('#' + key);\n",
              "        const charts = await google.colab.kernel.invokeFunction(\n",
              "            'suggestCharts', [key], {});\n",
              "      }\n",
              "    </script>\n",
              "\n",
              "      <script>\n",
              "\n",
              "function displayQuickchartButton(domScope) {\n",
              "  let quickchartButtonEl =\n",
              "    domScope.querySelector('#df-b40fcf04-d974-4ec5-95d2-05fe30450308 button.colab-df-quickchart');\n",
              "  quickchartButtonEl.style.display =\n",
              "    google.colab.kernel.accessAllowed ? 'block' : 'none';\n",
              "}\n",
              "\n",
              "        displayQuickchartButton(document);\n",
              "      </script>\n",
              "      <style>\n",
              "    .colab-df-container {\n",
              "      display:flex;\n",
              "      flex-wrap:wrap;\n",
              "      gap: 12px;\n",
              "    }\n",
              "\n",
              "    .colab-df-convert {\n",
              "      background-color: #E8F0FE;\n",
              "      border: none;\n",
              "      border-radius: 50%;\n",
              "      cursor: pointer;\n",
              "      display: none;\n",
              "      fill: #1967D2;\n",
              "      height: 32px;\n",
              "      padding: 0 0 0 0;\n",
              "      width: 32px;\n",
              "    }\n",
              "\n",
              "    .colab-df-convert:hover {\n",
              "      background-color: #E2EBFA;\n",
              "      box-shadow: 0px 1px 2px rgba(60, 64, 67, 0.3), 0px 1px 3px 1px rgba(60, 64, 67, 0.15);\n",
              "      fill: #174EA6;\n",
              "    }\n",
              "\n",
              "    [theme=dark] .colab-df-convert {\n",
              "      background-color: #3B4455;\n",
              "      fill: #D2E3FC;\n",
              "    }\n",
              "\n",
              "    [theme=dark] .colab-df-convert:hover {\n",
              "      background-color: #434B5C;\n",
              "      box-shadow: 0px 1px 3px 1px rgba(0, 0, 0, 0.15);\n",
              "      filter: drop-shadow(0px 1px 2px rgba(0, 0, 0, 0.3));\n",
              "      fill: #FFFFFF;\n",
              "    }\n",
              "  </style>\n",
              "\n",
              "      <script>\n",
              "        const buttonEl =\n",
              "          document.querySelector('#df-f81ab38d-3ade-4246-9717-4851ce7cb4ab button.colab-df-convert');\n",
              "        buttonEl.style.display =\n",
              "          google.colab.kernel.accessAllowed ? 'block' : 'none';\n",
              "\n",
              "        async function convertToInteractive(key) {\n",
              "          const element = document.querySelector('#df-f81ab38d-3ade-4246-9717-4851ce7cb4ab');\n",
              "          const dataTable =\n",
              "            await google.colab.kernel.invokeFunction('convertToInteractive',\n",
              "                                                     [key], {});\n",
              "          if (!dataTable) return;\n",
              "\n",
              "          const docLinkHtml = 'Like what you see? Visit the ' +\n",
              "            '<a target=\"_blank\" href=https://colab.research.google.com/notebooks/data_table.ipynb>data table notebook</a>'\n",
              "            + ' to learn more about interactive tables.';\n",
              "          element.innerHTML = '';\n",
              "          dataTable['output_type'] = 'display_data';\n",
              "          await google.colab.output.renderOutput(dataTable, element);\n",
              "          const docLink = document.createElement('div');\n",
              "          docLink.innerHTML = docLinkHtml;\n",
              "          element.appendChild(docLink);\n",
              "        }\n",
              "      </script>\n",
              "    </div>\n",
              "  </div>\n"
            ]
          },
          "metadata": {},
          "execution_count": 209
        }
      ]
    },
    {
      "cell_type": "markdown",
      "source": [
        "## Reguläre Ausdrücke (Regular Expressions)\n",
        "\n",
        "Reguläre Ausdrücke sind eine fortgeschrittene Methode um in Texten zu suchen, Teile auszuschneiden und ggf. zu ersetzen. Dabei wird immer ein Muster-String (die Regular Expression) benutzt, der beschreibt welcher Text genau gesucht wird.\n",
        "\n"
      ],
      "metadata": {
        "id": "hUcY1s7kOZaC"
      }
    },
    {
      "cell_type": "markdown",
      "source": [
        "Zuerst müssen wir das re-Paket importieren:\n"
      ],
      "metadata": {
        "id": "PJdVYgTjGYe3"
      }
    },
    {
      "cell_type": "code",
      "source": [
        "import re # import Regular Expression (re) Package"
      ],
      "metadata": {
        "id": "ASBsZcCYG09h"
      },
      "execution_count": 28,
      "outputs": []
    },
    {
      "cell_type": "markdown",
      "source": [
        "\n",
        "### Exakte Übereinstimmungen mit match\n",
        "Die match-Funktion überprüft, ob der Anfang einer Zeichenkette mit unserem Muster übereinstimmt. ( Benutz **re.fullmatch** wenn sie komplett übereinstimmen muss). Probier es mal aus:\n"
      ],
      "metadata": {
        "id": "n5FKsSYnG4Ck"
      }
    },
    {
      "cell_type": "code",
      "source": [
        "\n",
        "if re.match(\"Hallo\", \"Hallo Welt\"):\n",
        "    print(\"Übereinstimmung gefunden!\")\n",
        "else:\n",
        "    print(\"Keine Übereinstimmung gefunden!\")\n"
      ],
      "metadata": {
        "colab": {
          "base_uri": "https://localhost:8080/"
        },
        "id": "hKclVvQmG__x",
        "outputId": "c7795f28-8fad-4abb-8884-49f963b475e9"
      },
      "execution_count": 29,
      "outputs": [
        {
          "output_type": "stream",
          "name": "stdout",
          "text": [
            "Übereinstimmung gefunden!\n"
          ]
        }
      ]
    },
    {
      "cell_type": "markdown",
      "source": [
        "**re.fullmatch** funktioniert genauso, matcht jedoch nur wenn der gesamte Text mit dem Muster übereinstimmt."
      ],
      "metadata": {
        "id": "WXRPT9NgHqLY"
      }
    },
    {
      "cell_type": "markdown",
      "source": [
        "\n",
        "### Suche im gesamten Text mit search\n",
        "Die search-Funktion sucht das Muster in der gesamten Zeichenkette:\n"
      ],
      "metadata": {
        "id": "zqHvXxEBHClA"
      }
    },
    {
      "cell_type": "code",
      "source": [
        "\n",
        "if re.search(\"Welt\", \"Hallo Welt\"):\n",
        "    print(\"Übereinstimmung gefunden!\")\n",
        "else:\n",
        "    print(\"Keine Übereinstimmung gefunden!\")\n"
      ],
      "metadata": {
        "id": "pMk-QzmXHEgb"
      },
      "execution_count": null,
      "outputs": []
    },
    {
      "cell_type": "markdown",
      "source": [
        "\n",
        "### Escaping in Regular Expressions\n",
        "\n",
        "In diesen Mustern gibt es viele Zeichen die besondere Bedeutung haben, insbesondere haben die meisten Sonderzeichen eine bestimmte Bedeutung die man kennen sollte. Will man also Sonderzeichen matchen, muss man sie mit \\ escapen.\n",
        "\n",
        "Aber **Vorsicht**: Hier gibt es zwei Ebenen des Escapings: Einmal versucht Python das \\ als Escape-Symbol zu interpretieren, und erst danach die re Library. Man muss also entweder raw-Strings verwendnen ( beginnen mit r\" ) oder doppelt escapen ( also \\\\\\\\ statt nur \\ verwenden ).\n",
        "\n",
        "IM folgenden Beispiel wollen wir im Text \"Das ist \\*toll\\* oder?\" nach dem exakten Text \"\\*toll\\*\" suchen."
      ],
      "metadata": {
        "id": "l-dHM8CsIeYY"
      }
    },
    {
      "cell_type": "code",
      "source": [
        "# Klappt nicht, weil * in regulären Ausdrücken eine besondere Bedeutung hat\n",
        "if re.search(\"*toll*\", \"Das ist *toll*, oder?\"):\n",
        "    print(\"Übereinstimmung gefunden!\")\n",
        "else:\n",
        "    print(\"Keine Übereinstimmung gefunden!\")\n"
      ],
      "metadata": {
        "colab": {
          "base_uri": "https://localhost:8080/",
          "height": 399
        },
        "id": "lX1lWvPOJGRT",
        "outputId": "3421f7fe-a027-430e-b90c-53ff54fcadc0"
      },
      "execution_count": 35,
      "outputs": [
        {
          "output_type": "error",
          "ename": "error",
          "evalue": "ignored",
          "traceback": [
            "\u001b[0;31m---------------------------------------------------------------------------\u001b[0m",
            "\u001b[0;31merror\u001b[0m                                     Traceback (most recent call last)",
            "\u001b[0;32m<ipython-input-35-847eb8f32326>\u001b[0m in \u001b[0;36m<cell line: 2>\u001b[0;34m()\u001b[0m\n\u001b[1;32m      1\u001b[0m \u001b[0;31m# Klappt nicht, weil * in regulären Ausdrücken eine besondere Bedeutung hat\u001b[0m\u001b[0;34m\u001b[0m\u001b[0;34m\u001b[0m\u001b[0m\n\u001b[0;32m----> 2\u001b[0;31m \u001b[0;32mif\u001b[0m \u001b[0mre\u001b[0m\u001b[0;34m.\u001b[0m\u001b[0msearch\u001b[0m\u001b[0;34m(\u001b[0m\u001b[0;34m\"*toll*\"\u001b[0m\u001b[0;34m,\u001b[0m \u001b[0;34m\"Das ist *toll*, oder?\"\u001b[0m\u001b[0;34m)\u001b[0m\u001b[0;34m:\u001b[0m\u001b[0;34m\u001b[0m\u001b[0;34m\u001b[0m\u001b[0m\n\u001b[0m\u001b[1;32m      3\u001b[0m     \u001b[0mprint\u001b[0m\u001b[0;34m(\u001b[0m\u001b[0;34m\"Übereinstimmung gefunden!\"\u001b[0m\u001b[0;34m)\u001b[0m\u001b[0;34m\u001b[0m\u001b[0;34m\u001b[0m\u001b[0m\n\u001b[1;32m      4\u001b[0m \u001b[0;32melse\u001b[0m\u001b[0;34m:\u001b[0m\u001b[0;34m\u001b[0m\u001b[0;34m\u001b[0m\u001b[0m\n\u001b[1;32m      5\u001b[0m     \u001b[0mprint\u001b[0m\u001b[0;34m(\u001b[0m\u001b[0;34m\"Keine Übereinstimmung gefunden!\"\u001b[0m\u001b[0;34m)\u001b[0m\u001b[0;34m\u001b[0m\u001b[0;34m\u001b[0m\u001b[0m\n",
            "\u001b[0;32m/usr/lib/python3.10/re.py\u001b[0m in \u001b[0;36msearch\u001b[0;34m(pattern, string, flags)\u001b[0m\n\u001b[1;32m    198\u001b[0m     \"\"\"Scan through string looking for a match to the pattern, returning\n\u001b[1;32m    199\u001b[0m     a Match object, or None if no match was found.\"\"\"\n\u001b[0;32m--> 200\u001b[0;31m     \u001b[0;32mreturn\u001b[0m \u001b[0m_compile\u001b[0m\u001b[0;34m(\u001b[0m\u001b[0mpattern\u001b[0m\u001b[0;34m,\u001b[0m \u001b[0mflags\u001b[0m\u001b[0;34m)\u001b[0m\u001b[0;34m.\u001b[0m\u001b[0msearch\u001b[0m\u001b[0;34m(\u001b[0m\u001b[0mstring\u001b[0m\u001b[0;34m)\u001b[0m\u001b[0;34m\u001b[0m\u001b[0;34m\u001b[0m\u001b[0m\n\u001b[0m\u001b[1;32m    201\u001b[0m \u001b[0;34m\u001b[0m\u001b[0m\n\u001b[1;32m    202\u001b[0m \u001b[0;32mdef\u001b[0m \u001b[0msub\u001b[0m\u001b[0;34m(\u001b[0m\u001b[0mpattern\u001b[0m\u001b[0;34m,\u001b[0m \u001b[0mrepl\u001b[0m\u001b[0;34m,\u001b[0m \u001b[0mstring\u001b[0m\u001b[0;34m,\u001b[0m \u001b[0mcount\u001b[0m\u001b[0;34m=\u001b[0m\u001b[0;36m0\u001b[0m\u001b[0;34m,\u001b[0m \u001b[0mflags\u001b[0m\u001b[0;34m=\u001b[0m\u001b[0;36m0\u001b[0m\u001b[0;34m)\u001b[0m\u001b[0;34m:\u001b[0m\u001b[0;34m\u001b[0m\u001b[0;34m\u001b[0m\u001b[0m\n",
            "\u001b[0;32m/usr/lib/python3.10/re.py\u001b[0m in \u001b[0;36m_compile\u001b[0;34m(pattern, flags)\u001b[0m\n\u001b[1;32m    301\u001b[0m     \u001b[0;32mif\u001b[0m \u001b[0;32mnot\u001b[0m \u001b[0msre_compile\u001b[0m\u001b[0;34m.\u001b[0m\u001b[0misstring\u001b[0m\u001b[0;34m(\u001b[0m\u001b[0mpattern\u001b[0m\u001b[0;34m)\u001b[0m\u001b[0;34m:\u001b[0m\u001b[0;34m\u001b[0m\u001b[0;34m\u001b[0m\u001b[0m\n\u001b[1;32m    302\u001b[0m         \u001b[0;32mraise\u001b[0m \u001b[0mTypeError\u001b[0m\u001b[0;34m(\u001b[0m\u001b[0;34m\"first argument must be string or compiled pattern\"\u001b[0m\u001b[0;34m)\u001b[0m\u001b[0;34m\u001b[0m\u001b[0;34m\u001b[0m\u001b[0m\n\u001b[0;32m--> 303\u001b[0;31m     \u001b[0mp\u001b[0m \u001b[0;34m=\u001b[0m \u001b[0msre_compile\u001b[0m\u001b[0;34m.\u001b[0m\u001b[0mcompile\u001b[0m\u001b[0;34m(\u001b[0m\u001b[0mpattern\u001b[0m\u001b[0;34m,\u001b[0m \u001b[0mflags\u001b[0m\u001b[0;34m)\u001b[0m\u001b[0;34m\u001b[0m\u001b[0;34m\u001b[0m\u001b[0m\n\u001b[0m\u001b[1;32m    304\u001b[0m     \u001b[0;32mif\u001b[0m \u001b[0;32mnot\u001b[0m \u001b[0;34m(\u001b[0m\u001b[0mflags\u001b[0m \u001b[0;34m&\u001b[0m \u001b[0mDEBUG\u001b[0m\u001b[0;34m)\u001b[0m\u001b[0;34m:\u001b[0m\u001b[0;34m\u001b[0m\u001b[0;34m\u001b[0m\u001b[0m\n\u001b[1;32m    305\u001b[0m         \u001b[0;32mif\u001b[0m \u001b[0mlen\u001b[0m\u001b[0;34m(\u001b[0m\u001b[0m_cache\u001b[0m\u001b[0;34m)\u001b[0m \u001b[0;34m>=\u001b[0m \u001b[0m_MAXCACHE\u001b[0m\u001b[0;34m:\u001b[0m\u001b[0;34m\u001b[0m\u001b[0;34m\u001b[0m\u001b[0m\n",
            "\u001b[0;32m/usr/lib/python3.10/sre_compile.py\u001b[0m in \u001b[0;36mcompile\u001b[0;34m(p, flags)\u001b[0m\n\u001b[1;32m    786\u001b[0m     \u001b[0;32mif\u001b[0m \u001b[0misstring\u001b[0m\u001b[0;34m(\u001b[0m\u001b[0mp\u001b[0m\u001b[0;34m)\u001b[0m\u001b[0;34m:\u001b[0m\u001b[0;34m\u001b[0m\u001b[0;34m\u001b[0m\u001b[0m\n\u001b[1;32m    787\u001b[0m         \u001b[0mpattern\u001b[0m \u001b[0;34m=\u001b[0m \u001b[0mp\u001b[0m\u001b[0;34m\u001b[0m\u001b[0;34m\u001b[0m\u001b[0m\n\u001b[0;32m--> 788\u001b[0;31m         \u001b[0mp\u001b[0m \u001b[0;34m=\u001b[0m \u001b[0msre_parse\u001b[0m\u001b[0;34m.\u001b[0m\u001b[0mparse\u001b[0m\u001b[0;34m(\u001b[0m\u001b[0mp\u001b[0m\u001b[0;34m,\u001b[0m \u001b[0mflags\u001b[0m\u001b[0;34m)\u001b[0m\u001b[0;34m\u001b[0m\u001b[0;34m\u001b[0m\u001b[0m\n\u001b[0m\u001b[1;32m    789\u001b[0m     \u001b[0;32melse\u001b[0m\u001b[0;34m:\u001b[0m\u001b[0;34m\u001b[0m\u001b[0;34m\u001b[0m\u001b[0m\n\u001b[1;32m    790\u001b[0m         \u001b[0mpattern\u001b[0m \u001b[0;34m=\u001b[0m \u001b[0;32mNone\u001b[0m\u001b[0;34m\u001b[0m\u001b[0;34m\u001b[0m\u001b[0m\n",
            "\u001b[0;32m/usr/lib/python3.10/sre_parse.py\u001b[0m in \u001b[0;36mparse\u001b[0;34m(str, flags, state)\u001b[0m\n\u001b[1;32m    953\u001b[0m \u001b[0;34m\u001b[0m\u001b[0m\n\u001b[1;32m    954\u001b[0m     \u001b[0;32mtry\u001b[0m\u001b[0;34m:\u001b[0m\u001b[0;34m\u001b[0m\u001b[0;34m\u001b[0m\u001b[0m\n\u001b[0;32m--> 955\u001b[0;31m         \u001b[0mp\u001b[0m \u001b[0;34m=\u001b[0m \u001b[0m_parse_sub\u001b[0m\u001b[0;34m(\u001b[0m\u001b[0msource\u001b[0m\u001b[0;34m,\u001b[0m \u001b[0mstate\u001b[0m\u001b[0;34m,\u001b[0m \u001b[0mflags\u001b[0m \u001b[0;34m&\u001b[0m \u001b[0mSRE_FLAG_VERBOSE\u001b[0m\u001b[0;34m,\u001b[0m \u001b[0;36m0\u001b[0m\u001b[0;34m)\u001b[0m\u001b[0;34m\u001b[0m\u001b[0;34m\u001b[0m\u001b[0m\n\u001b[0m\u001b[1;32m    956\u001b[0m     \u001b[0;32mexcept\u001b[0m \u001b[0mVerbose\u001b[0m\u001b[0;34m:\u001b[0m\u001b[0;34m\u001b[0m\u001b[0;34m\u001b[0m\u001b[0m\n\u001b[1;32m    957\u001b[0m         \u001b[0;31m# the VERBOSE flag was switched on inside the pattern.  to be\u001b[0m\u001b[0;34m\u001b[0m\u001b[0;34m\u001b[0m\u001b[0m\n",
            "\u001b[0;32m/usr/lib/python3.10/sre_parse.py\u001b[0m in \u001b[0;36m_parse_sub\u001b[0;34m(source, state, verbose, nested)\u001b[0m\n\u001b[1;32m    442\u001b[0m     \u001b[0mstart\u001b[0m \u001b[0;34m=\u001b[0m \u001b[0msource\u001b[0m\u001b[0;34m.\u001b[0m\u001b[0mtell\u001b[0m\u001b[0;34m(\u001b[0m\u001b[0;34m)\u001b[0m\u001b[0;34m\u001b[0m\u001b[0;34m\u001b[0m\u001b[0m\n\u001b[1;32m    443\u001b[0m     \u001b[0;32mwhile\u001b[0m \u001b[0;32mTrue\u001b[0m\u001b[0;34m:\u001b[0m\u001b[0;34m\u001b[0m\u001b[0;34m\u001b[0m\u001b[0m\n\u001b[0;32m--> 444\u001b[0;31m         itemsappend(_parse(source, state, verbose, nested + 1,\n\u001b[0m\u001b[1;32m    445\u001b[0m                            not nested and not items))\n\u001b[1;32m    446\u001b[0m         \u001b[0;32mif\u001b[0m \u001b[0;32mnot\u001b[0m \u001b[0msourcematch\u001b[0m\u001b[0;34m(\u001b[0m\u001b[0;34m\"|\"\u001b[0m\u001b[0;34m)\u001b[0m\u001b[0;34m:\u001b[0m\u001b[0;34m\u001b[0m\u001b[0;34m\u001b[0m\u001b[0m\n",
            "\u001b[0;32m/usr/lib/python3.10/sre_parse.py\u001b[0m in \u001b[0;36m_parse\u001b[0;34m(source, state, verbose, nested, first)\u001b[0m\n\u001b[1;32m    667\u001b[0m                 \u001b[0mitem\u001b[0m \u001b[0;34m=\u001b[0m \u001b[0;32mNone\u001b[0m\u001b[0;34m\u001b[0m\u001b[0;34m\u001b[0m\u001b[0m\n\u001b[1;32m    668\u001b[0m             \u001b[0;32mif\u001b[0m \u001b[0;32mnot\u001b[0m \u001b[0mitem\u001b[0m \u001b[0;32mor\u001b[0m \u001b[0mitem\u001b[0m\u001b[0;34m[\u001b[0m\u001b[0;36m0\u001b[0m\u001b[0;34m]\u001b[0m\u001b[0;34m[\u001b[0m\u001b[0;36m0\u001b[0m\u001b[0;34m]\u001b[0m \u001b[0;32mis\u001b[0m \u001b[0mAT\u001b[0m\u001b[0;34m:\u001b[0m\u001b[0;34m\u001b[0m\u001b[0;34m\u001b[0m\u001b[0m\n\u001b[0;32m--> 669\u001b[0;31m                 raise source.error(\"nothing to repeat\",\n\u001b[0m\u001b[1;32m    670\u001b[0m                                    source.tell() - here + len(this))\n\u001b[1;32m    671\u001b[0m             \u001b[0;32mif\u001b[0m \u001b[0mitem\u001b[0m\u001b[0;34m[\u001b[0m\u001b[0;36m0\u001b[0m\u001b[0;34m]\u001b[0m\u001b[0;34m[\u001b[0m\u001b[0;36m0\u001b[0m\u001b[0;34m]\u001b[0m \u001b[0;32min\u001b[0m \u001b[0m_REPEATCODES\u001b[0m\u001b[0;34m:\u001b[0m\u001b[0;34m\u001b[0m\u001b[0;34m\u001b[0m\u001b[0m\n",
            "\u001b[0;31merror\u001b[0m: nothing to repeat at position 0"
          ]
        }
      ]
    },
    {
      "cell_type": "code",
      "source": [
        "# Klappt nicht, weil Python denkt es soll das * escapen\n",
        "if re.search(\"\\*toll\\*\", \"Das ist *toll*, oder?\"):\n",
        "    print(\"Übereinstimmung gefunden!\")\n",
        "else:\n",
        "    print(\"Keine Übereinstimmung gefunden!\")"
      ],
      "metadata": {
        "colab": {
          "base_uri": "https://localhost:8080/",
          "height": 246
        },
        "id": "YMaKhSGBKLcx",
        "outputId": "f843514f-d6e9-4ccc-9b3f-0b4cb6ba9b15"
      },
      "execution_count": 34,
      "outputs": [
        {
          "output_type": "error",
          "ename": "AttributeError",
          "evalue": "ignored",
          "traceback": [
            "\u001b[0;31m---------------------------------------------------------------------------\u001b[0m",
            "\u001b[0;31mAttributeError\u001b[0m                            Traceback (most recent call last)",
            "\u001b[0;32m<ipython-input-34-5be5a109a278>\u001b[0m in \u001b[0;36m<cell line: 2>\u001b[0;34m()\u001b[0m\n\u001b[1;32m      1\u001b[0m \u001b[0;31m# Klappt nicht, weil Python denkt es soll das * escapen\u001b[0m\u001b[0;34m\u001b[0m\u001b[0;34m\u001b[0m\u001b[0m\n\u001b[0;32m----> 2\u001b[0;31m \u001b[0;32mif\u001b[0m \u001b[0mre\u001b[0m\u001b[0;34m.\u001b[0m\u001b[0mfind\u001b[0m\u001b[0;34m(\u001b[0m\u001b[0;34m\"\\*toll\\*\"\u001b[0m\u001b[0;34m,\u001b[0m \u001b[0;34m\"Das ist *toll*, oder?\"\u001b[0m\u001b[0;34m)\u001b[0m\u001b[0;34m:\u001b[0m\u001b[0;34m\u001b[0m\u001b[0;34m\u001b[0m\u001b[0m\n\u001b[0m\u001b[1;32m      3\u001b[0m     \u001b[0mprint\u001b[0m\u001b[0;34m(\u001b[0m\u001b[0;34m\"Übereinstimmung gefunden!\"\u001b[0m\u001b[0;34m)\u001b[0m\u001b[0;34m\u001b[0m\u001b[0;34m\u001b[0m\u001b[0m\n\u001b[1;32m      4\u001b[0m \u001b[0;32melse\u001b[0m\u001b[0;34m:\u001b[0m\u001b[0;34m\u001b[0m\u001b[0;34m\u001b[0m\u001b[0m\n\u001b[1;32m      5\u001b[0m     \u001b[0mprint\u001b[0m\u001b[0;34m(\u001b[0m\u001b[0;34m\"Keine Übereinstimmung gefunden!\"\u001b[0m\u001b[0;34m)\u001b[0m\u001b[0;34m\u001b[0m\u001b[0;34m\u001b[0m\u001b[0m\n",
            "\u001b[0;31mAttributeError\u001b[0m: module 're' has no attribute 'find'"
          ]
        }
      ]
    },
    {
      "cell_type": "code",
      "source": [
        "# Klappt, weil wir escaping machen, aber Python nicht versucht das \\ zu interpretieren, weil es ein Raw-String ist\n",
        "if re.search(r\"\\*toll\\*\", \"Das ist *toll*, oder?\"):\n",
        "    print(\"Übereinstimmung gefunden!\")\n",
        "else:\n",
        "    print(\"Keine Übereinstimmung gefunden!\")"
      ],
      "metadata": {
        "colab": {
          "base_uri": "https://localhost:8080/"
        },
        "id": "i2EQ1QU1KcFz",
        "outputId": "f50fb294-435d-40eb-f25c-e2b36a329a12"
      },
      "execution_count": 37,
      "outputs": [
        {
          "output_type": "stream",
          "name": "stdout",
          "text": [
            "Übereinstimmung gefunden!\n"
          ]
        }
      ]
    },
    {
      "cell_type": "code",
      "source": [
        "# Klappt auch, weil wir doppelt escapen\n",
        "if re.search(\"\\\\*toll\\\\*\", \"Das ist *toll*, oder?\"):\n",
        "    print(\"Übereinstimmung gefunden!\")\n",
        "else:\n",
        "    print(\"Keine Übereinstimmung gefunden!\")"
      ],
      "metadata": {
        "colab": {
          "base_uri": "https://localhost:8080/"
        },
        "id": "P4WtTDwZLRYR",
        "outputId": "772920ae-201c-4f67-ed5b-202c70f5472e"
      },
      "execution_count": 44,
      "outputs": [
        {
          "output_type": "stream",
          "name": "stdout",
          "text": [
            "Übereinstimmung gefunden!\n"
          ]
        }
      ]
    },
    {
      "cell_type": "markdown",
      "source": [
        "### Quoting\n",
        "\n",
        "Manchmal will man einen String mit vielen Sonderzeichen exakt matchen, weiss aber nicht genau vorher welche Zeichen man escapen müsste. Dazu gibt es die Funktion **re.escape**. Sie automatisiert das escaping:"
      ],
      "metadata": {
        "id": "cJU2cNuJLeB7"
      }
    },
    {
      "cell_type": "code",
      "source": [
        "re.escape(\"*text*\")\n",
        "# Dieser STring wird von Jupyter Notebook so ausgegeben dass wir ihn in Python code kopieren könnten. Eigentlich ist der nicht doppelt escaped."
      ],
      "metadata": {
        "colab": {
          "base_uri": "https://localhost:8080/",
          "height": 36
        },
        "id": "RNDeytIBLuFk",
        "outputId": "bbfc034b-ce8a-4064-8eb7-8effe627e450"
      },
      "execution_count": 47,
      "outputs": [
        {
          "output_type": "execute_result",
          "data": {
            "text/plain": [
              "'\\\\*text\\\\*'"
            ],
            "application/vnd.google.colaboratory.intrinsic+json": {
              "type": "string"
            }
          },
          "metadata": {},
          "execution_count": 47
        }
      ]
    },
    {
      "cell_type": "code",
      "source": [
        "# wie man hier sieht\n",
        "print(re.escape(\"*text*\"))"
      ],
      "metadata": {
        "colab": {
          "base_uri": "https://localhost:8080/"
        },
        "id": "P7GaLLndMJfm",
        "outputId": "3886ec95-4622-4850-f8ab-1ab4ab6a1354"
      },
      "execution_count": 48,
      "outputs": [
        {
          "output_type": "stream",
          "name": "stdout",
          "text": [
            "\\*text\\*\n"
          ]
        }
      ]
    },
    {
      "cell_type": "code",
      "source": [
        "# Klappt auch, weil wir automatisch escapen\n",
        "if re.search(re.escape(\"*toll*\"), \"Das ist *toll*, oder?\"):\n",
        "    print(\"Übereinstimmung gefunden!\")\n",
        "else:\n",
        "    print(\"Keine Übereinstimmung gefunden!\")"
      ],
      "metadata": {
        "colab": {
          "base_uri": "https://localhost:8080/"
        },
        "id": "Pmh-e2z7L87L",
        "outputId": "3ff71383-4470-4ae8-9aff-e183ab70ad2d"
      },
      "execution_count": 55,
      "outputs": [
        {
          "output_type": "stream",
          "name": "stdout",
          "text": [
            "Übereinstimmung gefunden!\n"
          ]
        }
      ]
    },
    {
      "cell_type": "markdown",
      "source": [
        "\n",
        "### Charakterklassen\n",
        "Du kannst auch Charakterklassen erstellen. Mit den eckigen Klammern [] definierst du eine Menge von Zeichen, die du matchen möchtest. D\n",
        "\n"
      ],
      "metadata": {
        "id": "SASQ03qyHKVw"
      }
    },
    {
      "cell_type": "code",
      "source": [
        "\n",
        "if re.match(\"[Hh]allo\", \"hallo Welt\"):\n",
        "    print(\"Übereinstimmung gefunden!\")\n",
        "else:\n",
        "    print(\"Keine Übereinstimmung gefunden!\")\n"
      ],
      "metadata": {
        "id": "eeUyV68PHMQE"
      },
      "execution_count": null,
      "outputs": []
    },
    {
      "cell_type": "code",
      "source": [
        "Man kann in diesen Charakterklassen auch Buchstabenbereiche ( z.b. \"von a bis z\") so angeben:"
      ],
      "metadata": {
        "id": "tkYiA5s0U-sO"
      },
      "execution_count": null,
      "outputs": []
    },
    {
      "cell_type": "code",
      "source": [
        "if re.match(\"[a-z]\", \"d\"):\n",
        "    print(\"Übereinstimmung gefunden!\")\n",
        "else:\n",
        "    print(\"Keine Übereinstimmung gefunden!\")\n"
      ],
      "metadata": {
        "colab": {
          "base_uri": "https://localhost:8080/"
        },
        "id": "m_MycUG8VQo0",
        "outputId": "af829312-7c2c-4476-fbcf-db4e9f311ef0"
      },
      "execution_count": 56,
      "outputs": [
        {
          "output_type": "stream",
          "name": "stdout",
          "text": [
            "Übereinstimmung gefunden!\n"
          ]
        }
      ]
    },
    {
      "cell_type": "code",
      "source": [
        "# Und das kann man auch aneinanderhängen\n",
        "if re.match(\"[a-zA-Z0-9öäüß]\", \"9\"):\n",
        "    print(\"Übereinstimmung gefunden!\")\n",
        "else:\n",
        "    print(\"Keine Übereinstimmung gefunden!\")\n",
        "\n"
      ],
      "metadata": {
        "colab": {
          "base_uri": "https://localhost:8080/"
        },
        "id": "9w5SoB_SVXm5",
        "outputId": "ab4bb92b-2d81-4ab9-e140-2d9288db1975"
      },
      "execution_count": 58,
      "outputs": [
        {
          "output_type": "stream",
          "name": "stdout",
          "text": [
            "Übereinstimmung gefunden!\n"
          ]
        }
      ]
    },
    {
      "cell_type": "markdown",
      "source": [
        "### Such ein Beispiel für einen String, bei dem obiger Ausdruck *nicht* passen würde."
      ],
      "metadata": {
        "id": "du62SNz4V1A3"
      }
    },
    {
      "cell_type": "code",
      "source": [
        "# hier \"d\" durch deinen String ersetzen\n",
        "if re.match(\"[a-zA-Z0-9öäüß]\", \"d\"):\n",
        "    print(\"Übereinstimmung gefunden!\")\n",
        "else:\n",
        "    print(\"Keine Übereinstimmung gefunden!\")"
      ],
      "metadata": {
        "id": "_2ACZE3aWALV"
      },
      "execution_count": null,
      "outputs": []
    },
    {
      "cell_type": "markdown",
      "source": [],
      "metadata": {
        "id": "S2NxRn24V-Ch"
      }
    },
    {
      "cell_type": "markdown",
      "source": [
        "### Charakterklassen Negation\n",
        "\n",
        "EIne Charakterklasse die mit ^ beginnt wird invertiert\n",
        "\n"
      ],
      "metadata": {
        "id": "VZrRIOqUHbAH"
      }
    },
    {
      "cell_type": "code",
      "source": [
        "if re.match(\"[^A-Z]\", \"Hallo\"):\n",
        "    print(\"Übereinstimmung gefunden!\")\n",
        "else:\n",
        "    print(\"Keine Übereinstimmung gefunden!\")\n",
        "\n"
      ],
      "metadata": {
        "colab": {
          "base_uri": "https://localhost:8080/"
        },
        "id": "jrXLS6h-He7p",
        "outputId": "78d42e00-dd3c-4c75-9541-f4087121c630"
      },
      "execution_count": 59,
      "outputs": [
        {
          "output_type": "stream",
          "name": "stdout",
          "text": [
            "Keine Übereinstimmung gefunden!\n"
          ]
        }
      ]
    },
    {
      "cell_type": "code",
      "source": [
        "if re.match(\"[^A-Z]\", \"3\"):\n",
        "    print(\"Übereinstimmung gefunden!\")\n",
        "else:\n",
        "    print(\"Keine Übereinstimmung gefunden!\")\n"
      ],
      "metadata": {
        "colab": {
          "base_uri": "https://localhost:8080/"
        },
        "id": "PjFang2JXkru",
        "outputId": "f2d46bc6-bf18-442d-cd2d-0199d53643ad"
      },
      "execution_count": 60,
      "outputs": [
        {
          "output_type": "stream",
          "name": "stdout",
          "text": [
            "Übereinstimmung gefunden!\n"
          ]
        }
      ]
    },
    {
      "cell_type": "markdown",
      "source": [
        "### Wiederholungen\n",
        "Mit * definierst du, dass das vorherige Zeichen (genaugenommen der vorherige Ausdruck) null oder beliebig oft wiederholt werden kann. Mit + wird der vorherige Ausdruck mindestens einmal wiederholt. Mit ? wird der vorherige Ausdruck einmal oder null mal wiederholt (er ist optional). In geschweiften Klammern kannst du minimale und maximale Anzahl an\n",
        "wiederholungen angeben.\n"
      ],
      "metadata": {
        "id": "3imoRY5uHixl"
      }
    },
    {
      "cell_type": "code",
      "source": [
        "\n",
        "if re.match(\"Ho*la\", \"Hoooola\"):\n",
        "    print(\"Übereinstimmung gefunden!\")\n",
        "else:\n",
        "    print(\"Keine Übereinstimmung gefunden!\")\n"
      ],
      "metadata": {
        "colab": {
          "base_uri": "https://localhost:8080/"
        },
        "id": "NgBN8Mo7X1Kp",
        "outputId": "4f1c57da-7d82-46db-c1ab-c1b2b3ec3b66"
      },
      "execution_count": 62,
      "outputs": [
        {
          "output_type": "stream",
          "name": "stdout",
          "text": [
            "Übereinstimmung gefunden!\n"
          ]
        }
      ]
    },
    {
      "cell_type": "code",
      "source": [
        "if re.match(\"Ho*la\", \"Hla\"):\n",
        "    print(\"Übereinstimmung gefunden!\")\n",
        "else:\n",
        "    print(\"Keine Übereinstimmung gefunden!\")\n"
      ],
      "metadata": {
        "colab": {
          "base_uri": "https://localhost:8080/"
        },
        "id": "mA4GfkQlYlR2",
        "outputId": "e979375e-fd0f-4488-88c5-5e5209cbce8c"
      },
      "execution_count": 63,
      "outputs": [
        {
          "output_type": "stream",
          "name": "stdout",
          "text": [
            "Übereinstimmung gefunden!\n"
          ]
        }
      ]
    },
    {
      "cell_type": "code",
      "source": [
        "if re.match(\"Ho+la\", \"Hla\"):\n",
        "    print(\"Übereinstimmung gefunden!\")\n",
        "else:\n",
        "    print(\"Keine Übereinstimmung gefunden!\")\n"
      ],
      "metadata": {
        "colab": {
          "base_uri": "https://localhost:8080/"
        },
        "id": "bGQCiVrMYnP6",
        "outputId": "b2f071dc-c5dd-4893-a7f5-715924a49bc9"
      },
      "execution_count": 64,
      "outputs": [
        {
          "output_type": "stream",
          "name": "stdout",
          "text": [
            "Keine Übereinstimmung gefunden!\n"
          ]
        }
      ]
    },
    {
      "cell_type": "code",
      "source": [
        "\n",
        "if re.match(\"Ho+la\", \"Hoola\"):\n",
        "    print(\"Übereinstimmung gefunden!\")\n",
        "else:\n",
        "    print(\"Keine Übereinstimmung gefunden!\")\n"
      ],
      "metadata": {
        "id": "cgieQFhyYXho"
      },
      "execution_count": null,
      "outputs": []
    },
    {
      "cell_type": "code",
      "source": [
        "\n",
        "Mit Klammern () kannst du eine sogenannte **Gruppe** (oder auch Ausdruck ) erstellen und das resultierende Teilergebis später abrufen.\n"
      ],
      "metadata": {
        "id": "0FFAgmUvYwqY"
      },
      "execution_count": null,
      "outputs": []
    },
    {
      "cell_type": "code",
      "source": [
        "match = re.match(\"H(o+)la\", \"Hoola\")\n",
        "if match:\n",
        "    print(f\"Übereinstimmung gefunden: {match.group(1)}\")\n"
      ],
      "metadata": {
        "colab": {
          "base_uri": "https://localhost:8080/"
        },
        "id": "LIJN6PxoaBGt",
        "outputId": "e5c24898-49ed-4e2b-ce35-d621bbce913c"
      },
      "execution_count": 66,
      "outputs": [
        {
          "output_type": "stream",
          "name": "stdout",
          "text": [
            "Übereinstimmung gefunden: oo\n"
          ]
        }
      ]
    },
    {
      "cell_type": "markdown",
      "source": [
        "Was Wiederholungs-Operatoren betrifft, wenn vor dem Wiederholungs-Operator eine Gruppe steht, so muss die gesamte Gruppe wiederholt werden:\n"
      ],
      "metadata": {
        "id": "TzPSZGoSaXG1"
      }
    },
    {
      "cell_type": "code",
      "source": [
        "# jetzt mal alles zusammen\n",
        "match = re.fullmatch(\"La(ola)+ooh\", \"Laolaolaolaooh\")\n",
        "if match:\n",
        "    print(f\"Übereinstimmung gefunden. Kompletter Match: {match.group(0)},  gruppe 1: {match.group(1)}\")\n",
        "\n"
      ],
      "metadata": {
        "colab": {
          "base_uri": "https://localhost:8080/"
        },
        "id": "R_8AggoRzknm",
        "outputId": "0eda335f-f5cb-43f7-c75b-1125bb561a95"
      },
      "execution_count": 79,
      "outputs": [
        {
          "output_type": "stream",
          "name": "stdout",
          "text": [
            "Übereinstimmung gefunden. Kompletter Match: Laolaolaolaooh,  gruppe 1: ola\n"
          ]
        }
      ]
    },
    {
      "cell_type": "markdown",
      "source": [
        "Hoolaoolaota\n",
        "### Regex Debugger\n",
        "\n",
        "Man sieht an folgendem Beispiel schon, dass selbst mit einfachen Regex Elementen wie denen die wir eben kennengelernt haben, schon recht komplizierte Ausdrücke generiert werden können. Unter https://regex101.com/ gibt es einen Online Regex Tester, der auch einen Regex-Debugger beinhaltet mit dem man testen kann warum ein Muster auf einen String passt oder auch nicht.\n",
        "\n",
        "Das folgende Muster kann man dort gut visualisieren. Dazu einfach auf der linken Seite zunächst Python anklicken, damit die richtige Regex Library verwendet wird. Anschliessend **H((o+[tal]a){1,4})** in das Feld für die Regex kopieren, und Hoolaoolaota in die Textbox darunter.\n",
        "\n",
        "\n",
        "\n"
      ],
      "metadata": {
        "id": "lJJoE6C-zgdc"
      }
    },
    {
      "cell_type": "code",
      "source": [
        "# jetzt mal alles zusammen\n",
        "match = re.fullmatch(\"H((o+[tal]a){1,4})\", \"Hoolaoolaota\") # das {1,4} ist ein Wiederholungs-Operator der sagt: Das vorherige 1 bis 4 mal wiederholen\n",
        "if match:\n",
        "    print(f\"Übereinstimmung gefunden. Kompletter Match: {match.group(0)},  gruppe 1: {match.group(1)} - gruppe 2: {match.group(2)}\")\n"
      ],
      "metadata": {
        "colab": {
          "base_uri": "https://localhost:8080/"
        },
        "id": "70WCM_soanLo",
        "outputId": "640aa61d-ecbe-4ecd-acc6-d74a65e1bd97"
      },
      "execution_count": 80,
      "outputs": [
        {
          "output_type": "stream",
          "name": "stdout",
          "text": [
            "Übereinstimmung gefunden. Kompletter Match: Hoolaoolaota,  gruppe 1: oolaoolaota - gruppe 2: ota\n"
          ]
        }
      ]
    },
    {
      "cell_type": "markdown",
      "source": [
        "\n"
      ],
      "metadata": {
        "id": "593SzswEbg4x"
      }
    },
    {
      "cell_type": "markdown",
      "source": [
        "\n",
        "### Alternativen mit | ( **ODER**)\n",
        "\n",
        "Mit **|** kannst du alternative Ausdrücke definieren (vor allem auch innerhalb einer Gruppe also einer Klasser), es entspricht also einem **ODER**\n"
      ],
      "metadata": {
        "id": "i0OXlKc6aRCj"
      }
    },
    {
      "cell_type": "code",
      "source": [
        "\n",
        "if re.match(\"Hallo|Hi\", \"Hallo\"):\n",
        "    print(\"Übereinstimmung gefunden!\")\n",
        "else:\n",
        "    print(\"Keine Übereinstimmung gefunden!\")\n"
      ],
      "metadata": {
        "colab": {
          "base_uri": "https://localhost:8080/"
        },
        "id": "TbN4ljr53HqZ",
        "outputId": "ed18940a-58a7-4ac9-816b-899a1b678785"
      },
      "execution_count": 94,
      "outputs": [
        {
          "output_type": "stream",
          "name": "stdout",
          "text": [
            "Übereinstimmung gefunden!\n"
          ]
        }
      ]
    },
    {
      "cell_type": "code",
      "source": [
        "suchtext = \"\"\"\n",
        "Ja: Hermann Hesse\n",
        "Nein: Wolfgang Hohlbein\n",
        "Vielleicht: Someone Else\n",
        "Nein: Dick Cheney\n",
        "\"\"\"\n",
        "\n",
        "# Das hier findet alle Zeilen die mit Ja oder Nein beginnen\n",
        "# beachte: Das ^ matcht einen Textanfang, entweder einen Zeilenanfang ( re.MULTILINE wurde übergeben) oder den Anfang des ganzen Texts\n",
        "# und $ matcht das Text- oder Zeilenende ( wieder je nach re.MULTILINE )\n",
        "[ m.group(0) for m in re.finditer(\"^(Ja|Nein).*$\", suchtext, re.MULTILINE) ]\n"
      ],
      "metadata": {
        "colab": {
          "base_uri": "https://localhost:8080/"
        },
        "id": "-dSS-Ss33P64",
        "outputId": "4535ea43-87a7-4336-b1b5-5ec2b9f09b60"
      },
      "execution_count": 93,
      "outputs": [
        {
          "output_type": "execute_result",
          "data": {
            "text/plain": [
              "['Ja: Hermann Hesse', 'Nein: Wolfgang Hohlbein', 'Nein: Dick Cheney']"
            ]
          },
          "metadata": {},
          "execution_count": 93
        }
      ]
    },
    {
      "cell_type": "markdown",
      "source": [
        "    \n",
        "Anfang und Ende mit \\^ und \\$\n",
        "Mit \\^ definiert man den Anfang einer Zeichenkette und mit \\$ das Ende. Dabei macht es allerdings einen Unterschied ob man ein Multiline-Regex baut ( dann matcht es jeden Zeilenanfang und jedes Zeilenende ) oder nicht. Ein Multiline Regex baut man, indem man re.MULTILINE als extra Parameter an die Regex Funktion übergibt.\n"
      ],
      "metadata": {
        "id": "jWXiDxUt4z9Y"
      }
    },
    {
      "cell_type": "code",
      "source": [
        "\n",
        "if re.match(\"^Hallo\", \"Test\\r\\nHallo Welt\", re.MULTILINE):\n",
        "    print(\"Übereinstimmung gefunden!\")\n",
        "else:\n",
        "    print(\"Keine Übereinstimmung gefunden!\")\n"
      ],
      "metadata": {
        "colab": {
          "base_uri": "https://localhost:8080/"
        },
        "id": "HrzQs3Ew41rF",
        "outputId": "0193b505-a08f-40f2-f740-bec4c2cc49aa"
      },
      "execution_count": 96,
      "outputs": [
        {
          "output_type": "stream",
          "name": "stdout",
          "text": [
            "Keine Übereinstimmung gefunden!\n"
          ]
        }
      ]
    },
    {
      "cell_type": "code",
      "source": [
        "\n",
        "if re.search(\"Welt$\", \"Hallo Welt\"):\n",
        "    print(\"Übereinstimmung gefunden!\")\n",
        "else:\n",
        "    print(\"Keine Übereinstimmung gefunden!\")\n"
      ],
      "metadata": {
        "id": "p67Mpw6844f2"
      },
      "execution_count": null,
      "outputs": []
    },
    {
      "cell_type": "code",
      "source": [
        "\n",
        "Flags\n",
        "Mit den Flags re.IGNORECASE und re.MULTILINE kannst du die Groß-/Kleinschreibung ignorieren und die Suche auf mehrere Zeilen ausweiten:\n",
        "\n"
      ],
      "metadata": {
        "id": "6RTA5K7U47Ua"
      },
      "execution_count": null,
      "outputs": []
    },
    {
      "cell_type": "code",
      "source": [
        "\n",
        "if re.search(\"hallo\", \"HALLO Welt\", re.IGNORECASE):\n",
        "    print(\"Übereinstimmung gefunden!\")\n",
        "else:\n",
        "    print(\"Keine Übereinstimmung gefunden!\")\n"
      ],
      "metadata": {
        "id": "rnvJRwP-481g"
      },
      "execution_count": null,
      "outputs": []
    },
    {
      "cell_type": "code",
      "source": [
        "\n",
        "if re.search(\"^Welt\", \"Hallo\\nWelt\", re.MULTILINE):\n",
        "    print(\"Übereinstimmung gefunden!\")\n",
        "else:\n",
        "    print(\"Keine Übereinstimmung gefunden!\")\n",
        "\n"
      ],
      "metadata": {
        "id": "OE-yQIFj495p"
      },
      "execution_count": null,
      "outputs": []
    },
    {
      "cell_type": "code",
      "source": [
        "\n",
        "Die split-Funktion teilt eine Zeichenkette an den Stellen auf, an denen das Muster gefunden wird:\n"
      ],
      "metadata": {
        "id": "TEfWZYw75AIm"
      },
      "execution_count": null,
      "outputs": []
    },
    {
      "cell_type": "code",
      "source": [
        "\n",
        "print(re.split(\"\\s\", \"Hallo Welt\"))  # ['Hallo', 'Welt']\n"
      ],
      "metadata": {
        "id": "9aLyAbs75CL9"
      },
      "execution_count": null,
      "outputs": []
    },
    {
      "cell_type": "code",
      "source": [
        "\n",
        "Alle Übereinstimmungen finden mit findall\n",
        "Die findall-Funktion findet alle Übereinstimmungen in der Zeichenkette:\n"
      ],
      "metadata": {
        "id": "2lq8OslR5FiS"
      },
      "execution_count": null,
      "outputs": []
    },
    {
      "cell_type": "code",
      "source": [
        "\n",
        "python\n",
        "Copy code\n",
        "print(re.findall(\"[a-z]+\", \"Hallo Welt\"))  # ['allo', 'elt']\n"
      ],
      "metadata": {
        "id": "GvRESfuo5D0Z"
      },
      "execution_count": null,
      "outputs": []
    },
    {
      "cell_type": "code",
      "source": [
        "\n",
        "Mehr Kontrolle mit finditer\n",
        "Die finditer-Funktion ist nützlich, wenn du mehr Kontrolle über den Iterationsprozess benötigst:\n",
        "\n"
      ],
      "metadata": {
        "id": "jeDxWTsT5GwE"
      },
      "execution_count": null,
      "outputs": []
    },
    {
      "cell_type": "code",
      "source": [
        "\n",
        "for match in re.finditer(\"a\", \"abracadabra\"):\n",
        "    print(f\"Übereinstimmung gefunden bei Index: {match.start()}\")\n"
      ],
      "metadata": {
        "id": "IEsgsXyM5IhW"
      },
      "execution_count": null,
      "outputs": []
    },
    {
      "cell_type": "code",
      "source": [
        "\n",
        "Gruppen extrahieren\n",
        "Du kannst Gruppen in Matches extrahieren. Die Gruppen werden von links nach rechts nummeriert, beginnend mit 1. Die Gesamtübereinstimmung ist Gruppe 0:\n",
        "\n"
      ],
      "metadata": {
        "id": "Jdztqe8L5Mh6"
      },
      "execution_count": null,
      "outputs": []
    },
    {
      "cell_type": "code",
      "source": [
        "match = re.match(\"H(o+)(l+)(a)\", \"Hooolla\")\n",
        "if match:\n",
        "    print(f\"Gesamtmatch: {match.group(0)}\")  # Hooolla\n",
        "    print(f\"Erste Gruppe: {match.group(1)}\")  # ooo\n",
        "    print(f\"Zweite Gruppe: {match.group(2)}\")  # lll\n",
        "    print(f\"Dritte Gruppe: {match.group(3)}\")  # a\n",
        "\n"
      ],
      "metadata": {
        "id": "0PPOSBbC5LUq"
      },
      "execution_count": null,
      "outputs": []
    },
    {
      "cell_type": "code",
      "source": [
        "\n",
        "Alle Gruppen kannst du mit der groups()-Methode auf einmal bekommen:\n",
        "\n"
      ],
      "metadata": {
        "id": "riHaTSa15OiC"
      },
      "execution_count": null,
      "outputs": []
    },
    {
      "cell_type": "code",
      "source": [
        "\n",
        "print(match.groups())  # ('ooo', 'lll', 'a')\n"
      ],
      "metadata": {
        "id": "vKa0mJkk5P3b"
      },
      "execution_count": null,
      "outputs": []
    },
    {
      "cell_type": "code",
      "source": [
        "\n",
        "Benannte Gruppen\n",
        "Für komplexere Muster kannst du benannte Gruppen verwenden:\n",
        "\n"
      ],
      "metadata": {
        "id": "gjSEVlPH5Q_K"
      },
      "execution_count": null,
      "outputs": []
    },
    {
      "cell_type": "code",
      "source": [
        "\n",
        "match = re.match(\"H(?P<o>o+)(?P<ls>l+)(?P<a>a)\", \"Hooolla\")\n",
        "if match:\n",
        "    print(f\"os-Gruppe: {match.group('os')}\")  # ooo\n",
        "    print(f\"ls-Gruppe: {match.group('ls')}\")  # lll\n",
        "    print(f\"a-Gruppe: {match.group('a')}\")  # a\n",
        "\n"
      ],
      "metadata": {
        "id": "BrS97F-K5ZVz"
      },
      "execution_count": null,
      "outputs": []
    },
    {
      "cell_type": "markdown",
      "source": [
        "### Beispiele\n",
        "\n",
        "#### Suche nach Namen gefolgt von Doppelpunkt, gefolgt von einer Zahl:\n"
      ],
      "metadata": {
        "id": "fDyNpAYl0U2N"
      }
    },
    {
      "cell_type": "code",
      "source": [
        "for m in re.finditer(\"([a-zA-Zöäüß]+) *: *([0-9]+)\", \"Ergebnisse: Affen: 3, Mäuse: 4 - aber interessanterweise auch: Gurken  :   5\"):\n",
        "  print(f\"Organismus: {m.group(1)} -> Anzahl: {m.group(2)}\")\n",
        "\n",
        "# beachte dass der Doppelpunkt der nicht von einer Zahl gefolgt wird, ignoriert wird, und dass beliebig viele Leerzeichen vor und nach dem Doppelpunkt stehen können."
      ],
      "metadata": {
        "colab": {
          "base_uri": "https://localhost:8080/"
        },
        "id": "Mz2F78-z0fs8",
        "outputId": "c4a395fb-2798-463e-a1e0-55ab27d92ab6"
      },
      "execution_count": 89,
      "outputs": [
        {
          "output_type": "stream",
          "name": "stdout",
          "text": [
            "Organismus: Affen -> Anzahl: 3\n",
            "Organismus: Mäuse -> Anzahl: 4\n",
            "Organismus: Gurken -> Anzahl: 5\n"
          ]
        }
      ]
    },
    {
      "cell_type": "code",
      "source": [
        "\n",
        "# Oder als dict:\n",
        "organismus_zaehlung = {}\n",
        "for m in re.finditer(\"([a-zA-Zöäüß]+): ([0-9]+)\", \"Ergebnisse: Affen: 3, Mäuse: 4 - aber interessanterweise auch: Gurken: 5\"):\n",
        "    organismus = m.group(1)\n",
        "    zahl = int(m.group(2))\n",
        "    organismus_zaehlung[organismus] = zahl\n",
        "\n",
        "\n",
        "# Beachte dass JSON den Umlaut in ein spezielles Escape-Symbol verwandelt\n",
        "print(organismus_zaehlung)\n",
        "\n",
        "\n",
        "\n"
      ],
      "metadata": {
        "colab": {
          "base_uri": "https://localhost:8080/"
        },
        "id": "hfZnnBCC1wdQ",
        "outputId": "6d1c90c7-6dc9-414b-9cce-dac9303e6c41"
      },
      "execution_count": 85,
      "outputs": [
        {
          "output_type": "stream",
          "name": "stdout",
          "text": [
            "{'Affen': 3, 'Mäuse': 4, 'Gurken': 5}\n"
          ]
        }
      ]
    }
  ]
}