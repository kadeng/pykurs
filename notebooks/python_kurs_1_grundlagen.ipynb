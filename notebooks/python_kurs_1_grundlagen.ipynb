{
  "nbformat": 4,
  "nbformat_minor": 0,
  "metadata": {
    "colab": {
      "provenance": [],
      "authorship_tag": "ABX9TyMDzZR6/pYZIarSK1KFQiD9",
      "include_colab_link": true
    },
    "kernelspec": {
      "name": "python3",
      "display_name": "Python 3"
    },
    "language_info": {
      "name": "python"
    }
  },
  "cells": [
    {
      "cell_type": "markdown",
      "metadata": {
        "id": "view-in-github",
        "colab_type": "text"
      },
      "source": [
        "<a href=\"https://colab.research.google.com/github/kadeng/pykurs/blob/main/notebooks/python_kurs_1_grundlagen.ipynb\" target=\"_parent\"><img src=\"https://colab.research.google.com/assets/colab-badge.svg\" alt=\"Open In Colab\"/></a>"
      ]
    },
    {
      "cell_type": "markdown",
      "source": [
        "## Python Kurs\n",
        "\n",
        "Dieses Notebook ist Teil 1, eines kleinen Kurses mit Übungen, in dem auf einige Themen mittleren bis einfachen Komplexitätsgrads eingegangen wird, die in generellen Einführungen zu Python manchmal zu kurz kommen, in der Praxis aber relevant sind.\n"
      ],
      "metadata": {
        "id": "62NmuHb2jHin"
      }
    },
    {
      "cell_type": "markdown",
      "source": [],
      "metadata": {
        "id": "uSCO2_8W6DRq"
      }
    },
    {
      "cell_type": "markdown",
      "source": [
        "### Grundlagen\n",
        "\n",
        "#### Bedingungen ( if, elif, else )\n",
        "\n",
        "Man kann Code bedingt ausführen, dazu stehen die Schlüsselwörter \"if\" \"else\" und \"elif\" ( else if ) zur Verfügung.\n",
        "\n",
        "```python\n",
        "\n",
        "if bedingung:\n",
        "  print(\"bedingung ist Wahr (True)\")\n",
        "else:\n",
        "  print(\"bedingung ist nicht Wahr\")\n",
        "\n",
        "a = 3\n",
        "if a>=5: # wenn a groesser oder gleich 5\n",
        "  print(\"a >= 5\")\n",
        "elif a>=2: # ansonsten, wenn a groesser oder gleich 2\n",
        "  print(\"a >= 2\")\n",
        "else: # ansonsten\n",
        "  print(\"a<2\")\n",
        "```\n",
        "\n",
        "\n",
        "#### Funktionen\n",
        "\n",
        "Funktionen definiert man mit Hilfe des **def** Statements (\"definiere\")"
      ],
      "metadata": {
        "id": "Wanr50N93AUr"
      }
    },
    {
      "cell_type": "code",
      "source": [
        "def sag_hallo(name):\n",
        "  print(f\"Hallo, {name}\")\n"
      ],
      "metadata": {
        "id": "xusN_KqW3PXL"
      },
      "execution_count": null,
      "outputs": []
    },
    {
      "cell_type": "code",
      "source": [
        "sag_hallo(\"Kai\")"
      ],
      "metadata": {
        "colab": {
          "base_uri": "https://localhost:8080/"
        },
        "id": "E4kuCH9i3Us3",
        "outputId": "eaf91e2f-32ae-4a6d-d31a-d6898c96730c"
      },
      "execution_count": null,
      "outputs": [
        {
          "output_type": "stream",
          "name": "stdout",
          "text": [
            "Hallo, Kai\n"
          ]
        }
      ]
    },
    {
      "cell_type": "code",
      "source": [
        "def wie_gross_ist_das(a):\n",
        "  if a>=5:\n",
        "    print(\"a >= 5\")\n",
        "  elif a>=2:\n",
        "    print(\"a >= 2\")\n",
        "  else:\n",
        "    print(\"a<2\")\n",
        "\n",
        "wie_gross_ist_das(4)\n",
        "# Was wird ausgegeben?"
      ],
      "metadata": {
        "colab": {
          "base_uri": "https://localhost:8080/"
        },
        "id": "AL1aDACl65LC",
        "outputId": "0c92a957-2c8f-4aca-8f7f-a7c72d3f7342"
      },
      "execution_count": null,
      "outputs": [
        {
          "output_type": "stream",
          "name": "stdout",
          "text": [
            "a >= 2\n"
          ]
        }
      ]
    },
    {
      "cell_type": "markdown",
      "source": [
        "Die Variablen die in der Funktion am Anfang definiert werden, und denen Werte übergeben werden müssen ( in diesem Beispiel die Variable **name** ) nennt man Parameter. Die Werte die beim **Aufruf** der Funktion der Funktion übergeben werden, nennt man **Argumente**. Das sind aber zwei Begriffe die ständig (auch von mir) verwechselt werden und daher meist austauschbar verwendet werden."
      ],
      "metadata": {
        "id": "XIJZWBsE3bx6"
      }
    },
    {
      "cell_type": "code",
      "source": [
        "def sag_hallo(name): # name ist der Parameter\n",
        "  print(f\"Hallo, {name}\")\n",
        "\n",
        "sag_hallo(\"Kai\") # \"Kai\" ist das Argument für den Parameter \"name\" der Funktion sag_hallo"
      ],
      "metadata": {
        "colab": {
          "base_uri": "https://localhost:8080/"
        },
        "id": "bpdcYeBE3Z-F",
        "outputId": "09c7267d-5843-42de-b55b-d64982ef7f9e"
      },
      "execution_count": null,
      "outputs": [
        {
          "output_type": "stream",
          "name": "stdout",
          "text": [
            "Hallo, Kai\n"
          ]
        }
      ]
    },
    {
      "cell_type": "code",
      "source": [
        "# Funktionen können auch einen oder mehrere Werte zurückgeben\n",
        "\n",
        "def addiere(a, b):\n",
        "  return a+b\n",
        "\n",
        "addiere(10, 5)\n"
      ],
      "metadata": {
        "colab": {
          "base_uri": "https://localhost:8080/"
        },
        "id": "ivMgixPT4JVY",
        "outputId": "6f5ea407-f5bf-4bbb-a891-c4560f44172d"
      },
      "execution_count": null,
      "outputs": [
        {
          "output_type": "execute_result",
          "data": {
            "text/plain": [
              "15"
            ]
          },
          "metadata": {},
          "execution_count": 72
        }
      ]
    },
    {
      "cell_type": "code",
      "source": [
        "def subtraddiere(a,b):\n",
        "  return a+b, a-b # zwei Werte zurückgeben. Es wird automatisch ein Tupel daraus\n"
      ],
      "metadata": {
        "id": "rJJwlVtt4YmM"
      },
      "execution_count": null,
      "outputs": []
    },
    {
      "cell_type": "code",
      "source": [
        "summe, differenz = subtraddiere(10, 5) # Die zwei Werte werden gleichzeitig zwei Variablen zugewiesen. Man sagt, der Rückgabewert wird \"entpackt\"\n",
        "print(f\"Summe ist {summe}, Differenz ist {differenz}\")"
      ],
      "metadata": {
        "colab": {
          "base_uri": "https://localhost:8080/"
        },
        "id": "sIalQzxh4cbE",
        "outputId": "bf4a1bac-147a-469e-cd80-5142ab64ddc0"
      },
      "execution_count": null,
      "outputs": [
        {
          "output_type": "stream",
          "name": "stdout",
          "text": [
            "Summe ist 15, Differenz ist 5\n"
          ]
        }
      ]
    },
    {
      "cell_type": "markdown",
      "source": [
        "#### Übung\n",
        "\n",
        "Definiere eine Funktion mit zwei Parametern, die die Summe und das Produkt (a*b) von zwei Zahlen zurückgibt wenn das zweite Argument grösser oder gleich 0 ist, ansonsten aber die Differenz und das Produkt zurückgibt."
      ],
      "metadata": {
        "id": "_4vG1ufz5SCf"
      }
    },
    {
      "cell_type": "code",
      "source": [
        "# code hier einfuegen"
      ],
      "metadata": {
        "id": "I5Bh3W5YEWVZ"
      },
      "execution_count": null,
      "outputs": []
    },
    {
      "cell_type": "markdown",
      "source": [
        "\n",
        "\n",
        "#### Schleifen\n",
        "\n",
        "Eine sequentielle Schleife schreibt man in Python meistens mit Hilfe einer **for ... in** Schleife. Zum Beispiel so:"
      ],
      "metadata": {
        "id": "gLLtKoDkjkfU"
      }
    },
    {
      "cell_type": "code",
      "execution_count": null,
      "metadata": {
        "colab": {
          "base_uri": "https://localhost:8080/"
        },
        "id": "sLIoeJ0mjAzc",
        "outputId": "d40920cb-2fab-4d92-aedb-21ab7d01a489"
      },
      "outputs": [
        {
          "output_type": "stream",
          "name": "stdout",
          "text": [
            "0\n",
            "1\n",
            "2\n"
          ]
        }
      ],
      "source": [
        "for i in range(3):\n",
        "    print(i)"
      ]
    },
    {
      "cell_type": "markdown",
      "source": [
        "Oder auch so, mit Hilfe einer **while** Schleife, welche effektiv das gleiche erledigt wie die **for ... in** Schleife weiter oben\n"
      ],
      "metadata": {
        "id": "P1j1OsU_kHrw"
      }
    },
    {
      "cell_type": "code",
      "source": [
        "i = 0\n",
        "while i<3:\n",
        "  print(i)\n",
        "  i += 1\n"
      ],
      "metadata": {
        "colab": {
          "base_uri": "https://localhost:8080/"
        },
        "id": "B_M1ae9wkFd1",
        "outputId": "f32736af-aa9e-4203-b2d2-c53681fc2a7e"
      },
      "execution_count": null,
      "outputs": [
        {
          "output_type": "stream",
          "name": "stdout",
          "text": [
            "0\n",
            "1\n",
            "2\n"
          ]
        }
      ]
    },
    {
      "cell_type": "markdown",
      "source": [
        "\n",
        "#### Listen und Sequenzen\n",
        "\n",
        "Aber jetzt mal ein Schritt zurück: Was ist eigentlich dieses **range(5)** in der for-Schleife? Was genau tut es, was gibt es zurück?\n",
        "\n",
        "Offensichtlich wird beim durchlaufen der Schleife i nacheinander jeder der Werte 0, 1 und 2 zugewiesen, bei jedem Schleifendurchlauf ein neuer.\n",
        "\n",
        "Man könnte also auch diese Werte in eine **Liste** packen, und der for-Schleife sagen, sie soll die Werte daraus nehmen. Das ginge so:"
      ],
      "metadata": {
        "id": "HKxL5x1BkxQv"
      }
    },
    {
      "cell_type": "code",
      "source": [
        "for i in [0, 1, 2]:\n",
        "  print(i)"
      ],
      "metadata": {
        "colab": {
          "base_uri": "https://localhost:8080/"
        },
        "id": "y2fIW70MmG5V",
        "outputId": "6d54e4fc-d9e4-4d6a-df4d-45e9f19f0077"
      },
      "execution_count": null,
      "outputs": [
        {
          "output_type": "stream",
          "name": "stdout",
          "text": [
            "0\n",
            "1\n",
            "2\n"
          ]
        }
      ]
    },
    {
      "cell_type": "markdown",
      "source": [
        "Aber das hätte einen gravierenden Nachteil wenn man, sagen wir mal, 20 Millionen Schleifendurchläufe durchlaufen lassen wollte. Man muss dann nämlich 20 Millionen Zahlen in eine Liste schreiben, die dann auch entsprechend Speicherplatz für 20 Millionen Zahlen ( ca. 20.000.000 * 4 = 80 Megabyte ) an Speicher verbraucht. Unnötigerweise, denn eine while-Schleife schafft das ja mit nur zwei Zahlen die im Speicher liegen ( i und das Maximum ab dem aufgehört wird).\n",
        "\n",
        "Aus diese Grund kennt Python etwas, das sich das Konzept einer **Sequenz** nennt. Abstrakt ausgedrückt ist eine Sequenz irgend etwas, aus dem man nacheinander Elemente nehmen kann. Eine Liste ist z.B. eine Sequenz. Aber der Rückgabewert von **range(3)** ist auch eine Sequenz, nur eben keine Liste.\n",
        "\n",
        "Man sagt, die **for..in Schleife iteriert über eine Sequenz**. Und es ist egal, ob diese Sequenz eine Liste ist, ein Tupel oder irgend etwas anderes (z.B. ein Objekt, dazu später mehr ) das Python als Sequenz betrachten kann.\n",
        "\n",
        "Um das ganze zu illustrieren ist hier eine Beispielfunktion ( ein sogenannter **Sequenz-Generator** oder auch **Generator-Function**) die auch eine Sequenz definiert. Die verwendet das neue Keyword **yield** mit dem man eine Funktion dazu bringen kann, nacheinander mehrere Werte zurückzugeben ( über die man dann wieder iterieren kann). **Wichtig** wenn man mit **yield** einen Wert zurückgibt, wird die Funktion nicht beendet sondern nur **pausiert**. Sie wird beim nächsten Schleifendurchlauf einfach fortgesetzt.\n"
      ],
      "metadata": {
        "id": "nNg4W6E_mPI-"
      }
    },
    {
      "cell_type": "code",
      "source": [
        "def myrange(max):\n",
        "  i = 0\n",
        "  while i<max:\n",
        "    yield i\n",
        "    i += 1"
      ],
      "metadata": {
        "id": "cvQipmvWnyUR"
      },
      "execution_count": null,
      "outputs": []
    },
    {
      "cell_type": "markdown",
      "source": [
        "Diese Sequenz kann man jetzt so benutzen wie range:"
      ],
      "metadata": {
        "id": "RA3v-OrroJ--"
      }
    },
    {
      "cell_type": "code",
      "source": [
        "for i in myrange(10):\n",
        "  print(i)"
      ],
      "metadata": {
        "colab": {
          "base_uri": "https://localhost:8080/"
        },
        "id": "XGuMMsJjoJV_",
        "outputId": "776b8be1-3a79-42d0-c1f5-27300d7affd2"
      },
      "execution_count": null,
      "outputs": [
        {
          "output_type": "stream",
          "name": "stdout",
          "text": [
            "0\n",
            "1\n",
            "2\n",
            "3\n",
            "4\n",
            "5\n",
            "6\n",
            "7\n",
            "8\n",
            "9\n"
          ]
        }
      ]
    },
    {
      "cell_type": "markdown",
      "source": [
        "#### Übung\n",
        "\n",
        "Jetzt schreib und benutze eine Variante von **myrange** namens **verdopple_bis** welche zwei Parameter akzeptiert: Einen Startwert (der grösser 0 sein muss) und einen Maximalwert. Die Funktion sollte zuerst den Startwert zurückgeben, und dann mit jedem Durchlauf das doppelte des vorherigen Wertes, solange dieser Wert **kleiner** als der Maximalwert ist."
      ],
      "metadata": {
        "id": "9-2xWWw7onHE"
      }
    },
    {
      "cell_type": "code",
      "source": [
        "# Code hier einfügen"
      ],
      "metadata": {
        "id": "MhCT0n2sphpH"
      },
      "execution_count": null,
      "outputs": []
    },
    {
      "cell_type": "code",
      "source": [
        "# Test\n",
        "\n",
        "for i in verdopple_bis(2, 9):\n",
        "    print(i)\n",
        "\n",
        "# erwartete Ausgabe: 2, 4, 8"
      ],
      "metadata": {
        "id": "l3ulRN0qpjVN"
      },
      "execution_count": null,
      "outputs": []
    },
    {
      "cell_type": "markdown",
      "source": [
        "#### List Comprehensions\n",
        "\n",
        "Vielleicht hast du schon Code gesehen wie diesen. Was tut der eigentlich?\n"
      ],
      "metadata": {
        "id": "riLsFh-sp9x6"
      }
    },
    {
      "cell_type": "code",
      "source": [
        "neue_liste = [ x*10 for x in range(3) ]\n",
        "neue_liste"
      ],
      "metadata": {
        "colab": {
          "base_uri": "https://localhost:8080/"
        },
        "id": "hy5Jmp3Yp0jZ",
        "outputId": "e7b07fc1-f67e-450c-c6c7-c68ce5e51609"
      },
      "execution_count": null,
      "outputs": [
        {
          "output_type": "execute_result",
          "data": {
            "text/plain": [
              "[0, 10, 20]"
            ]
          },
          "metadata": {},
          "execution_count": 13
        }
      ]
    },
    {
      "cell_type": "markdown",
      "source": [
        "Das ganze ist nur eine Kurzfassung für den folgenden Code, um eine Liste anzulegen die einen bestimmten Inhalt hat:"
      ],
      "metadata": {
        "id": "cSWjlMR_qUuy"
      }
    },
    {
      "cell_type": "code",
      "source": [
        "neue_liste = [] # leere Liste, kann man auch mit list() erzeugen\n",
        "for x in range(3):\n",
        "  neue_liste.append(x*10) # Wert hinzufügen\n"
      ],
      "metadata": {
        "id": "N8GuxQEzqRx5"
      },
      "execution_count": null,
      "outputs": []
    },
    {
      "cell_type": "markdown",
      "source": [
        "Jetzt lege auf die kurze Art und Weise eine Liste namens **quadroppelte_werte** an, in die du alle Werte die dir dein Sequenz-Generator **verdopple_bis** reinlegst, sie aber mit sich selber multiplizierst ( also effektiv quadrierst ) wenn du die Parameter 2 und 9 übergibst."
      ],
      "metadata": {
        "id": "zA5ug-U8qTau"
      }
    },
    {
      "cell_type": "code",
      "source": [
        "# code hier einfügen"
      ],
      "metadata": {
        "id": "88pZKp9_re2N"
      },
      "execution_count": null,
      "outputs": []
    },
    {
      "cell_type": "code",
      "source": [
        "# Test\n",
        "print(quadroppelte_werte)\n",
        "# erwartete Ausgabe: [4, 9, 64]"
      ],
      "metadata": {
        "id": "NNp8Xj35rhHC"
      },
      "execution_count": null,
      "outputs": []
    },
    {
      "cell_type": "markdown",
      "source": [
        "### Dict Comprehensions\n",
        "\n",
        "Auf eine ganz ähnliche Art und Weise kann man auch auf kompakte Weise **dict** ( Dictionaries) erzeugen. Dicts erlauben eine Zuordnung von Schlüsseln ( **keys** ) zu Werten ( **values**). Dicts erzeugt man mit Hilfe von geschweiften Klammern, oder mit Hilfe der Funktion **dict**"
      ],
      "metadata": {
        "id": "FqtaP0-Gr_EF"
      }
    },
    {
      "cell_type": "code",
      "source": [
        "# Beachte jeweils die Rolle vom Doppelpunkt und vom Komma\n",
        "mein_dict = {\n",
        "    \"name\" : \"Bert\",\n",
        "    \"alter\" : 32\n",
        "}\n",
        "print(mein_dict)"
      ],
      "metadata": {
        "colab": {
          "base_uri": "https://localhost:8080/"
        },
        "id": "X-CenrCrr-U9",
        "outputId": "1d9728d0-6c21-49db-8dd5-44c9aa0841fd"
      },
      "execution_count": null,
      "outputs": [
        {
          "output_type": "stream",
          "name": "stdout",
          "text": [
            "{'name': 'Bert', 'alter': 32}\n"
          ]
        }
      ]
    },
    {
      "cell_type": "code",
      "source": [
        "print(mein_dict[\"name\"])"
      ],
      "metadata": {
        "colab": {
          "base_uri": "https://localhost:8080/"
        },
        "id": "9ctckiBCtXrl",
        "outputId": "18311090-814b-4d8a-eb5e-4569baa812fe"
      },
      "execution_count": null,
      "outputs": [
        {
          "output_type": "stream",
          "name": "stdout",
          "text": [
            "Bert\n"
          ]
        }
      ]
    },
    {
      "cell_type": "code",
      "source": [
        "# Man kann dicts aber auch mit Hilfe einer Generator-Funktion als Dict-Comprehension generieren.\n",
        "# Beachte die Rolle vom Doppelpunkt\n",
        "dict_comprehension = { i : i*i for i in range(5) }\n",
        "print(dict_comprehension)"
      ],
      "metadata": {
        "colab": {
          "base_uri": "https://localhost:8080/"
        },
        "id": "OIagHqfBtcKT",
        "outputId": "b2d935bc-e843-4856-f2db-e40a4b17de81"
      },
      "execution_count": null,
      "outputs": [
        {
          "output_type": "stream",
          "name": "stdout",
          "text": [
            "{0: 0, 1: 1, 2: 4, 3: 9, 4: 16}\n"
          ]
        }
      ]
    },
    {
      "cell_type": "markdown",
      "source": [
        "### Übung:\n",
        "\n",
        "Mach das gleiche nochmal mit Hilfe deiner Generator-Funktion **verdopple_bis** und spiel ein bisschen damit herum."
      ],
      "metadata": {
        "id": "vbIy5QTquF0P"
      }
    },
    {
      "cell_type": "code",
      "source": [
        "# Code hier einfügen"
      ],
      "metadata": {
        "id": "88kkRY5-uQ1o"
      },
      "execution_count": null,
      "outputs": []
    },
    {
      "cell_type": "markdown",
      "source": [
        "### Dicts benutzen\n",
        "\n",
        "Man kann über die Schlüssel, die Werte oder über Schlüssel-Wert Paare in einem Dict **iterieren**. z.B. so:"
      ],
      "metadata": {
        "id": "vckIqnL1tymt"
      }
    },
    {
      "cell_type": "code",
      "source": [
        "for key in mein_dict:\n",
        "  print(key)"
      ],
      "metadata": {
        "colab": {
          "base_uri": "https://localhost:8080/"
        },
        "id": "5pFTCicOtwOW",
        "outputId": "4db611ff-f452-465a-8982-3b05901ae908"
      },
      "execution_count": null,
      "outputs": [
        {
          "output_type": "stream",
          "name": "stdout",
          "text": [
            "name\n",
            "alter\n"
          ]
        }
      ]
    },
    {
      "cell_type": "code",
      "source": [
        "for key in mein_dict:\n",
        "  print(mein_dict[key])\n",
        "# was sollte das ausgeben? Probiere es aus!"
      ],
      "metadata": {
        "colab": {
          "base_uri": "https://localhost:8080/"
        },
        "id": "SPPnyPISuZy-",
        "outputId": "8df71600-51a9-45a8-870f-054b2c110cb6"
      },
      "execution_count": null,
      "outputs": [
        {
          "output_type": "stream",
          "name": "stdout",
          "text": [
            "Bert\n",
            "32\n"
          ]
        }
      ]
    },
    {
      "cell_type": "code",
      "source": [
        "# beachte das .values()\n",
        "for value in mein_dict.values():\n",
        "  print(value)\n",
        "# was sollte das ausgeben? Probiere es aus!"
      ],
      "metadata": {
        "colab": {
          "base_uri": "https://localhost:8080/"
        },
        "id": "m9XPSDtUuimp",
        "outputId": "9f29f55a-1df5-4119-ac59-d827bb9b12ba"
      },
      "execution_count": null,
      "outputs": [
        {
          "output_type": "stream",
          "name": "stdout",
          "text": [
            "Bert\n",
            "32\n"
          ]
        }
      ]
    },
    {
      "cell_type": "code",
      "source": [
        "# Man kann Einträge in einem dict auch ändern:\n",
        "mein_dict['name'] = 'Hubert'"
      ],
      "metadata": {
        "id": "Hnd5LgcVvOBj"
      },
      "execution_count": null,
      "outputs": []
    },
    {
      "cell_type": "code",
      "source": [
        "# In jedem Schleifendurchlauf werden zwei Werte gesetzt: key und value.\n",
        "# mein_dict.items() ist ein Sequenz-Generator der bei jedem Durchlauf 2 Werte zurückkgibt\n",
        "for key, value in mein_dict.items():\n",
        "  print(f\"key={key}, value={value}\")\n",
        "# was sollte das ausgeben? Ausprobieren!"
      ],
      "metadata": {
        "id": "rEF0EzIFupaJ"
      },
      "execution_count": null,
      "outputs": []
    },
    {
      "cell_type": "markdown",
      "source": [
        "### Tupel\n",
        "\n",
        "Neben Listen und Dicts, gibt es auch noch sogenannte **tuple** (Tupel) als grundlegende Datenstruktur in Python. Das sind im Grunde nichts anderes als unveränderbare ( **immutable** ) Listen. Man kann mit Tupeln kein \"append\" ausführen etc. Dafür darf man sie aber als Schlüssel in Dicts verwenden, was mitunter praktisch ist. ( Mit Listen geht das nicht ).\n",
        "\n",
        "\n"
      ],
      "metadata": {
        "id": "dZ4A-YELvMEo"
      }
    },
    {
      "cell_type": "markdown",
      "source": [],
      "metadata": {
        "id": "iBLgnHz3wKVM"
      }
    },
    {
      "cell_type": "code",
      "source": [
        "mein_tupel = tuple([1,2,3])\n",
        "mein_tupel"
      ],
      "metadata": {
        "colab": {
          "base_uri": "https://localhost:8080/"
        },
        "id": "xMW1IVK4vLN_",
        "outputId": "3e0dd3aa-03c3-4118-ad7d-45f8df259214"
      },
      "execution_count": null,
      "outputs": [
        {
          "output_type": "execute_result",
          "data": {
            "text/plain": [
              "(1, 2, 3)"
            ]
          },
          "metadata": {},
          "execution_count": 25
        }
      ]
    },
    {
      "cell_type": "code",
      "source": [
        "mein_tupel[0]"
      ],
      "metadata": {
        "colab": {
          "base_uri": "https://localhost:8080/"
        },
        "id": "fayTmWTYwqvh",
        "outputId": "e2ab95c0-4829-4974-87e7-dad479225155"
      },
      "execution_count": null,
      "outputs": [
        {
          "output_type": "execute_result",
          "data": {
            "text/plain": [
              "1"
            ]
          },
          "metadata": {},
          "execution_count": 26
        }
      ]
    },
    {
      "cell_type": "code",
      "source": [
        "# mein_tupel[0] = 2\n",
        "# was passiert wenn man das obige ausführt? Ausprobieren"
      ],
      "metadata": {
        "id": "efnkP_tewyaM"
      },
      "execution_count": null,
      "outputs": []
    },
    {
      "cell_type": "markdown",
      "source": [
        "### Sets\n",
        "\n",
        "Auch **set** Objekte ( Mengen ) sind grundlegende Datenstrukturen. Im Gegensatz zu Listen, können in sets keine EInträge doppelt vorhanden sein. Ihre Reihenfolge ist auch nicht definiert. Dafür kann man sehr schnell nachsehen ob ein Eintrag in einem Set ist, und Mengenoperationen wie Vereinigung (union), Differenz (difference oder \"-\") und Schnittmenge ( intersection ) ausfuehren.\n"
      ],
      "metadata": {
        "id": "c2UGXoZkqzEE"
      }
    },
    {
      "cell_type": "code",
      "source": [
        "# Man kann eine List-Comprehension auch Filtern, wie hier mit Hilfe eines nachgestellten if statements\n",
        "menge_der_ungeraden_zahlen_bis_10 = set([i for i in range(11) if i % 2 == 1])\n",
        "menge_der_ungeraden_zahlen_bis_10"
      ],
      "metadata": {
        "colab": {
          "base_uri": "https://localhost:8080/"
        },
        "id": "G6HBHV8fw7Eu",
        "outputId": "796eae07-90dd-47ac-c40c-225148a8f3ad"
      },
      "execution_count": null,
      "outputs": [
        {
          "output_type": "execute_result",
          "data": {
            "text/plain": [
              "{1, 3, 5, 7, 9}"
            ]
          },
          "metadata": {},
          "execution_count": 31
        }
      ]
    },
    {
      "cell_type": "code",
      "source": [
        "menge_der_zahlen_bis_5 = set([i for i in range(6)])"
      ],
      "metadata": {
        "id": "lAhbQYRdxg_W"
      },
      "execution_count": null,
      "outputs": []
    },
    {
      "cell_type": "code",
      "source": [
        "# schneller Test auf Vorhandensein\n",
        "if 3 in menge_der_zahlen_bis_5:\n",
        "  print(\"3 ist in den Zahlen bis 5 drin\")\n",
        "\n"
      ],
      "metadata": {
        "colab": {
          "base_uri": "https://localhost:8080/"
        },
        "id": "l5kgSMK5xJLi",
        "outputId": "2ceb288c-7193-4b09-f761-ce9ff87dc69f"
      },
      "execution_count": null,
      "outputs": [
        {
          "output_type": "stream",
          "name": "stdout",
          "text": [
            "3 ist in den Zahlen bis 5 drin\n"
          ]
        }
      ]
    },
    {
      "cell_type": "code",
      "source": [
        "# Mengen-Differenz\n",
        "menge_der_ungeraden_zahlen_bis_10 - menge_der_zahlen_bis_5\n",
        "# was gibt das wohl aus?\n"
      ],
      "metadata": {
        "colab": {
          "base_uri": "https://localhost:8080/"
        },
        "id": "e4oHgtaHx5Xj",
        "outputId": "ea588880-cead-48b9-8f6d-ec3a1927d855"
      },
      "execution_count": null,
      "outputs": [
        {
          "output_type": "execute_result",
          "data": {
            "text/plain": [
              "{7, 9}"
            ]
          },
          "metadata": {},
          "execution_count": 36
        }
      ]
    },
    {
      "cell_type": "code",
      "source": [
        "# und das?\n",
        "# Mengen-Vereinigung (union)\n",
        "menge_der_ungeraden_zahlen_bis_10.union(menge_der_zahlen_bis_5)"
      ],
      "metadata": {
        "colab": {
          "base_uri": "https://localhost:8080/"
        },
        "id": "4ZOxcpzSyKBu",
        "outputId": "63a1508d-9340-4c86-b90a-d9ac21b494bb"
      },
      "execution_count": null,
      "outputs": [
        {
          "output_type": "execute_result",
          "data": {
            "text/plain": [
              "{0, 1, 2, 3, 4, 5, 7, 9}"
            ]
          },
          "metadata": {},
          "execution_count": 38
        }
      ]
    },
    {
      "cell_type": "code",
      "source": [
        "# Oder die Schnittmenge?\n",
        "menge_der_ungeraden_zahlen_bis_10.intersection(menge_der_zahlen_bis_5)"
      ],
      "metadata": {
        "colab": {
          "base_uri": "https://localhost:8080/"
        },
        "id": "K6vBuDEaF4EW",
        "outputId": "bea0ae8a-8310-4a5a-fcb4-48c83e977312"
      },
      "execution_count": null,
      "outputs": [
        {
          "output_type": "execute_result",
          "data": {
            "text/plain": [
              "{1, 3, 5}"
            ]
          },
          "metadata": {},
          "execution_count": 108
        }
      ]
    },
    {
      "cell_type": "markdown",
      "source": [
        "\n",
        "#### Das Keyword \"**in**\"\n",
        "\n",
        "Mit dem Keyword \"in\" kann man in Dictionaries, Listen, Sets und Strings (und auch einigen anderen typen von Objekten ) nachschauen ob etwas darin enthalten ist. Ein Ausdruck (a in b) gibt immer entweder True oder False zurueck. Das geht so:\n"
      ],
      "metadata": {
        "id": "uPfYWYsXydgk"
      }
    },
    {
      "cell_type": "code",
      "source": [
        "3 in menge_der_zahlen_bis_5"
      ],
      "metadata": {
        "colab": {
          "base_uri": "https://localhost:8080/"
        },
        "id": "uMbYYvaByXGJ",
        "outputId": "acb14fbf-a184-4780-9b28-edaa8c11e283"
      },
      "execution_count": null,
      "outputs": [
        {
          "output_type": "execute_result",
          "data": {
            "text/plain": [
              "True"
            ]
          },
          "metadata": {},
          "execution_count": 40
        }
      ]
    },
    {
      "cell_type": "code",
      "source": [
        "10 in menge_der_zahlen_bis_5"
      ],
      "metadata": {
        "colab": {
          "base_uri": "https://localhost:8080/"
        },
        "id": "hd_qN5dPyypp",
        "outputId": "871f68d6-8eb9-4c11-e1e6-5d24be858d66"
      },
      "execution_count": null,
      "outputs": [
        {
          "output_type": "execute_result",
          "data": {
            "text/plain": [
              "False"
            ]
          },
          "metadata": {},
          "execution_count": 42
        }
      ]
    },
    {
      "cell_type": "code",
      "source": [
        "if True:\n",
        "  print(\"True\")\n",
        "else:\n",
        "  print(\"False\")"
      ],
      "metadata": {
        "colab": {
          "base_uri": "https://localhost:8080/"
        },
        "id": "Sz90gQWBy1K7",
        "outputId": "33f260f4-ec80-45b1-db9f-6b26b6c61d87"
      },
      "execution_count": null,
      "outputs": [
        {
          "output_type": "stream",
          "name": "stdout",
          "text": [
            "True\n"
          ]
        }
      ]
    },
    {
      "cell_type": "code",
      "source": [
        "if 6 in menge_der_zahlen_bis_5:\n",
        "  print(\"True\")\n",
        "else:\n",
        "  print(\"False\")\n",
        "# was gibt das aus?"
      ],
      "metadata": {
        "id": "D9Y3fCWEy6Ee"
      },
      "execution_count": null,
      "outputs": []
    },
    {
      "cell_type": "code",
      "source": [
        "\"wie\" in \"Hallo wie geht es dir?\""
      ],
      "metadata": {
        "colab": {
          "base_uri": "https://localhost:8080/"
        },
        "id": "pvSyS0_OzDD9",
        "outputId": "cad543a6-9def-4178-f9b4-f7a35cfebcba"
      },
      "execution_count": null,
      "outputs": [
        {
          "output_type": "execute_result",
          "data": {
            "text/plain": [
              "True"
            ]
          },
          "metadata": {},
          "execution_count": 44
        }
      ]
    },
    {
      "cell_type": "code",
      "source": [
        "\"Wie\" in \"Hallo wie geht es dir?\"\n",
        "# was gibt das aus?"
      ],
      "metadata": {
        "colab": {
          "base_uri": "https://localhost:8080/"
        },
        "id": "tL-V0DAkzIdc",
        "outputId": "e857a19a-a17a-4d89-b861-549eabe909b1"
      },
      "execution_count": null,
      "outputs": [
        {
          "output_type": "execute_result",
          "data": {
            "text/plain": [
              "False"
            ]
          },
          "metadata": {},
          "execution_count": 45
        }
      ]
    },
    {
      "cell_type": "code",
      "source": [
        "mein_dict"
      ],
      "metadata": {
        "colab": {
          "base_uri": "https://localhost:8080/"
        },
        "id": "-p_i17ulzPz5",
        "outputId": "7d49c6b8-8b8b-4798-c68c-8b24331fe57b"
      },
      "execution_count": null,
      "outputs": [
        {
          "output_type": "execute_result",
          "data": {
            "text/plain": [
              "{'name': 'Bert', 'alter': 32}"
            ]
          },
          "metadata": {},
          "execution_count": 46
        }
      ]
    },
    {
      "cell_type": "code",
      "source": [
        "# Nachschauen ob ein Schlüssel in einem Dict steckt\n",
        "\"name\" in mein_dict"
      ],
      "metadata": {
        "colab": {
          "base_uri": "https://localhost:8080/"
        },
        "id": "AKEg5ErPzSWK",
        "outputId": "f10bd35b-a88d-465d-8072-f46ba4f1c2e5"
      },
      "execution_count": null,
      "outputs": [
        {
          "output_type": "execute_result",
          "data": {
            "text/plain": [
              "True"
            ]
          },
          "metadata": {},
          "execution_count": 47
        }
      ]
    },
    {
      "cell_type": "code",
      "source": [
        "\"Bert\" in mein_dict\n",
        "# was gibt das wohl aus?\n"
      ],
      "metadata": {
        "colab": {
          "base_uri": "https://localhost:8080/"
        },
        "id": "HLw5zHj3zUim",
        "outputId": "1eee0574-2687-4982-957b-a89dc9a41071"
      },
      "execution_count": null,
      "outputs": [
        {
          "output_type": "execute_result",
          "data": {
            "text/plain": [
              "False"
            ]
          },
          "metadata": {},
          "execution_count": 48
        }
      ]
    },
    {
      "cell_type": "code",
      "source": [
        "# Nachschauen ob ein Wert vorhanden ist?\n",
        "\"Bert\" in mein_dict.values()"
      ],
      "metadata": {
        "colab": {
          "base_uri": "https://localhost:8080/"
        },
        "id": "BEA394DGzY_D",
        "outputId": "a942ea6f-aea2-447b-ba26-5e7b2b15069c"
      },
      "execution_count": null,
      "outputs": [
        {
          "output_type": "execute_result",
          "data": {
            "text/plain": [
              "True"
            ]
          },
          "metadata": {},
          "execution_count": 50
        }
      ]
    },
    {
      "cell_type": "code",
      "source": [
        "3 in [1,2,5]"
      ],
      "metadata": {
        "colab": {
          "base_uri": "https://localhost:8080/"
        },
        "id": "t-2ed26izsdn",
        "outputId": "31250fbf-039c-42ff-96d0-bc4db562f22b"
      },
      "execution_count": null,
      "outputs": [
        {
          "output_type": "execute_result",
          "data": {
            "text/plain": [
              "False"
            ]
          },
          "metadata": {},
          "execution_count": 51
        }
      ]
    },
    {
      "cell_type": "code",
      "source": [
        "5 in [1,2,5]"
      ],
      "metadata": {
        "colab": {
          "base_uri": "https://localhost:8080/"
        },
        "id": "riMy9DbTz4xl",
        "outputId": "d66bfe72-3bd6-45c6-b929-23f6b9a7ecbf"
      },
      "execution_count": null,
      "outputs": [
        {
          "output_type": "execute_result",
          "data": {
            "text/plain": [
              "True"
            ]
          },
          "metadata": {},
          "execution_count": 52
        }
      ]
    },
    {
      "cell_type": "markdown",
      "source": [
        "\n",
        "#### Die **len** Funktion ( Anzahl der Elemente )\n"
      ],
      "metadata": {
        "id": "koaw1CHXz9ic"
      }
    },
    {
      "cell_type": "code",
      "source": [
        "len([0,1,2])"
      ],
      "metadata": {
        "colab": {
          "base_uri": "https://localhost:8080/"
        },
        "id": "9LbY5zgfz8uF",
        "outputId": "e629dbd4-3c06-4f40-a4c2-a8c605c8cae1"
      },
      "execution_count": null,
      "outputs": [
        {
          "output_type": "execute_result",
          "data": {
            "text/plain": [
              "3"
            ]
          },
          "metadata": {},
          "execution_count": 53
        }
      ]
    },
    {
      "cell_type": "code",
      "source": [
        "len(mein_dict)"
      ],
      "metadata": {
        "colab": {
          "base_uri": "https://localhost:8080/"
        },
        "id": "WcXoPTeJ0UhC",
        "outputId": "6aecaa40-a1b2-473f-efa3-6935554fe8b9"
      },
      "execution_count": null,
      "outputs": [
        {
          "output_type": "execute_result",
          "data": {
            "text/plain": [
              "2"
            ]
          },
          "metadata": {},
          "execution_count": 54
        }
      ]
    },
    {
      "cell_type": "markdown",
      "source": [
        "#### Slicing ( Scheiben abschneiden )\n",
        "\n",
        "Man kann sich von Listen, Tupeln und Strings auch Teile zurückgeben lassen die mehr als ein Element haben. Dabei benutzt man einen Slice ( in Form von **von**:**bis** ) so wie man einen Index benutzen würde mit dem man auf ein einzelnes Element zugreifen würde. Man erhält dann alle Elemente von **von** bis zu Index **bis-1** ( der Index **bis** gehört nicht mehr dazu )\n",
        "\n",
        "Beispiele ( bitte herumspielen )"
      ],
      "metadata": {
        "id": "bfT_dpl_0j8Y"
      }
    },
    {
      "cell_type": "code",
      "source": [
        "text = \"das ist ein text\"\n",
        "text[4:7]"
      ],
      "metadata": {
        "colab": {
          "base_uri": "https://localhost:8080/",
          "height": 35
        },
        "id": "3e59B91-0hUY",
        "outputId": "7c9173df-4d07-45aa-e801-a7806357ced6"
      },
      "execution_count": null,
      "outputs": [
        {
          "output_type": "execute_result",
          "data": {
            "text/plain": [
              "'ist'"
            ],
            "application/vnd.google.colaboratory.intrinsic+json": {
              "type": "string"
            }
          },
          "metadata": {},
          "execution_count": 58
        }
      ]
    },
    {
      "cell_type": "code",
      "source": [
        "text = \"das ist ein text\"\n",
        "text[5]"
      ],
      "metadata": {
        "colab": {
          "base_uri": "https://localhost:8080/",
          "height": 35
        },
        "id": "1ix2lOfM1fKU",
        "outputId": "eb407c2b-dfb0-4783-b73b-f4b51b21821f"
      },
      "execution_count": null,
      "outputs": [
        {
          "output_type": "execute_result",
          "data": {
            "text/plain": [
              "'s'"
            ],
            "application/vnd.google.colaboratory.intrinsic+json": {
              "type": "string"
            }
          },
          "metadata": {},
          "execution_count": 59
        }
      ]
    },
    {
      "cell_type": "code",
      "source": [
        "# hinten offener Slice\n",
        "text = \"das ist ein text\"\n",
        "text[3:]"
      ],
      "metadata": {
        "colab": {
          "base_uri": "https://localhost:8080/",
          "height": 35
        },
        "id": "m5ncTOkM08ma",
        "outputId": "7e73e77a-65eb-4b4a-d8d0-de979084d88a"
      },
      "execution_count": null,
      "outputs": [
        {
          "output_type": "execute_result",
          "data": {
            "text/plain": [
              "' ist ein text'"
            ],
            "application/vnd.google.colaboratory.intrinsic+json": {
              "type": "string"
            }
          },
          "metadata": {},
          "execution_count": 61
        }
      ]
    },
    {
      "cell_type": "code",
      "source": [
        "# Negativer Index wird von hinten gezählt\n",
        "text = \"das ist ein text\"\n",
        "text[-2]\n"
      ],
      "metadata": {
        "colab": {
          "base_uri": "https://localhost:8080/",
          "height": 35
        },
        "id": "zU2iv5d_1mwB",
        "outputId": "e9c86c39-c200-4650-b399-05847eba230a"
      },
      "execution_count": null,
      "outputs": [
        {
          "output_type": "execute_result",
          "data": {
            "text/plain": [
              "'x'"
            ],
            "application/vnd.google.colaboratory.intrinsic+json": {
              "type": "string"
            }
          },
          "metadata": {},
          "execution_count": 62
        }
      ]
    },
    {
      "cell_type": "code",
      "source": [
        "# Von vorne und hinten Buchstaben abschneiden? Kein Problem\n",
        "text = \"das ist ein text\"\n",
        "text[1:-2]"
      ],
      "metadata": {
        "colab": {
          "base_uri": "https://localhost:8080/",
          "height": 35
        },
        "id": "cISFtCqZ1ycQ",
        "outputId": "3e4a3858-d323-44f3-f130-213d2f502090"
      },
      "execution_count": null,
      "outputs": [
        {
          "output_type": "execute_result",
          "data": {
            "text/plain": [
              "'as ist ein te'"
            ],
            "application/vnd.google.colaboratory.intrinsic+json": {
              "type": "string"
            }
          },
          "metadata": {},
          "execution_count": 65
        }
      ]
    },
    {
      "cell_type": "code",
      "source": [
        "# geht auch mit Listen\n",
        "zahlen = [1,2,3,4,5]\n",
        "zahlen[1:-1]"
      ],
      "metadata": {
        "colab": {
          "base_uri": "https://localhost:8080/"
        },
        "id": "vhbBuzTP12VT",
        "outputId": "4bd269e1-49b0-4284-9537-5f23a58f4ec9"
      },
      "execution_count": null,
      "outputs": [
        {
          "output_type": "execute_result",
          "data": {
            "text/plain": [
              "[2, 3, 4]"
            ]
          },
          "metadata": {},
          "execution_count": 67
        }
      ]
    },
    {
      "cell_type": "markdown",
      "source": [
        "### Exceptions ( Ausnahmen / Fehlerbehandlung )\n",
        "\n",
        "Python unterstützt sogenannte **Exceptions**, um die Fehlerbehandlung zu vereinfachen. Exceptions ( Ausnahmen ) können auftreten wenn im Programm etwas unvorhergesehenes ( in der Regel ein Fehler ) auftritt. Manchmal werden Exceptions allerdings auch benutzt um Programmteile abzubrechen, auch wenn kein Fehler aufgetreten ist.\n",
        "\n",
        "Schauen wir uns mal an, was passiert wenn ein Fehler auftritt:"
      ],
      "metadata": {
        "id": "48vGRpqe8EuD"
      }
    },
    {
      "cell_type": "code",
      "source": [
        "def meine_division(a, b):\n",
        "  return a / b # soweit ok würde man denken\n",
        "\n"
      ],
      "metadata": {
        "id": "mgN1damx2K75"
      },
      "execution_count": null,
      "outputs": []
    },
    {
      "cell_type": "code",
      "source": [
        "meine_division(4, 2)"
      ],
      "metadata": {
        "colab": {
          "base_uri": "https://localhost:8080/"
        },
        "id": "Be5SHBHU87G8",
        "outputId": "2513b32d-c2a5-413a-c2ab-9f7f82e4456e"
      },
      "execution_count": null,
      "outputs": [
        {
          "output_type": "execute_result",
          "data": {
            "text/plain": [
              "2.0"
            ]
          },
          "metadata": {},
          "execution_count": 78
        }
      ]
    },
    {
      "cell_type": "code",
      "source": [
        "# Jetzt machen wir mal einen Fehler, wir dividieren durch 0. Mal schauen..\n",
        "\n",
        "meine_division(4, 0)"
      ],
      "metadata": {
        "colab": {
          "base_uri": "https://localhost:8080/",
          "height": 287
        },
        "id": "5yEuAg4s89Go",
        "outputId": "a52584d5-4e9d-4321-def4-60686221ccac"
      },
      "execution_count": null,
      "outputs": [
        {
          "output_type": "error",
          "ename": "ZeroDivisionError",
          "evalue": "ignored",
          "traceback": [
            "\u001b[0;31m---------------------------------------------------------------------------\u001b[0m",
            "\u001b[0;31mZeroDivisionError\u001b[0m                         Traceback (most recent call last)",
            "\u001b[0;32m<ipython-input-79-0af674c0a295>\u001b[0m in \u001b[0;36m<cell line: 3>\u001b[0;34m()\u001b[0m\n\u001b[1;32m      1\u001b[0m \u001b[0;31m# Jetzt machen wir mal einen Fehler, wir dividieren durch 0. Mal schauen..\u001b[0m\u001b[0;34m\u001b[0m\u001b[0;34m\u001b[0m\u001b[0m\n\u001b[1;32m      2\u001b[0m \u001b[0;34m\u001b[0m\u001b[0m\n\u001b[0;32m----> 3\u001b[0;31m \u001b[0mmeine_division\u001b[0m\u001b[0;34m(\u001b[0m\u001b[0;36m4\u001b[0m\u001b[0;34m,\u001b[0m \u001b[0;36m0\u001b[0m\u001b[0;34m)\u001b[0m\u001b[0;34m\u001b[0m\u001b[0;34m\u001b[0m\u001b[0m\n\u001b[0m",
            "\u001b[0;32m<ipython-input-77-b8e5387f116e>\u001b[0m in \u001b[0;36mmeine_division\u001b[0;34m(a, b)\u001b[0m\n\u001b[1;32m      1\u001b[0m \u001b[0;32mdef\u001b[0m \u001b[0mmeine_division\u001b[0m\u001b[0;34m(\u001b[0m\u001b[0ma\u001b[0m\u001b[0;34m,\u001b[0m \u001b[0mb\u001b[0m\u001b[0;34m)\u001b[0m\u001b[0;34m:\u001b[0m\u001b[0;34m\u001b[0m\u001b[0;34m\u001b[0m\u001b[0m\n\u001b[0;32m----> 2\u001b[0;31m   \u001b[0;32mreturn\u001b[0m \u001b[0ma\u001b[0m \u001b[0;34m/\u001b[0m \u001b[0mb\u001b[0m \u001b[0;31m# soweit ok würde man denken\u001b[0m\u001b[0;34m\u001b[0m\u001b[0;34m\u001b[0m\u001b[0m\n\u001b[0m\u001b[1;32m      3\u001b[0m \u001b[0;34m\u001b[0m\u001b[0m\n",
            "\u001b[0;31mZeroDivisionError\u001b[0m: division by zero"
          ]
        }
      ]
    },
    {
      "cell_type": "markdown",
      "source": [
        "Was sagt uns diese Fehlermeldung? Da ist zum einen die **ZeroDivisionError**, ein **Fehlertyp** der Auftritt wenn man durch 0 zu dividieren versucht. Zum anderen gibt es noch die **Fehlermeldung** \"division by zero\", was aber irgendwie klar ist bei einem ZeroDivisionError ( bei anderen Fehlern kann die Meldung hilfreicher sein).\n",
        "\n",
        "Dann gibt es noch den **Traceback**, oder auch sogenannten **Stack-Trace**. Dieser hilft uns den Fehler zu lokalisieren, also herauszufinden wie genau wir an den Punkt gekommen sind an dem er aufgetreten ist. Dabei wird vom Punkt des Kommandos das wir ausführen, bis zum Punkt an dem die Exception aufgetreten ist, für jeden Funktions ( oder Methoden-) Aufruf angegeben wo dieser aufgetreten ist ( also ggf. Quellcodename und Zeilennummer, sowie Funktionsname etc.)\n",
        "\n",
        "In diesem Fall ist der Stack Trace relativ simpel. Aber was wäre, wenn der Fehler in einer Funktion auftritt die von einer Funktion aufgerufen wurde die von einer Funktion aufgerufen wurde? Ungefähr so:"
      ],
      "metadata": {
        "id": "i3qUiiNQ9MjO"
      }
    },
    {
      "cell_type": "code",
      "source": [
        "def divide_and_return(a, b):\n",
        "  if b>0:\n",
        "    # man kann Listen addieren, [ 1, 2] + [3, 4] = [1,2,3,4]\n",
        "    return [ a / b ] + divide_and_return(a, b-1)\n",
        "  else:\n",
        "    return []\n",
        "\n",
        "# Verständnisfrage: Was macht diese Funktion?\n",
        "divide_and_return(3, 3)"
      ],
      "metadata": {
        "colab": {
          "base_uri": "https://localhost:8080/"
        },
        "id": "9gpT12mb89i7",
        "outputId": "15dd67ff-dc37-4da8-a630-0ae09dff5502"
      },
      "execution_count": null,
      "outputs": [
        {
          "output_type": "execute_result",
          "data": {
            "text/plain": [
              "[1.0, 1.5, 3.0]"
            ]
          },
          "metadata": {},
          "execution_count": 93
        }
      ]
    },
    {
      "cell_type": "code",
      "source": [
        "def divide_and_return_wrong(a, b):\n",
        "  if b>=0:\n",
        "    # man kann Listen addieren, [ 1, 2] + [3, 4] = [1,2,3,4]\n",
        "    return [ a / b ] + divide_and_return_wrong(a, b-1)\n",
        "  else:\n",
        "    return []\n",
        "\n",
        "# Verständnisfrage: Was ist hier falsch?\n",
        "divide_and_return_wrong(3,3)"
      ],
      "metadata": {
        "colab": {
          "base_uri": "https://localhost:8080/",
          "height": 710
        },
        "id": "LH80_PDy-OSf",
        "outputId": "85f89cd8-2f80-4899-9a2b-17b798121319"
      },
      "execution_count": null,
      "outputs": [
        {
          "output_type": "error",
          "ename": "ZeroDivisionError",
          "evalue": "ignored",
          "traceback": [
            "\u001b[0;31m---------------------------------------------------------------------------\u001b[0m",
            "\u001b[0;31mZeroDivisionError\u001b[0m                         Traceback (most recent call last)",
            "\u001b[0;32m<ipython-input-94-5c93198c0fc8>\u001b[0m in \u001b[0;36m<cell line: 9>\u001b[0;34m()\u001b[0m\n\u001b[1;32m      7\u001b[0m \u001b[0;34m\u001b[0m\u001b[0m\n\u001b[1;32m      8\u001b[0m \u001b[0;31m# Verständnisfrage: Was ist hier falsch?\u001b[0m\u001b[0;34m\u001b[0m\u001b[0;34m\u001b[0m\u001b[0m\n\u001b[0;32m----> 9\u001b[0;31m \u001b[0mdivide_and_return_wrong\u001b[0m\u001b[0;34m(\u001b[0m\u001b[0;36m3\u001b[0m\u001b[0;34m,\u001b[0m\u001b[0;36m3\u001b[0m\u001b[0;34m)\u001b[0m\u001b[0;34m\u001b[0m\u001b[0;34m\u001b[0m\u001b[0m\n\u001b[0m",
            "\u001b[0;32m<ipython-input-94-5c93198c0fc8>\u001b[0m in \u001b[0;36mdivide_and_return_wrong\u001b[0;34m(a, b)\u001b[0m\n\u001b[1;32m      2\u001b[0m   \u001b[0;32mif\u001b[0m \u001b[0mb\u001b[0m\u001b[0;34m>=\u001b[0m\u001b[0;36m0\u001b[0m\u001b[0;34m:\u001b[0m\u001b[0;34m\u001b[0m\u001b[0;34m\u001b[0m\u001b[0m\n\u001b[1;32m      3\u001b[0m     \u001b[0;31m# man kann Listen addieren, [ 1, 2] + [3, 4] = [1,2,3,4]\u001b[0m\u001b[0;34m\u001b[0m\u001b[0;34m\u001b[0m\u001b[0m\n\u001b[0;32m----> 4\u001b[0;31m     \u001b[0;32mreturn\u001b[0m \u001b[0;34m[\u001b[0m \u001b[0ma\u001b[0m \u001b[0;34m/\u001b[0m \u001b[0mb\u001b[0m \u001b[0;34m]\u001b[0m \u001b[0;34m+\u001b[0m \u001b[0mdivide_and_return_wrong\u001b[0m\u001b[0;34m(\u001b[0m\u001b[0ma\u001b[0m\u001b[0;34m,\u001b[0m \u001b[0mb\u001b[0m\u001b[0;34m-\u001b[0m\u001b[0;36m1\u001b[0m\u001b[0;34m)\u001b[0m\u001b[0;34m\u001b[0m\u001b[0;34m\u001b[0m\u001b[0m\n\u001b[0m\u001b[1;32m      5\u001b[0m   \u001b[0;32melse\u001b[0m\u001b[0;34m:\u001b[0m\u001b[0;34m\u001b[0m\u001b[0;34m\u001b[0m\u001b[0m\n\u001b[1;32m      6\u001b[0m     \u001b[0;32mreturn\u001b[0m \u001b[0;34m[\u001b[0m\u001b[0;34m]\u001b[0m\u001b[0;34m\u001b[0m\u001b[0;34m\u001b[0m\u001b[0m\n",
            "\u001b[0;32m<ipython-input-94-5c93198c0fc8>\u001b[0m in \u001b[0;36mdivide_and_return_wrong\u001b[0;34m(a, b)\u001b[0m\n\u001b[1;32m      2\u001b[0m   \u001b[0;32mif\u001b[0m \u001b[0mb\u001b[0m\u001b[0;34m>=\u001b[0m\u001b[0;36m0\u001b[0m\u001b[0;34m:\u001b[0m\u001b[0;34m\u001b[0m\u001b[0;34m\u001b[0m\u001b[0m\n\u001b[1;32m      3\u001b[0m     \u001b[0;31m# man kann Listen addieren, [ 1, 2] + [3, 4] = [1,2,3,4]\u001b[0m\u001b[0;34m\u001b[0m\u001b[0;34m\u001b[0m\u001b[0m\n\u001b[0;32m----> 4\u001b[0;31m     \u001b[0;32mreturn\u001b[0m \u001b[0;34m[\u001b[0m \u001b[0ma\u001b[0m \u001b[0;34m/\u001b[0m \u001b[0mb\u001b[0m \u001b[0;34m]\u001b[0m \u001b[0;34m+\u001b[0m \u001b[0mdivide_and_return_wrong\u001b[0m\u001b[0;34m(\u001b[0m\u001b[0ma\u001b[0m\u001b[0;34m,\u001b[0m \u001b[0mb\u001b[0m\u001b[0;34m-\u001b[0m\u001b[0;36m1\u001b[0m\u001b[0;34m)\u001b[0m\u001b[0;34m\u001b[0m\u001b[0;34m\u001b[0m\u001b[0m\n\u001b[0m\u001b[1;32m      5\u001b[0m   \u001b[0;32melse\u001b[0m\u001b[0;34m:\u001b[0m\u001b[0;34m\u001b[0m\u001b[0;34m\u001b[0m\u001b[0m\n\u001b[1;32m      6\u001b[0m     \u001b[0;32mreturn\u001b[0m \u001b[0;34m[\u001b[0m\u001b[0;34m]\u001b[0m\u001b[0;34m\u001b[0m\u001b[0;34m\u001b[0m\u001b[0m\n",
            "\u001b[0;32m<ipython-input-94-5c93198c0fc8>\u001b[0m in \u001b[0;36mdivide_and_return_wrong\u001b[0;34m(a, b)\u001b[0m\n\u001b[1;32m      2\u001b[0m   \u001b[0;32mif\u001b[0m \u001b[0mb\u001b[0m\u001b[0;34m>=\u001b[0m\u001b[0;36m0\u001b[0m\u001b[0;34m:\u001b[0m\u001b[0;34m\u001b[0m\u001b[0;34m\u001b[0m\u001b[0m\n\u001b[1;32m      3\u001b[0m     \u001b[0;31m# man kann Listen addieren, [ 1, 2] + [3, 4] = [1,2,3,4]\u001b[0m\u001b[0;34m\u001b[0m\u001b[0;34m\u001b[0m\u001b[0m\n\u001b[0;32m----> 4\u001b[0;31m     \u001b[0;32mreturn\u001b[0m \u001b[0;34m[\u001b[0m \u001b[0ma\u001b[0m \u001b[0;34m/\u001b[0m \u001b[0mb\u001b[0m \u001b[0;34m]\u001b[0m \u001b[0;34m+\u001b[0m \u001b[0mdivide_and_return_wrong\u001b[0m\u001b[0;34m(\u001b[0m\u001b[0ma\u001b[0m\u001b[0;34m,\u001b[0m \u001b[0mb\u001b[0m\u001b[0;34m-\u001b[0m\u001b[0;36m1\u001b[0m\u001b[0;34m)\u001b[0m\u001b[0;34m\u001b[0m\u001b[0;34m\u001b[0m\u001b[0m\n\u001b[0m\u001b[1;32m      5\u001b[0m   \u001b[0;32melse\u001b[0m\u001b[0;34m:\u001b[0m\u001b[0;34m\u001b[0m\u001b[0;34m\u001b[0m\u001b[0m\n\u001b[1;32m      6\u001b[0m     \u001b[0;32mreturn\u001b[0m \u001b[0;34m[\u001b[0m\u001b[0;34m]\u001b[0m\u001b[0;34m\u001b[0m\u001b[0;34m\u001b[0m\u001b[0m\n",
            "\u001b[0;32m<ipython-input-94-5c93198c0fc8>\u001b[0m in \u001b[0;36mdivide_and_return_wrong\u001b[0;34m(a, b)\u001b[0m\n\u001b[1;32m      2\u001b[0m   \u001b[0;32mif\u001b[0m \u001b[0mb\u001b[0m\u001b[0;34m>=\u001b[0m\u001b[0;36m0\u001b[0m\u001b[0;34m:\u001b[0m\u001b[0;34m\u001b[0m\u001b[0;34m\u001b[0m\u001b[0m\n\u001b[1;32m      3\u001b[0m     \u001b[0;31m# man kann Listen addieren, [ 1, 2] + [3, 4] = [1,2,3,4]\u001b[0m\u001b[0;34m\u001b[0m\u001b[0;34m\u001b[0m\u001b[0m\n\u001b[0;32m----> 4\u001b[0;31m     \u001b[0;32mreturn\u001b[0m \u001b[0;34m[\u001b[0m \u001b[0ma\u001b[0m \u001b[0;34m/\u001b[0m \u001b[0mb\u001b[0m \u001b[0;34m]\u001b[0m \u001b[0;34m+\u001b[0m \u001b[0mdivide_and_return_wrong\u001b[0m\u001b[0;34m(\u001b[0m\u001b[0ma\u001b[0m\u001b[0;34m,\u001b[0m \u001b[0mb\u001b[0m\u001b[0;34m-\u001b[0m\u001b[0;36m1\u001b[0m\u001b[0;34m)\u001b[0m\u001b[0;34m\u001b[0m\u001b[0;34m\u001b[0m\u001b[0m\n\u001b[0m\u001b[1;32m      5\u001b[0m   \u001b[0;32melse\u001b[0m\u001b[0;34m:\u001b[0m\u001b[0;34m\u001b[0m\u001b[0;34m\u001b[0m\u001b[0m\n\u001b[1;32m      6\u001b[0m     \u001b[0;32mreturn\u001b[0m \u001b[0;34m[\u001b[0m\u001b[0;34m]\u001b[0m\u001b[0;34m\u001b[0m\u001b[0;34m\u001b[0m\u001b[0m\n",
            "\u001b[0;31mZeroDivisionError\u001b[0m: division by zero"
          ]
        }
      ]
    },
    {
      "cell_type": "markdown",
      "source": [
        "man muss oben eventuell auf \"3 frames\" klicken um den kompletten Stack Trace zu sehen."
      ],
      "metadata": {
        "id": "QvEAfDie_fv6"
      }
    },
    {
      "cell_type": "markdown",
      "source": [
        "Man kann Exceptions auch selber \"werfen\" ( to **throw** or **raise** an Exception ). Dabei kann man sich auch den Typ der Exception selber aussuchen:"
      ],
      "metadata": {
        "id": "LHT0vnd7AMQn"
      }
    },
    {
      "cell_type": "code",
      "source": [
        "def meine_division(a, b):\n",
        "  if b==0 or b<0:\n",
        "    raise RuntimeError(f\"b must be positive. Current value is {b}\")\n",
        "  return a/b"
      ],
      "metadata": {
        "id": "668MYj_gAZ4Z"
      },
      "execution_count": null,
      "outputs": []
    },
    {
      "cell_type": "code",
      "source": [
        "meine_division(2, 4)"
      ],
      "metadata": {
        "colab": {
          "base_uri": "https://localhost:8080/"
        },
        "id": "vPGQH7r3-mHO",
        "outputId": "c18a6c10-231c-4fae-ea68-08aaa9678f4c"
      },
      "execution_count": null,
      "outputs": [
        {
          "output_type": "execute_result",
          "data": {
            "text/plain": [
              "0.5"
            ]
          },
          "metadata": {},
          "execution_count": 97
        }
      ]
    },
    {
      "cell_type": "code",
      "source": [
        "meine_division(2, 0)"
      ],
      "metadata": {
        "colab": {
          "base_uri": "https://localhost:8080/",
          "height": 269
        },
        "id": "oDFkx2A6BFOT",
        "outputId": "5f08e9f4-d8c7-4628-accc-0de704b8ce5a"
      },
      "execution_count": null,
      "outputs": [
        {
          "output_type": "error",
          "ename": "RuntimeError",
          "evalue": "ignored",
          "traceback": [
            "\u001b[0;31m---------------------------------------------------------------------------\u001b[0m",
            "\u001b[0;31mRuntimeError\u001b[0m                              Traceback (most recent call last)",
            "\u001b[0;32m<ipython-input-98-b9d7d4f3716f>\u001b[0m in \u001b[0;36m<cell line: 1>\u001b[0;34m()\u001b[0m\n\u001b[0;32m----> 1\u001b[0;31m \u001b[0mmeine_division\u001b[0m\u001b[0;34m(\u001b[0m\u001b[0;36m2\u001b[0m\u001b[0;34m,\u001b[0m \u001b[0;36m0\u001b[0m\u001b[0;34m)\u001b[0m\u001b[0;34m\u001b[0m\u001b[0;34m\u001b[0m\u001b[0m\n\u001b[0m",
            "\u001b[0;32m<ipython-input-96-312dae37e4c1>\u001b[0m in \u001b[0;36mmeine_division\u001b[0;34m(a, b)\u001b[0m\n\u001b[1;32m      1\u001b[0m \u001b[0;32mdef\u001b[0m \u001b[0mmeine_division\u001b[0m\u001b[0;34m(\u001b[0m\u001b[0ma\u001b[0m\u001b[0;34m,\u001b[0m \u001b[0mb\u001b[0m\u001b[0;34m)\u001b[0m\u001b[0;34m:\u001b[0m\u001b[0;34m\u001b[0m\u001b[0;34m\u001b[0m\u001b[0m\n\u001b[1;32m      2\u001b[0m   \u001b[0;32mif\u001b[0m \u001b[0mb\u001b[0m\u001b[0;34m==\u001b[0m\u001b[0;36m0\u001b[0m \u001b[0;32mor\u001b[0m \u001b[0mb\u001b[0m\u001b[0;34m<\u001b[0m\u001b[0;36m0\u001b[0m\u001b[0;34m:\u001b[0m\u001b[0;34m\u001b[0m\u001b[0;34m\u001b[0m\u001b[0m\n\u001b[0;32m----> 3\u001b[0;31m     \u001b[0;32mraise\u001b[0m \u001b[0mRuntimeError\u001b[0m\u001b[0;34m(\u001b[0m\u001b[0;34mf\"b must be positive. Current value is {b}\"\u001b[0m\u001b[0;34m)\u001b[0m\u001b[0;34m\u001b[0m\u001b[0;34m\u001b[0m\u001b[0m\n\u001b[0m\u001b[1;32m      4\u001b[0m   \u001b[0;32mreturn\u001b[0m \u001b[0ma\u001b[0m\u001b[0;34m/\u001b[0m\u001b[0mb\u001b[0m\u001b[0;34m\u001b[0m\u001b[0;34m\u001b[0m\u001b[0m\n",
            "\u001b[0;31mRuntimeError\u001b[0m: b must be positive. Current value is 0"
          ]
        }
      ]
    },
    {
      "cell_type": "markdown",
      "source": [
        "Man kann Exceptions allerdings auch **erwarten und behandeln**. Dabei sagt man, man **probiert** (try) eine Code-Sektion aus, und **fängt** (catch) eine Exception. Manchmal gibt es auch noch einen Teil von Code den man auf jeden Fall am Schluss ausgeführt haben möchte, egal ob eine Exception auftrat oder nicht ( **finally** )"
      ],
      "metadata": {
        "id": "9CuJxXFaAJcO"
      }
    },
    {
      "cell_type": "code",
      "source": [
        "try:\n",
        "  print(meine_division(2, -4))\n",
        "  print(\"Kein Fehler aufgetreten\")\n",
        "except RuntimeError as e: # man muss angeben welchen Exception-Typ man erwartet\n",
        "  print(\"Fehler aufgetreten\")\n"
      ],
      "metadata": {
        "colab": {
          "base_uri": "https://localhost:8080/"
        },
        "id": "r_lZsa_qBhxD",
        "outputId": "3102683a-858b-4ffb-8758-1462c9885c16"
      },
      "execution_count": null,
      "outputs": [
        {
          "output_type": "stream",
          "name": "stdout",
          "text": [
            "Fehler aufgetreten\n"
          ]
        }
      ]
    },
    {
      "cell_type": "markdown",
      "source": [
        "Mehr zu Exceptions findet sich [im Error Handling Tutorial](https://docs.python.org/3/tutorial/errors.html) und [hier finden sich vordefinierte Exception Typen](https://docs.python.org/3/library/exceptions.html)\n",
        "\n",
        "---\n",
        "\n"
      ],
      "metadata": {
        "id": "llZtdrzXAxLg"
      }
    },
    {
      "cell_type": "code",
      "source": [],
      "metadata": {
        "id": "WB4rIg4kFcix"
      },
      "execution_count": null,
      "outputs": []
    },
    {
      "cell_type": "markdown",
      "source": [
        "### Strings\n",
        "\n",
        "Strings, also der elementare Datentyp fuer Text in Python, bietet eine Menge Funktionen oder genaugenommen *Methoden* an, mit denen man Strings manipulieren kann.\n",
        "\n",
        "Zunaechst einmal: Auch ein String ist eine Sequenz, naemlich eine Sequenz von Buchstaben."
      ],
      "metadata": {
        "id": "8-fNAu9AGr5D"
      }
    },
    {
      "cell_type": "code",
      "source": [
        "for c in \"Hallo\":\n",
        "  print(c)"
      ],
      "metadata": {
        "colab": {
          "base_uri": "https://localhost:8080/"
        },
        "id": "IApCVY-QGmiq",
        "outputId": "2cecb3fc-4674-4c18-d03a-4efd1dd79570"
      },
      "execution_count": null,
      "outputs": [
        {
          "output_type": "stream",
          "name": "stdout",
          "text": [
            "H\n",
            "a\n",
            "l\n",
            "l\n",
            "o\n"
          ]
        }
      ]
    },
    {
      "cell_type": "code",
      "source": [
        "# Strings haben auch eine Laenge\n",
        "len(\"Hallo\")"
      ],
      "metadata": {
        "colab": {
          "base_uri": "https://localhost:8080/"
        },
        "id": "xGnloSNNGuwB",
        "outputId": "6ed7e185-974a-46ec-835a-a19bec06a2b9"
      },
      "execution_count": null,
      "outputs": [
        {
          "output_type": "execute_result",
          "data": {
            "text/plain": [
              "5"
            ]
          },
          "metadata": {},
          "execution_count": 110
        }
      ]
    },
    {
      "cell_type": "code",
      "source": [
        "# Und man kann einzelne Indices oder auch Slices lesen\n",
        "a = \"Hallo\"\n",
        "print(a[1])\n",
        "print(a[1:4])"
      ],
      "metadata": {
        "colab": {
          "base_uri": "https://localhost:8080/"
        },
        "id": "uXcN2KzOGyV9",
        "outputId": "e445d180-5733-4316-9253-4a11698f91bc"
      },
      "execution_count": null,
      "outputs": [
        {
          "output_type": "stream",
          "name": "stdout",
          "text": [
            "a\n",
            "all\n"
          ]
        }
      ]
    },
    {
      "cell_type": "code",
      "source": [
        "# Man kann einen String aber nicht aendern, er ist \"immutable\" wie ein Tupel\n",
        "a[1] = \"b\""
      ],
      "metadata": {
        "colab": {
          "base_uri": "https://localhost:8080/",
          "height": 183
        },
        "id": "Af8j9LhkHGHm",
        "outputId": "48460a25-5c8c-4c2d-c28c-fa2f93677a2c"
      },
      "execution_count": null,
      "outputs": [
        {
          "output_type": "error",
          "ename": "TypeError",
          "evalue": "ignored",
          "traceback": [
            "\u001b[0;31m---------------------------------------------------------------------------\u001b[0m",
            "\u001b[0;31mTypeError\u001b[0m                                 Traceback (most recent call last)",
            "\u001b[0;32m<ipython-input-112-05affa23997f>\u001b[0m in \u001b[0;36m<cell line: 2>\u001b[0;34m()\u001b[0m\n\u001b[1;32m      1\u001b[0m \u001b[0;31m# Man kann einen String aber nicht aendern, er ist \"immutable\" wie ein Tupel\u001b[0m\u001b[0;34m\u001b[0m\u001b[0;34m\u001b[0m\u001b[0m\n\u001b[0;32m----> 2\u001b[0;31m \u001b[0ma\u001b[0m\u001b[0;34m[\u001b[0m\u001b[0;36m1\u001b[0m\u001b[0;34m]\u001b[0m \u001b[0;34m=\u001b[0m \u001b[0;34m\"b\"\u001b[0m\u001b[0;34m\u001b[0m\u001b[0;34m\u001b[0m\u001b[0m\n\u001b[0m",
            "\u001b[0;31mTypeError\u001b[0m: 'str' object does not support item assignment"
          ]
        }
      ]
    },
    {
      "cell_type": "code",
      "source": [
        "# Man kann Strings ( und uebrigens auch Listen und Tupel ) addieren:\n",
        "print(\"Hallo \"+\"Welt\")"
      ],
      "metadata": {
        "colab": {
          "base_uri": "https://localhost:8080/"
        },
        "id": "5X7l21kzHZqq",
        "outputId": "72097348-bf38-450c-cffd-a26f870937b6"
      },
      "execution_count": null,
      "outputs": [
        {
          "output_type": "stream",
          "name": "stdout",
          "text": [
            "Hallo Welt\n"
          ]
        }
      ]
    },
    {
      "cell_type": "code",
      "source": [
        "print([1, 2] + [5, 6])"
      ],
      "metadata": {
        "colab": {
          "base_uri": "https://localhost:8080/"
        },
        "id": "DLa1Dmq7Hgc3",
        "outputId": "46e15350-55f4-40d3-e737-49b4dd6299e7"
      },
      "execution_count": null,
      "outputs": [
        {
          "output_type": "stream",
          "name": "stdout",
          "text": [
            "[1, 2, 5, 6]\n"
          ]
        }
      ]
    },
    {
      "cell_type": "markdown",
      "source": [
        "### Methoden von Strings\n",
        "\n",
        "Ich habe jetzt schon einmal den Begriff der **Methode** verwendet. Wir gehen spaeter noch auf Details ein, aber man kann sich eine Methode als eine Funktion vorstellen, die zu einem Objekt ( z.B. einem konkreten String ) gehoert. Man sagt, man **ruft eine Methode auf einem Objekt auf**. Das bedeutet, man ruft eine Funktion auf, die fuer einen bestimmten Datentyp (String) definiert ist, und die gleich diesen konkreten String als erstes Argument bekommt.\n",
        "\n",
        "Alle String-Methoden findet man [hier dokumentiert](https://docs.python.org/3/library/stdtypes.html#string-methods)\n",
        "\n",
        "Beispiele:\n",
        "\n",
        "#### String Split"
      ],
      "metadata": {
        "id": "IZ-Atj52Hx2Q"
      }
    },
    {
      "cell_type": "code",
      "source": [
        "# Splitte einen String in mehrere Teilstrings\n",
        "\n",
        "a = \"Hallo Welt wie geht es dir?\"\n",
        "a.split(\" \") # das Leerzeichen dient als Separator. Das gibt eine Liste von Strings zurueck"
      ],
      "metadata": {
        "colab": {
          "base_uri": "https://localhost:8080/"
        },
        "id": "IQxnP8_QHkiX",
        "outputId": "dc784d49-8bd1-48e2-d5df-7bf6cc32a365"
      },
      "execution_count": null,
      "outputs": [
        {
          "output_type": "execute_result",
          "data": {
            "text/plain": [
              "['Hallo', 'Welt', 'wie', 'geht', 'es', 'dir?']"
            ]
          },
          "metadata": {},
          "execution_count": 115
        }
      ]
    },
    {
      "cell_type": "code",
      "source": [],
      "metadata": {
        "id": "l6pOACwGIstq"
      },
      "execution_count": null,
      "outputs": []
    },
    {
      "cell_type": "markdown",
      "source": [
        "Uebung: Schreibe eine Funktion, die einen String als Parameter erwartet, den String mit \",\" als Separator auftrennt und dann jeden Teilstring mit Print ausgibt."
      ],
      "metadata": {
        "id": "XIXafaEXIw6E"
      }
    },
    {
      "cell_type": "code",
      "source": [
        "# Code hier einfuegen"
      ],
      "metadata": {
        "id": "pF39hP1pJIfQ"
      },
      "execution_count": null,
      "outputs": []
    },
    {
      "cell_type": "code",
      "source": [],
      "metadata": {
        "id": "l3Ru-PQ2JKsv"
      },
      "execution_count": null,
      "outputs": []
    },
    {
      "cell_type": "markdown",
      "source": [
        "#### String Manipulation\n",
        "\n"
      ],
      "metadata": {
        "id": "Dmdom8OOJSau"
      }
    },
    {
      "cell_type": "code",
      "source": [
        "a = \"Hallo Welt\"\n",
        "a.replace(\"l\", \"i\")"
      ],
      "metadata": {
        "colab": {
          "base_uri": "https://localhost:8080/",
          "height": 35
        },
        "id": "Jwc2QdZrJ3sl",
        "outputId": "7e4fac46-41ae-4485-8b83-cd00fa70afcb"
      },
      "execution_count": null,
      "outputs": [
        {
          "output_type": "execute_result",
          "data": {
            "text/plain": [
              "'Haiio Weit'"
            ],
            "application/vnd.google.colaboratory.intrinsic+json": {
              "type": "string"
            }
          },
          "metadata": {},
          "execution_count": 116
        }
      ]
    },
    {
      "cell_type": "code",
      "source": [
        "# Beginnt der String mit \"hallo\"\n",
        "# nachdem man alle Grossbuchstaben in kleine geaendert hat?\n",
        "if a.lower().startswith(\"hallo\"):\n",
        "  print(\"Ist eine Begruessung\")"
      ],
      "metadata": {
        "colab": {
          "base_uri": "https://localhost:8080/"
        },
        "id": "a_h8r3ScKA9Q",
        "outputId": "7200896b-2668-471e-81da-e01ade966fc6"
      },
      "execution_count": null,
      "outputs": [
        {
          "output_type": "stream",
          "name": "stdout",
          "text": [
            "Ist eine Begruessung\n"
          ]
        }
      ]
    },
    {
      "cell_type": "code",
      "source": [
        "# Finde die Position des ersten Vorkommens eines Strings im String\n",
        "a.find(\"Welt\")"
      ],
      "metadata": {
        "colab": {
          "base_uri": "https://localhost:8080/"
        },
        "id": "k3LpEzYKKeL8",
        "outputId": "13fe7df5-6b6f-40d9-bca8-42385c521b6c"
      },
      "execution_count": null,
      "outputs": [
        {
          "output_type": "execute_result",
          "data": {
            "text/plain": [
              "6"
            ]
          },
          "metadata": {},
          "execution_count": 119
        }
      ]
    },
    {
      "cell_type": "code",
      "source": [
        "# Alles ab \"Welt\" abschneiden?\n",
        "a[:a.find(\"Welt\")]"
      ],
      "metadata": {
        "colab": {
          "base_uri": "https://localhost:8080/",
          "height": 35
        },
        "id": "6Q_9I1N9KmHi",
        "outputId": "2ef1f643-c54e-46bd-945d-dd6cd92f32db"
      },
      "execution_count": null,
      "outputs": [
        {
          "output_type": "execute_result",
          "data": {
            "text/plain": [
              "'Hallo '"
            ],
            "application/vnd.google.colaboratory.intrinsic+json": {
              "type": "string"
            }
          },
          "metadata": {},
          "execution_count": 120
        }
      ]
    },
    {
      "cell_type": "markdown",
      "source": [
        "\n",
        "\n",
        "### Format-Strings\n",
        "\n",
        "Man kann sogenannte Format-Strings verwenden, in die man auch Werte von Variablen oder andere Ausdruecke (wie Funktionsaufrufe) einbauen kann. So ein Format-String beginnt mit f\" oder f\"\"\" statt mit \" oder \"\"\"\n",
        "\n",
        "Beispiele:"
      ],
      "metadata": {
        "id": "PXCnGrBcLltv"
      }
    },
    {
      "cell_type": "code",
      "source": [
        "f\"Die Losung lautet {a}!!!\""
      ],
      "metadata": {
        "colab": {
          "base_uri": "https://localhost:8080/",
          "height": 53
        },
        "id": "vkqyJJjjPlP1",
        "outputId": "de1d8823-8509-40d7-d707-d2a2d11e2754"
      },
      "execution_count": null,
      "outputs": [
        {
          "output_type": "execute_result",
          "data": {
            "text/plain": [
              "'Die Losung lautet Alle Worte in einem Text durch eine Zahl ersetzen die angibt wie lang das Wort ist!!!'"
            ],
            "application/vnd.google.colaboratory.intrinsic+json": {
              "type": "string"
            }
          },
          "metadata": {},
          "execution_count": 141
        }
      ]
    },
    {
      "cell_type": "code",
      "source": [
        "b = 0.12434\n",
        "print(f\"Die Losung lautet {a.lower()}!!! - Die Zahl b ist {b}\")"
      ],
      "metadata": {
        "colab": {
          "base_uri": "https://localhost:8080/"
        },
        "id": "Ilt1iETkPtK3",
        "outputId": "70801f31-aac1-4cd3-dfd9-a55b0f29453a"
      },
      "execution_count": null,
      "outputs": [
        {
          "output_type": "stream",
          "name": "stdout",
          "text": [
            "Die Losung lautet alle worte in einem text durch eine zahl ersetzen die angibt wie lang das wort ist!!! - Die Zahl b ist 0.12434\n"
          ]
        }
      ]
    },
    {
      "cell_type": "code",
      "source": [],
      "metadata": {
        "id": "5HRbywKMP76v"
      },
      "execution_count": null,
      "outputs": []
    },
    {
      "cell_type": "markdown",
      "source": [
        "### String Escape Sequenzen und Raw-Strings\n",
        "\n",
        "Wenn man in Quellcode Strings definiert, gibt es bestimmte sogenannte Escape-Sequenzen die mit dem Buchstaben \\ (Backslash) eingeleitet werden, die besondere Bedeutung haben. Gaengige Escape Sequenzen werden hier demonstriert.\n",
        "\n",
        "Es gibt auch sogenannte **Raw-Strings**, (die beginnen mit r\" ) bei denen keine Escape-Ersetzung passiert. Diese sind insbesondere auch nuetzlich fuer **Windows-Pfade** in denen viele Backslashes vorkommmen und fuer **Regular-Expressions** (mehr dazu spaeter), in denen man ebenfalls Backslashes schreiben koennen moechte ohne dass sie weiter interpretiert werden.\n",
        "\n",
        "Beispiel:\n"
      ],
      "metadata": {
        "id": "6ntDEz1WP88Y"
      }
    },
    {
      "cell_type": "code",
      "source": [
        "escape_sequenzen = {\n",
        "    r\"\\n\" : \"\\n\", # Zeilenumbruch\n",
        "    r\"\\t\" : \"\\t\", # Tabulator / Einrueckungszeichen\n",
        "    r\"\\\\\" : \"\\\\\", # Der Backslash selbst\n",
        "}\n",
        "for raw_str, escaped_str in escape_sequenzen.items():\n",
        "  print(f\"raw string: '{raw_str}' = escaped: '{escaped_str}'\")"
      ],
      "metadata": {
        "colab": {
          "base_uri": "https://localhost:8080/"
        },
        "id": "pR_gCzkFQQsP",
        "outputId": "312dba30-8187-4191-95fd-dc58eaad86f7"
      },
      "execution_count": null,
      "outputs": [
        {
          "output_type": "stream",
          "name": "stdout",
          "text": [
            "raw string: '\\n' = escaped: '\n",
            "'\n",
            "raw string: '\\t' = escaped: '\t'\n",
            "raw string: '\\\\' = escaped: '\\'\n"
          ]
        }
      ]
    },
    {
      "cell_type": "markdown",
      "source": [
        "### map\n",
        "\n",
        "Funktionen kann man an Funktionen uebergeben. So eine Funktion ist die eingebaute Funktion \"map\", welche einfach eine Funktion\n",
        "auf alle Elemente einer Sequenz ( Liste oder so) anwendet, und eine Sequenz zurueckgibt bei der der urspruengliche Wert ersetzt wurde.\n",
        "\n",
        "Beispiel:"
      ],
      "metadata": {
        "id": "xKOZ9zZhLlw4"
      }
    },
    {
      "cell_type": "code",
      "source": [
        "# das hier ist aequivalent zur eingebauten \"map\" Funktion\n",
        "def my_map(funktion, sequenz):\n",
        "  for wert in sequenz:\n",
        "    yield funktion(wert)\n"
      ],
      "metadata": {
        "id": "jdsuqMQ0NEIJ"
      },
      "execution_count": null,
      "outputs": []
    },
    {
      "cell_type": "code",
      "source": [
        "# Die Funktion \"map\"\n",
        "a = \"Alle Worte in einem Text durch eine Zahl ersetzen die angibt wie lang das Wort ist\"\n",
        "# beachte dass die Funktion \"len\" an map uebergeben wird, ohne dass sie direkt\n",
        "# aufgerufen wird!\n",
        "list(map(len, a.split(\" \")))"
      ],
      "metadata": {
        "colab": {
          "base_uri": "https://localhost:8080/"
        },
        "id": "Zst6gz8qK5HB",
        "outputId": "37fe3e66-029f-4757-808a-1e5ce1de1a8d"
      },
      "execution_count": null,
      "outputs": [
        {
          "output_type": "execute_result",
          "data": {
            "text/plain": [
              "[4, 5, 2, 5, 4, 5, 4, 4, 8, 3, 6, 3, 4, 3, 4, 3]"
            ]
          },
          "metadata": {},
          "execution_count": 122
        }
      ]
    },
    {
      "cell_type": "code",
      "source": [
        "list(my_map(len, a.split(\" \")))"
      ],
      "metadata": {
        "colab": {
          "base_uri": "https://localhost:8080/"
        },
        "id": "NvzCJKyoNSko",
        "outputId": "3f946804-3350-4685-adcb-91eaa1b91149"
      },
      "execution_count": null,
      "outputs": [
        {
          "output_type": "execute_result",
          "data": {
            "text/plain": [
              "[4, 5, 2, 5, 4, 5, 4, 4, 8, 3, 6, 3, 4, 3, 4, 3]"
            ]
          },
          "metadata": {},
          "execution_count": 131
        }
      ]
    },
    {
      "cell_type": "code",
      "source": [
        "# Uebung: Was macht dieser Code? Verstehst du ihn?\n",
        "\n",
        "# Hinweise: join ist eine String Methode die eine Liste von Strings zusammenfuegt\n",
        "# und die Funktion 'str' versucht aus einem anderen Datentyp (z.B. einer Zahl)\n",
        "# einen String zu machen\n",
        "\n",
        "\".;.\".join(map(str, (map(len, a.split(\" \")))))"
      ],
      "metadata": {
        "colab": {
          "base_uri": "https://localhost:8080/",
          "height": 35
        },
        "id": "1hgYaQusLoyT",
        "outputId": "3fd5f609-03ae-4052-9437-e9a95c6c06e6"
      },
      "execution_count": null,
      "outputs": [
        {
          "output_type": "execute_result",
          "data": {
            "text/plain": [
              "'4.;.5.;.2.;.5.;.4.;.5.;.4.;.4.;.8.;.3.;.6.;.3.;.4.;.3.;.4.;.3'"
            ],
            "application/vnd.google.colaboratory.intrinsic+json": {
              "type": "string"
            }
          },
          "metadata": {},
          "execution_count": 128
        }
      ]
    },
    {
      "cell_type": "code",
      "source": [
        "# Kann man das vereinfachen? Klar\n",
        "\n",
        "def strlen(s):\n",
        "  return str(len(s))\n",
        "\n",
        "\".;.\".join(map(strlen, a.split(\" \")))"
      ],
      "metadata": {
        "colab": {
          "base_uri": "https://localhost:8080/",
          "height": 35
        },
        "id": "O2rr6L3gM4vx",
        "outputId": "6c5989c0-3d02-4ffc-8a51-54c964ff3046"
      },
      "execution_count": null,
      "outputs": [
        {
          "output_type": "execute_result",
          "data": {
            "text/plain": [
              "'4.;.5.;.2.;.5.;.4.;.5.;.4.;.4.;.8.;.3.;.6.;.3.;.4.;.3.;.4.;.3'"
            ],
            "application/vnd.google.colaboratory.intrinsic+json": {
              "type": "string"
            }
          },
          "metadata": {},
          "execution_count": 132
        }
      ]
    },
    {
      "cell_type": "code",
      "source": [
        "# Oder lesbarer aber laenger mit einer Schleife?\n",
        "resultat = \"\"\n",
        "for wort in a.split(\" \"):\n",
        "  if len(resultat)>0:\n",
        "    resultat += \".;.\"\n",
        "  resultat += str(len(wort))\n",
        "resultat"
      ],
      "metadata": {
        "colab": {
          "base_uri": "https://localhost:8080/",
          "height": 35
        },
        "id": "Ke_RcwC2MApp",
        "outputId": "b1314f8a-9721-4ea7-de09-0270da6e7cb0"
      },
      "execution_count": null,
      "outputs": [
        {
          "output_type": "execute_result",
          "data": {
            "text/plain": [
              "'4.;.5.;.2.;.5.;.4.;.5.;.4.;.4.;.8.;.3.;.6.;.3.;.4.;.3.;.4.;.3'"
            ],
            "application/vnd.google.colaboratory.intrinsic+json": {
              "type": "string"
            }
          },
          "metadata": {},
          "execution_count": 135
        }
      ]
    },
    {
      "cell_type": "markdown",
      "source": [
        "### Optionales Thema: Lambda-Funktionen\n",
        "\n",
        "**Optionales Thema, nicht essentiell!**\n",
        "\n",
        "Manchmal will man eine super simple Funktion an eine andere Funktion uebergeben ohne ihr einen Namen geben zu muessen. Dazu gibt es das **lambda** Keyword. Es definiert on-the-fly eine Funktion ohne ihr einen Namen zu geben.\n",
        "\n",
        "Im folgenden ist\n",
        "\n",
        "```python\n",
        "strlen = lambda s : str(len(s))\n",
        "```\n",
        "\n",
        "exakt aequivalent zu\n",
        "\n",
        "```\n",
        "def strlen(s):\n",
        "    return str(len(s))\n",
        "```\n",
        "\n"
      ],
      "metadata": {
        "id": "oaALErtIOEGH"
      }
    },
    {
      "cell_type": "code",
      "source": [
        "# hier ein Beispiel\n",
        "list(map(lambda s : str(len(s)), a.split(\" \")))"
      ],
      "metadata": {
        "colab": {
          "base_uri": "https://localhost:8080/"
        },
        "id": "2BJ0xwnaOC9u",
        "outputId": "b0d86bcc-1a0b-4d1f-8c8c-0c3d7964d982"
      },
      "execution_count": null,
      "outputs": [
        {
          "output_type": "execute_result",
          "data": {
            "text/plain": [
              "['4',\n",
              " '5',\n",
              " '2',\n",
              " '5',\n",
              " '4',\n",
              " '5',\n",
              " '4',\n",
              " '4',\n",
              " '8',\n",
              " '3',\n",
              " '6',\n",
              " '3',\n",
              " '4',\n",
              " '3',\n",
              " '4',\n",
              " '3']"
            ]
          },
          "metadata": {},
          "execution_count": 139
        }
      ]
    },
    {
      "cell_type": "markdown",
      "source": [],
      "metadata": {
        "id": "hUcY1s7kOZaC"
      }
    },
    {
      "cell_type": "markdown",
      "source": [
        "#### Optionales Thema: Notebook Debugger\n",
        "\n",
        "**Optionales Thema, nicht essentiell!**\n",
        "\n",
        "Eine Sache die im Jupyter Notebook ganz hilfreich ist, ist ein eingebauter Debugger mit dem man sich den Zustand des Programms anschauen kann, wenn eine **ungefangene** Exception aufgetreten ist.\n",
        "\n",
        "Dazu muss man nur direkt nachdem die Exception aufgetreten ist, einfach \"%debug\" in einer Zelle ausführen. Dann springt man in einem interaktiven Debugger. In dem Debugger hat man ein paar Kommandos:\n",
        "\n",
        " * **cont** um den Debugger zu verlassen ( wichtig, sonst kann man nix anderes mehr ausführen!)\n",
        " * **list** um sich anzuschauen wo man sich im Quellcode gerade befindet\n",
        " * **up** um im Call-Stack nach oben zu gehen ( also in die äussere Funktion, die die die Funktion aufgerufen hat in der der Fehler auftrat )\n",
        " * **down** um im Call-Stack wieder nach unten zu gehen\n",
        " * **help** um eine Hilfe aufzurufen\n",
        " * **p** *\\<varname\\>* (print) um den Wert einer Variable auszugeben (z.B. \"p b\").\n"
      ],
      "metadata": {
        "id": "Zf7AWyBZEYxI"
      }
    },
    {
      "cell_type": "code",
      "source": [
        "# debugging beispiel\n",
        "print(meine_division(2, -4))"
      ],
      "metadata": {
        "colab": {
          "base_uri": "https://localhost:8080/",
          "height": 269
        },
        "id": "UQPF1OO2EidM",
        "outputId": "04428200-d101-497a-b548-84de196a8172"
      },
      "execution_count": null,
      "outputs": [
        {
          "output_type": "error",
          "ename": "RuntimeError",
          "evalue": "ignored",
          "traceback": [
            "\u001b[0;31m---------------------------------------------------------------------------\u001b[0m",
            "\u001b[0;31mRuntimeError\u001b[0m                              Traceback (most recent call last)",
            "\u001b[0;32m<ipython-input-105-b5040e7ca791>\u001b[0m in \u001b[0;36m<cell line: 1>\u001b[0;34m()\u001b[0m\n\u001b[0;32m----> 1\u001b[0;31m \u001b[0mprint\u001b[0m\u001b[0;34m(\u001b[0m\u001b[0mmeine_division\u001b[0m\u001b[0;34m(\u001b[0m\u001b[0;36m2\u001b[0m\u001b[0;34m,\u001b[0m \u001b[0;34m-\u001b[0m\u001b[0;36m4\u001b[0m\u001b[0;34m)\u001b[0m\u001b[0;34m)\u001b[0m\u001b[0;34m\u001b[0m\u001b[0;34m\u001b[0m\u001b[0m\n\u001b[0m",
            "\u001b[0;32m<ipython-input-96-312dae37e4c1>\u001b[0m in \u001b[0;36mmeine_division\u001b[0;34m(a, b)\u001b[0m\n\u001b[1;32m      1\u001b[0m \u001b[0;32mdef\u001b[0m \u001b[0mmeine_division\u001b[0m\u001b[0;34m(\u001b[0m\u001b[0ma\u001b[0m\u001b[0;34m,\u001b[0m \u001b[0mb\u001b[0m\u001b[0;34m)\u001b[0m\u001b[0;34m:\u001b[0m\u001b[0;34m\u001b[0m\u001b[0;34m\u001b[0m\u001b[0m\n\u001b[1;32m      2\u001b[0m   \u001b[0;32mif\u001b[0m \u001b[0mb\u001b[0m\u001b[0;34m==\u001b[0m\u001b[0;36m0\u001b[0m \u001b[0;32mor\u001b[0m \u001b[0mb\u001b[0m\u001b[0;34m<\u001b[0m\u001b[0;36m0\u001b[0m\u001b[0;34m:\u001b[0m\u001b[0;34m\u001b[0m\u001b[0;34m\u001b[0m\u001b[0m\n\u001b[0;32m----> 3\u001b[0;31m     \u001b[0;32mraise\u001b[0m \u001b[0mRuntimeError\u001b[0m\u001b[0;34m(\u001b[0m\u001b[0;34mf\"b must be positive. Current value is {b}\"\u001b[0m\u001b[0;34m)\u001b[0m\u001b[0;34m\u001b[0m\u001b[0;34m\u001b[0m\u001b[0m\n\u001b[0m\u001b[1;32m      4\u001b[0m   \u001b[0;32mreturn\u001b[0m \u001b[0ma\u001b[0m\u001b[0;34m/\u001b[0m\u001b[0mb\u001b[0m\u001b[0;34m\u001b[0m\u001b[0;34m\u001b[0m\u001b[0m\n",
            "\u001b[0;31mRuntimeError\u001b[0m: b must be positive. Current value is -4"
          ]
        }
      ]
    },
    {
      "cell_type": "code",
      "source": [
        "#auskommentieren um es auszufuehren\n",
        "#%debug"
      ],
      "metadata": {
        "colab": {
          "base_uri": "https://localhost:8080/"
        },
        "id": "QQxQOAzfFKNj",
        "outputId": "beaa9b5f-3560-4ed0-95d7-8227ad79057d"
      },
      "execution_count": null,
      "outputs": [
        {
          "name": "stdout",
          "output_type": "stream",
          "text": [
            "> \u001b[0;32m<ipython-input-96-312dae37e4c1>\u001b[0m(3)\u001b[0;36mmeine_division\u001b[0;34m()\u001b[0m\n",
            "\u001b[0;32m      1 \u001b[0;31m\u001b[0;32mdef\u001b[0m \u001b[0mmeine_division\u001b[0m\u001b[0;34m(\u001b[0m\u001b[0ma\u001b[0m\u001b[0;34m,\u001b[0m \u001b[0mb\u001b[0m\u001b[0;34m)\u001b[0m\u001b[0;34m:\u001b[0m\u001b[0;34m\u001b[0m\u001b[0;34m\u001b[0m\u001b[0m\n",
            "\u001b[0m\u001b[0;32m      2 \u001b[0;31m  \u001b[0;32mif\u001b[0m \u001b[0mb\u001b[0m\u001b[0;34m==\u001b[0m\u001b[0;36m0\u001b[0m \u001b[0;32mor\u001b[0m \u001b[0mb\u001b[0m\u001b[0;34m<\u001b[0m\u001b[0;36m0\u001b[0m\u001b[0;34m:\u001b[0m\u001b[0;34m\u001b[0m\u001b[0;34m\u001b[0m\u001b[0m\n",
            "\u001b[0m\u001b[0;32m----> 3 \u001b[0;31m    \u001b[0;32mraise\u001b[0m \u001b[0mRuntimeError\u001b[0m\u001b[0;34m(\u001b[0m\u001b[0;34mf\"b must be positive. Current value is {b}\"\u001b[0m\u001b[0;34m)\u001b[0m\u001b[0;34m\u001b[0m\u001b[0;34m\u001b[0m\u001b[0m\n",
            "\u001b[0m\u001b[0;32m      4 \u001b[0;31m  \u001b[0;32mreturn\u001b[0m \u001b[0ma\u001b[0m\u001b[0;34m/\u001b[0m\u001b[0mb\u001b[0m\u001b[0;34m\u001b[0m\u001b[0;34m\u001b[0m\u001b[0m\n",
            "\u001b[0m\n",
            "ipdb> list\n",
            "\u001b[1;32m      1 \u001b[0m\u001b[0;32mdef\u001b[0m \u001b[0mmeine_division\u001b[0m\u001b[0;34m(\u001b[0m\u001b[0ma\u001b[0m\u001b[0;34m,\u001b[0m \u001b[0mb\u001b[0m\u001b[0;34m)\u001b[0m\u001b[0;34m:\u001b[0m\u001b[0;34m\u001b[0m\u001b[0;34m\u001b[0m\u001b[0m\n",
            "\u001b[1;32m      2 \u001b[0m  \u001b[0;32mif\u001b[0m \u001b[0mb\u001b[0m\u001b[0;34m==\u001b[0m\u001b[0;36m0\u001b[0m \u001b[0;32mor\u001b[0m \u001b[0mb\u001b[0m\u001b[0;34m<\u001b[0m\u001b[0;36m0\u001b[0m\u001b[0;34m:\u001b[0m\u001b[0;34m\u001b[0m\u001b[0;34m\u001b[0m\u001b[0m\n",
            "\u001b[0;32m----> 3 \u001b[0;31m    \u001b[0;32mraise\u001b[0m \u001b[0mRuntimeError\u001b[0m\u001b[0;34m(\u001b[0m\u001b[0;34mf\"b must be positive. Current value is {b}\"\u001b[0m\u001b[0;34m)\u001b[0m\u001b[0;34m\u001b[0m\u001b[0;34m\u001b[0m\u001b[0m\n",
            "\u001b[0m\u001b[1;32m      4 \u001b[0m  \u001b[0;32mreturn\u001b[0m \u001b[0ma\u001b[0m\u001b[0;34m/\u001b[0m\u001b[0mb\u001b[0m\u001b[0;34m\u001b[0m\u001b[0;34m\u001b[0m\u001b[0m\n",
            "\n",
            "ipdb> p b\n",
            "-4\n",
            "ipdb> p a\n",
            "2\n",
            "ipdb> up\n",
            "> \u001b[0;32m<ipython-input-105-b5040e7ca791>\u001b[0m(1)\u001b[0;36m<cell line: 1>\u001b[0;34m()\u001b[0m\n",
            "\u001b[0;32m----> 1 \u001b[0;31m\u001b[0mprint\u001b[0m\u001b[0;34m(\u001b[0m\u001b[0mmeine_division\u001b[0m\u001b[0;34m(\u001b[0m\u001b[0;36m2\u001b[0m\u001b[0;34m,\u001b[0m \u001b[0;34m-\u001b[0m\u001b[0;36m4\u001b[0m\u001b[0;34m)\u001b[0m\u001b[0;34m)\u001b[0m\u001b[0;34m\u001b[0m\u001b[0;34m\u001b[0m\u001b[0m\n",
            "\u001b[0m\n",
            "ipdb> list\n",
            "\u001b[0;32m----> 1 \u001b[0;31m\u001b[0mprint\u001b[0m\u001b[0;34m(\u001b[0m\u001b[0mmeine_division\u001b[0m\u001b[0;34m(\u001b[0m\u001b[0;36m2\u001b[0m\u001b[0;34m,\u001b[0m \u001b[0;34m-\u001b[0m\u001b[0;36m4\u001b[0m\u001b[0;34m)\u001b[0m\u001b[0;34m)\u001b[0m\u001b[0;34m\u001b[0m\u001b[0;34m\u001b[0m\u001b[0m\n",
            "\u001b[0m\n",
            "ipdb> help\n",
            "\n",
            "Documented commands (type help <topic>):\n",
            "========================================\n",
            "EOF    commands   enable    ll        pp       s                until \n",
            "a      condition  exit      longlist  psource  skip_hidden      up    \n",
            "alias  cont       h         n         q        skip_predicates  w     \n",
            "args   context    help      next      quit     source           whatis\n",
            "b      continue   ignore    p         r        step             where \n",
            "break  d          interact  pdef      restart  tbreak         \n",
            "bt     debug      j         pdoc      return   u              \n",
            "c      disable    jump      pfile     retval   unalias        \n",
            "cl     display    l         pinfo     run      undisplay      \n",
            "clear  down       list      pinfo2    rv       unt            \n",
            "\n",
            "Miscellaneous help topics:\n",
            "==========================\n",
            "exec  pdb\n",
            "\n",
            "ipdb> help whatis\n",
            "whatis arg\n",
            "        Print the type of the argument.\n",
            "ipdb> whatis a\n",
            "*** NameError: name 'a' is not defined\n",
            "ipdb> down\n",
            "> \u001b[0;32m<ipython-input-96-312dae37e4c1>\u001b[0m(3)\u001b[0;36mmeine_division\u001b[0;34m()\u001b[0m\n",
            "\u001b[0;32m      1 \u001b[0;31m\u001b[0;32mdef\u001b[0m \u001b[0mmeine_division\u001b[0m\u001b[0;34m(\u001b[0m\u001b[0ma\u001b[0m\u001b[0;34m,\u001b[0m \u001b[0mb\u001b[0m\u001b[0;34m)\u001b[0m\u001b[0;34m:\u001b[0m\u001b[0;34m\u001b[0m\u001b[0;34m\u001b[0m\u001b[0m\n",
            "\u001b[0m\u001b[0;32m      2 \u001b[0;31m  \u001b[0;32mif\u001b[0m \u001b[0mb\u001b[0m\u001b[0;34m==\u001b[0m\u001b[0;36m0\u001b[0m \u001b[0;32mor\u001b[0m \u001b[0mb\u001b[0m\u001b[0;34m<\u001b[0m\u001b[0;36m0\u001b[0m\u001b[0;34m:\u001b[0m\u001b[0;34m\u001b[0m\u001b[0;34m\u001b[0m\u001b[0m\n",
            "\u001b[0m\u001b[0;32m----> 3 \u001b[0;31m    \u001b[0;32mraise\u001b[0m \u001b[0mRuntimeError\u001b[0m\u001b[0;34m(\u001b[0m\u001b[0;34mf\"b must be positive. Current value is {b}\"\u001b[0m\u001b[0;34m)\u001b[0m\u001b[0;34m\u001b[0m\u001b[0;34m\u001b[0m\u001b[0m\n",
            "\u001b[0m\u001b[0;32m      4 \u001b[0;31m  \u001b[0;32mreturn\u001b[0m \u001b[0ma\u001b[0m\u001b[0;34m/\u001b[0m\u001b[0mb\u001b[0m\u001b[0;34m\u001b[0m\u001b[0;34m\u001b[0m\u001b[0m\n",
            "\u001b[0m\n",
            "ipdb> whatis a\n",
            "<class 'int'>\n",
            "ipdb> cont\n"
          ]
        },
        {
          "output_type": "stream",
          "name": "stderr",
          "text": [
            "\n",
            "PYDEV DEBUGGER WARNING:\n",
            "sys.settrace() should not be used when the debugger is being used.\n",
            "This may cause the debugger to stop working correctly.\n",
            "If this is needed, please check: \n",
            "http://pydev.blogspot.com/2007/06/why-cant-pydev-debugger-work-with.html\n",
            "to see how to restore the debug tracing back correctly.\n",
            "Call Location:\n",
            "  File \"/usr/lib/python3.10/bdb.py\", line 347, in set_continue\n",
            "    sys.settrace(None)\n",
            "\n"
          ]
        }
      ]
    }
  ]
}