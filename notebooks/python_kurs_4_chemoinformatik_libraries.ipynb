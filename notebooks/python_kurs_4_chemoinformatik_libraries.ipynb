{
  "nbformat": 4,
  "nbformat_minor": 0,
  "metadata": {
    "colab": {
      "provenance": [],
      "authorship_tag": "ABX9TyM1IwBv/wmG1RUSBpGFNchW",
      "include_colab_link": true
    },
    "kernelspec": {
      "name": "python3",
      "display_name": "Python 3"
    },
    "language_info": {
      "name": "python"
    }
  },
  "cells": [
    {
      "cell_type": "markdown",
      "metadata": {
        "id": "view-in-github",
        "colab_type": "text"
      },
      "source": [
        "<a href=\"https://colab.research.google.com/github/kadeng/pykurs/blob/main/notebooks/python_kurs_4_chemoinformatik_libraries.ipynb\" target=\"_parent\"><img src=\"https://colab.research.google.com/assets/colab-badge.svg\" alt=\"Open In Colab\"/></a>"
      ]
    },
    {
      "cell_type": "markdown",
      "source": [
        "## Python Kurs\n",
        "\n",
        "Dieses Notebook ist Teil 2, eines kleinen Kurses mit Übungen, in dem auf einige Themen mittleren bis einfachen Komplexitätsgrads eingegangen wird, die in generellen Einführungen zu Python manchmal zu kurz kommen, in der Praxis aber relevant sind.\n"
      ],
      "metadata": {
        "id": "62NmuHb2jHin"
      }
    },
    {
      "cell_type": "markdown",
      "source": [
        "## Chemoinformatik Library Links\n",
        "\n",
        " * RDKit [github](https://github.com/rdkit/rdkit) - [getting started](https://www.rdkit.org/docs/GettingStartedInPython.html)\n",
        " * Torchdrug [Quickstart](https://torchdrug.ai/docs/quick_start.html) - [Property Prediction Tutorial](https://torchdrug.ai/docs/tutorials/property_prediction.html)\n",
        "\n",
        " ## Interessante Links\n",
        "\n",
        "  * RDKit Tutorial Notebooks https://github.com/rdkit/rdkit-tutorials\n",
        "  * RDKit unterstuetzt anscheinend das Suchen nach Mustern in Molekularen Strukturen mit Hilfe von [SMARTS](https://en.wikipedia.org/wiki/SMILES_arbitrary_target_specification) - siehe [https://github.com/rdkit/rdkit-tutorials/blob/master/notebooks/002_SMARTS_SubstructureMatching.ipynb]"
      ],
      "metadata": {
        "id": "2Udp8u4aKu3j"
      }
    }
  ]
}