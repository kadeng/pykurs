{
  "nbformat": 4,
  "nbformat_minor": 0,
  "metadata": {
    "colab": {
      "provenance": [],
      "authorship_tag": "ABX9TyPeTXPzFAyrtbpguJfuU0ZG",
      "include_colab_link": true
    },
    "kernelspec": {
      "name": "python3",
      "display_name": "Python 3"
    },
    "language_info": {
      "name": "python"
    }
  },
  "cells": [
    {
      "cell_type": "markdown",
      "metadata": {
        "id": "view-in-github",
        "colab_type": "text"
      },
      "source": [
        "<a href=\"https://colab.research.google.com/github/kadeng/pykurs/blob/main/notebooks/python_kurs_3_tabellen_transformieren.ipynb\" target=\"_parent\"><img src=\"https://colab.research.google.com/assets/colab-badge.svg\" alt=\"Open In Colab\"/></a>"
      ]
    },
    {
      "cell_type": "markdown",
      "source": [
        "## Python Kurs\n",
        "\n",
        "Dieses Notebook ist Teil 3, eines kleinen Kurses mit Übungen, in dem auf einige Themen mittleren bis einfachen Komplexitätsgrads eingegangen wird, die in generellen Einführungen zu Python manchmal zu kurz kommen, in der Praxis aber relevant sind.\n"
      ],
      "metadata": {
        "id": "62NmuHb2jHin"
      }
    },
    {
      "cell_type": "markdown",
      "source": [
        "## Tabellen und Tabellen Transformationen\n",
        "\n",
        "das Thema in diesem Notebook sind Tabellen und wie man sie transformiert. Wir werden dazu das **pandas** Paket benutzen, welches man ggf. installieren muss, sowie das **re** und das **json** Paket, welche zu Python gehören.\n",
        "\n",
        "Da dieses Notebook ohne weitere zugehörige Dateien lauffähig sein soll, verwenden wir zudem das io Package um CSV Dateien aus im Notebook eingebetteten Strings zu lesen.\n"
      ],
      "metadata": {
        "id": "vU2EMSceHlKr"
      }
    },
    {
      "cell_type": "code",
      "source": [
        "import re\n",
        "import json\n",
        "import pandas as pd\n",
        "import io\n",
        "import numpy as np"
      ],
      "metadata": {
        "id": "dK5gKRBcH9kk"
      },
      "execution_count": 2,
      "outputs": []
    },
    {
      "cell_type": "code",
      "source": [
        "# Display optionen setzen\n",
        "# wir wollen die Daten komplett sehen\n",
        "pd.set_option('display.max_columns', 100)\n",
        "pd.options.display.max_rows = 999\n",
        "pd.options.display.max_colwidth = 1000"
      ],
      "metadata": {
        "id": "6V9uPj3JeVlu"
      },
      "execution_count": 3,
      "outputs": []
    },
    {
      "cell_type": "markdown",
      "source": [
        "### Pandas Grundlagen\n",
        "\n",
        "pandas ist das beliebteste Paket um in Python mit Tabellen zu arbeiten. Alternative und durchaus erwähnenswerte Pakete sind noch **polars** welches etwas neuer und schneller ist. Vermutlich ist **polars** inzwischen besser, aber für **pandas** gibt es mehr Dokumentation und Hilfestellungen Online.\n",
        "\n"
      ],
      "metadata": {
        "id": "eMRjwAdcIrAP"
      }
    },
    {
      "cell_type": "markdown",
      "source": [
        "## pandas DataFrame und Series\n",
        "\n",
        "Die zwei wichtigsten Datentypen die man in Pandas auch vom Namen her kennen sollte sind\n",
        "\n",
        "### DataFrame ( Tabellen )\n",
        "\n",
        " Ein DataFrame ist eine komplette Tabelle, die Zeilen und Spalten hat. Da pandas allerdings die Daten **Spaltenorientiert** speichert, ist effektiv ein Dataframe etwas das einem **dict** ähnelt das einfach nur Spaltennamen (Strings) auf Objekte mappt die Spalten repräsentieren ( **pandas.Series** ).\n",
        "\n",
        "neben diesen Spalten, verwaltet ein DataFrame auch noch einen **Index** mit dem einzelne Einträge in allen Spalten gefunden werden können. Dieser **Index** muss bei allen Spalten des Dataframes der gleiche sein, das heisst z.B. alle Spalten müssen die gleiche Länge haben. Standardmässig werden die Einträge in einem Dataframe oder auch einzelnen Spalten einfach von 0 aufsteigend durchnumeriert. Aber ein Index kann z.B. auch erlauben, jeder Zeile einen Namen zu geben.\n",
        "\n",
        "**Man kann einem Dataframe ohne weiteres neue Spalten hinzufügen, Spalten löschen oder ersetze**n. Es ist allerdings **nicht ohne weiteres möglich, neue Zeilen hinzuzufügen oder Zeilen zu ersetzen**. Dazu schreibt man dann in der Regel besser einen neuen DataFrame. Das ist glücklicherweise recht einfach.\n",
        "\n",
        " ### Series ( Spalten / Columns )\n",
        "\n",
        " Eine pandas **Series repräsentiert in der Regel eine Spalte**. Allgemein ist es aber einfach eine Liste von Werten eines gemeinsamen Datentyps. Zusätzlich zu dieser Liste von Werten hat jede pandas Series noch einen **Index** der in der Regel von 0 aufsteigend numeriert ist.\n",
        "\n",
        " Es ist theoretisch möglich einzelne Werte in Spalten zu ändern, allerdings ist es auch da aus Effizienzgründen ratsamer lieber neue Spalten zu erzeugen und die alten Spalten komplett zu ersetzen.\n",
        "\n",
        "#### Achtung: Zugriff auf Zeilen ( rows )\n",
        "\n",
        " Wenn man allerdings aus einem pandas DataFrame auf eine einzelne Zeile ( z.B. mit Hilfe von **DataFrame.rows**) zugreift, so wird auch diese Zeile als ein pandas.Series Objekt repräsentiert, mit einem Index der erlaubt auf einzelne Einträge anhand des Namens der Spalte zuzugreifen. Allerdings wird dieses Series Objekt dann kurzerhand erzeugt und ist eigentlich nur ein temporäres Objekt. Es **macht daher keinen Sinn zu versuchen auf diese Art Zeilen zu verändern**.\n",
        "\n"
      ],
      "metadata": {
        "id": "Jd-hZu3Bo4LH"
      }
    },
    {
      "cell_type": "markdown",
      "source": [
        "### Eine Problematische Tabelle\n",
        "\n",
        "Wir beginnen mit einer sehr problematischen Tabelle, die aus einer Datenbank, Excel oder sonstwo kommen könnte. Sie hat zahlreiche Probleme die wir nacheinander angehen werden.\n",
        "\n",
        "Wie man auch in diesem Beispiel gut sieht, wird der pandas DataFrame als\n",
        "ein dict"
      ],
      "metadata": {
        "id": "5vTtfspRhdfu"
      }
    },
    {
      "cell_type": "code",
      "source": [
        "daten_column_format =  {  \"product_id\" : [ 1.0, 2.0, 3.0, 4.0 ], # produkt-id sollte eigentlich ein int sein, sind aber floats\n",
        "        \"price\" : [ \"100,000.5 $\", \"1.130,5 EUR\", \"129.200€\", \"N/A. Bert fragt nach.\" ], # Wirrwarr an Formaten und Währungen, mit fehlenden Daten. Sollte eigentlich ein float-Wert in EUR sein\n",
        "        \"tested\" : [ \"Ja\", \"Nö\", \"Nein\", \"Vielleicht\"], # Sollte eigentlich True, False oder None (unbekannt) sein\n",
        "        \"category\" : [ \"Gartenmoebel\", \"Gartenmoebel\", \"Möbel\", \"Moebel\"], # Umlaute mal so mal so, sollte Gruppierungen erlauben\n",
        "        \"belastungstest_stufen\" : [ \"10,20,30\", \"10,20,30\", \"10,20\", \"10,20\"], # kg mit denen die Möbel bei Tests belastet wurden\n",
        "        \"belastungstest_ergebnisse\" : [ # Ergebnisse von Belastungstests in einem Freitextformat das man parsen muss\n",
        "              \"ok: 10 kg: 100 Stunden, 20 kg: 50 Stunden, 30 kg: 25 Stunden.\",\n",
        "              \"nicht OK:  10: 10 Stunden, 20: 3 Stunden, 30: Zusammenbruch. Kommentar: Wasserresistenz nicht getestet\",\n",
        "              \"Ok: 10: 100 Stunden, 20 : 100 Stunden. Kommentar: Super Qualität\",\n",
        "              \"ok: 10: 100 Stunden, 20:10 Stunden, 30: N/A. Kommentar: Qualität ok\"]}\n",
        "\n",
        "problem_df = pd.DataFrame(daten_column_format)\n",
        "problem_df"
      ],
      "metadata": {
        "id": "HJDGE3-hd0hr",
        "outputId": "b4acc9d7-1e85-4d41-9b1a-b6c553de2ff5",
        "colab": {
          "base_uri": "https://localhost:8080/",
          "height": 175
        }
      },
      "execution_count": 11,
      "outputs": [
        {
          "output_type": "execute_result",
          "data": {
            "text/plain": [
              "   product_id                  price      tested      category  \\\n",
              "0         1.0            100,000.5 $          Ja  Gartenmoebel   \n",
              "1         2.0            1.130,5 EUR          Nö  Gartenmoebel   \n",
              "2         3.0               129.200€        Nein         Möbel   \n",
              "3         4.0  N/A. Bert fragt nach.  Vielleicht        Moebel   \n",
              "\n",
              "  belastungstest_stufen  \\\n",
              "0              10,20,30   \n",
              "1              10,20,30   \n",
              "2                 10,20   \n",
              "3                 10,20   \n",
              "\n",
              "                                                                                belastungstest_ergebnisse  \n",
              "0                                           ok: 10 kg: 100 Stunden, 20 kg: 50 Stunden, 30 kg: 25 Stunden.  \n",
              "1  nicht OK:  10: 10 Stunden, 20: 3 Stunden, 30: Zusammenbruch. Kommentar: Wasserresistenz nicht getestet  \n",
              "2                                        Ok: 10: 100 Stunden, 20 : 100 Stunden. Kommentar: Super Qualität  \n",
              "3                                     ok: 10: 100 Stunden, 20:10 Stunden, 30: N/A. Kommentar: Qualität ok  "
            ],
            "text/html": [
              "\n",
              "\n",
              "  <div id=\"df-5a5d08db-7445-472a-b557-8ff9d6bb71ff\">\n",
              "    <div class=\"colab-df-container\">\n",
              "      <div>\n",
              "<style scoped>\n",
              "    .dataframe tbody tr th:only-of-type {\n",
              "        vertical-align: middle;\n",
              "    }\n",
              "\n",
              "    .dataframe tbody tr th {\n",
              "        vertical-align: top;\n",
              "    }\n",
              "\n",
              "    .dataframe thead th {\n",
              "        text-align: right;\n",
              "    }\n",
              "</style>\n",
              "<table border=\"1\" class=\"dataframe\">\n",
              "  <thead>\n",
              "    <tr style=\"text-align: right;\">\n",
              "      <th></th>\n",
              "      <th>product_id</th>\n",
              "      <th>price</th>\n",
              "      <th>tested</th>\n",
              "      <th>category</th>\n",
              "      <th>belastungstest_stufen</th>\n",
              "      <th>belastungstest_ergebnisse</th>\n",
              "    </tr>\n",
              "  </thead>\n",
              "  <tbody>\n",
              "    <tr>\n",
              "      <th>0</th>\n",
              "      <td>1.0</td>\n",
              "      <td>100,000.5 $</td>\n",
              "      <td>Ja</td>\n",
              "      <td>Gartenmoebel</td>\n",
              "      <td>10,20,30</td>\n",
              "      <td>ok: 10 kg: 100 Stunden, 20 kg: 50 Stunden, 30 kg: 25 Stunden.</td>\n",
              "    </tr>\n",
              "    <tr>\n",
              "      <th>1</th>\n",
              "      <td>2.0</td>\n",
              "      <td>1.130,5 EUR</td>\n",
              "      <td>Nö</td>\n",
              "      <td>Gartenmoebel</td>\n",
              "      <td>10,20,30</td>\n",
              "      <td>nicht OK:  10: 10 Stunden, 20: 3 Stunden, 30: Zusammenbruch. Kommentar: Wasserresistenz nicht getestet</td>\n",
              "    </tr>\n",
              "    <tr>\n",
              "      <th>2</th>\n",
              "      <td>3.0</td>\n",
              "      <td>129.200€</td>\n",
              "      <td>Nein</td>\n",
              "      <td>Möbel</td>\n",
              "      <td>10,20</td>\n",
              "      <td>Ok: 10: 100 Stunden, 20 : 100 Stunden. Kommentar: Super Qualität</td>\n",
              "    </tr>\n",
              "    <tr>\n",
              "      <th>3</th>\n",
              "      <td>4.0</td>\n",
              "      <td>N/A. Bert fragt nach.</td>\n",
              "      <td>Vielleicht</td>\n",
              "      <td>Moebel</td>\n",
              "      <td>10,20</td>\n",
              "      <td>ok: 10: 100 Stunden, 20:10 Stunden, 30: N/A. Kommentar: Qualität ok</td>\n",
              "    </tr>\n",
              "  </tbody>\n",
              "</table>\n",
              "</div>\n",
              "      <button class=\"colab-df-convert\" onclick=\"convertToInteractive('df-5a5d08db-7445-472a-b557-8ff9d6bb71ff')\"\n",
              "              title=\"Convert this dataframe to an interactive table.\"\n",
              "              style=\"display:none;\">\n",
              "\n",
              "  <svg xmlns=\"http://www.w3.org/2000/svg\" height=\"24px\"viewBox=\"0 0 24 24\"\n",
              "       width=\"24px\">\n",
              "    <path d=\"M0 0h24v24H0V0z\" fill=\"none\"/>\n",
              "    <path d=\"M18.56 5.44l.94 2.06.94-2.06 2.06-.94-2.06-.94-.94-2.06-.94 2.06-2.06.94zm-11 1L8.5 8.5l.94-2.06 2.06-.94-2.06-.94L8.5 2.5l-.94 2.06-2.06.94zm10 10l.94 2.06.94-2.06 2.06-.94-2.06-.94-.94-2.06-.94 2.06-2.06.94z\"/><path d=\"M17.41 7.96l-1.37-1.37c-.4-.4-.92-.59-1.43-.59-.52 0-1.04.2-1.43.59L10.3 9.45l-7.72 7.72c-.78.78-.78 2.05 0 2.83L4 21.41c.39.39.9.59 1.41.59.51 0 1.02-.2 1.41-.59l7.78-7.78 2.81-2.81c.8-.78.8-2.07 0-2.86zM5.41 20L4 18.59l7.72-7.72 1.47 1.35L5.41 20z\"/>\n",
              "  </svg>\n",
              "      </button>\n",
              "\n",
              "\n",
              "\n",
              "    <div id=\"df-f25ebedd-9225-4985-a0ba-e9d35c1cf6a1\">\n",
              "      <button class=\"colab-df-quickchart\" onclick=\"quickchart('df-f25ebedd-9225-4985-a0ba-e9d35c1cf6a1')\"\n",
              "              title=\"Suggest charts.\"\n",
              "              style=\"display:none;\">\n",
              "\n",
              "<svg xmlns=\"http://www.w3.org/2000/svg\" height=\"24px\"viewBox=\"0 0 24 24\"\n",
              "     width=\"24px\">\n",
              "    <g>\n",
              "        <path d=\"M19 3H5c-1.1 0-2 .9-2 2v14c0 1.1.9 2 2 2h14c1.1 0 2-.9 2-2V5c0-1.1-.9-2-2-2zM9 17H7v-7h2v7zm4 0h-2V7h2v10zm4 0h-2v-4h2v4z\"/>\n",
              "    </g>\n",
              "</svg>\n",
              "      </button>\n",
              "    </div>\n",
              "\n",
              "<style>\n",
              "  .colab-df-quickchart {\n",
              "    background-color: #E8F0FE;\n",
              "    border: none;\n",
              "    border-radius: 50%;\n",
              "    cursor: pointer;\n",
              "    display: none;\n",
              "    fill: #1967D2;\n",
              "    height: 32px;\n",
              "    padding: 0 0 0 0;\n",
              "    width: 32px;\n",
              "  }\n",
              "\n",
              "  .colab-df-quickchart:hover {\n",
              "    background-color: #E2EBFA;\n",
              "    box-shadow: 0px 1px 2px rgba(60, 64, 67, 0.3), 0px 1px 3px 1px rgba(60, 64, 67, 0.15);\n",
              "    fill: #174EA6;\n",
              "  }\n",
              "\n",
              "  [theme=dark] .colab-df-quickchart {\n",
              "    background-color: #3B4455;\n",
              "    fill: #D2E3FC;\n",
              "  }\n",
              "\n",
              "  [theme=dark] .colab-df-quickchart:hover {\n",
              "    background-color: #434B5C;\n",
              "    box-shadow: 0px 1px 3px 1px rgba(0, 0, 0, 0.15);\n",
              "    filter: drop-shadow(0px 1px 2px rgba(0, 0, 0, 0.3));\n",
              "    fill: #FFFFFF;\n",
              "  }\n",
              "</style>\n",
              "\n",
              "    <script>\n",
              "      async function quickchart(key) {\n",
              "        const containerElement = document.querySelector('#' + key);\n",
              "        const charts = await google.colab.kernel.invokeFunction(\n",
              "            'suggestCharts', [key], {});\n",
              "      }\n",
              "    </script>\n",
              "\n",
              "      <script>\n",
              "\n",
              "function displayQuickchartButton(domScope) {\n",
              "  let quickchartButtonEl =\n",
              "    domScope.querySelector('#df-f25ebedd-9225-4985-a0ba-e9d35c1cf6a1 button.colab-df-quickchart');\n",
              "  quickchartButtonEl.style.display =\n",
              "    google.colab.kernel.accessAllowed ? 'block' : 'none';\n",
              "}\n",
              "\n",
              "        displayQuickchartButton(document);\n",
              "      </script>\n",
              "      <style>\n",
              "    .colab-df-container {\n",
              "      display:flex;\n",
              "      flex-wrap:wrap;\n",
              "      gap: 12px;\n",
              "    }\n",
              "\n",
              "    .colab-df-convert {\n",
              "      background-color: #E8F0FE;\n",
              "      border: none;\n",
              "      border-radius: 50%;\n",
              "      cursor: pointer;\n",
              "      display: none;\n",
              "      fill: #1967D2;\n",
              "      height: 32px;\n",
              "      padding: 0 0 0 0;\n",
              "      width: 32px;\n",
              "    }\n",
              "\n",
              "    .colab-df-convert:hover {\n",
              "      background-color: #E2EBFA;\n",
              "      box-shadow: 0px 1px 2px rgba(60, 64, 67, 0.3), 0px 1px 3px 1px rgba(60, 64, 67, 0.15);\n",
              "      fill: #174EA6;\n",
              "    }\n",
              "\n",
              "    [theme=dark] .colab-df-convert {\n",
              "      background-color: #3B4455;\n",
              "      fill: #D2E3FC;\n",
              "    }\n",
              "\n",
              "    [theme=dark] .colab-df-convert:hover {\n",
              "      background-color: #434B5C;\n",
              "      box-shadow: 0px 1px 3px 1px rgba(0, 0, 0, 0.15);\n",
              "      filter: drop-shadow(0px 1px 2px rgba(0, 0, 0, 0.3));\n",
              "      fill: #FFFFFF;\n",
              "    }\n",
              "  </style>\n",
              "\n",
              "      <script>\n",
              "        const buttonEl =\n",
              "          document.querySelector('#df-5a5d08db-7445-472a-b557-8ff9d6bb71ff button.colab-df-convert');\n",
              "        buttonEl.style.display =\n",
              "          google.colab.kernel.accessAllowed ? 'block' : 'none';\n",
              "\n",
              "        async function convertToInteractive(key) {\n",
              "          const element = document.querySelector('#df-5a5d08db-7445-472a-b557-8ff9d6bb71ff');\n",
              "          const dataTable =\n",
              "            await google.colab.kernel.invokeFunction('convertToInteractive',\n",
              "                                                     [key], {});\n",
              "          if (!dataTable) return;\n",
              "\n",
              "          const docLinkHtml = 'Like what you see? Visit the ' +\n",
              "            '<a target=\"_blank\" href=https://colab.research.google.com/notebooks/data_table.ipynb>data table notebook</a>'\n",
              "            + ' to learn more about interactive tables.';\n",
              "          element.innerHTML = '';\n",
              "          dataTable['output_type'] = 'display_data';\n",
              "          await google.colab.output.renderOutput(dataTable, element);\n",
              "          const docLink = document.createElement('div');\n",
              "          docLink.innerHTML = docLinkHtml;\n",
              "          element.appendChild(docLink);\n",
              "        }\n",
              "      </script>\n",
              "    </div>\n",
              "  </div>\n"
            ]
          },
          "metadata": {},
          "execution_count": 11
        }
      ]
    },
    {
      "cell_type": "markdown",
      "source": [
        "### Spalten Datentyp konvertieren\n",
        "\n",
        "in diesem Beispiel gibt es die Spalte \"product_id\", welche eigentlich ein Integer sein sollte. Mit Hilfe der **astype** Methode kann man sie in einen anderen Datentyp konvertieren, sofern das möglich ist (z.B. int zu float oder float zu int ist unproblematisch, aber str zu float muss nicht klappen ).\n",
        "\n",
        "Dabei muss das Zielformat als ein **numpy** (importiert als \"import numpy as np\" ) Datentyp angegeben werden. Solche Datentypen sind z.B.\n",
        "\n",
        " * np.float32 und np.float64 für 32- und 64-bit floating point Zahlen\n",
        " * np.int32 und np.int64 für 32- und 64-bit integer\n",
        " * np.bool für boolean ( True/False)\n",
        " * np.object für beliebige Objekte, unter anderem für Strings\n",
        "\n",
        "Zudem hat numpy auch Datentypen für Zeitstempel ( np.datetime64 etc.) die sind aber kompliziert da sie zusätzlich noch eine Einheit benötigen."
      ],
      "metadata": {
        "id": "Yvtoei63JCBQ"
      }
    },
    {
      "cell_type": "code",
      "source": [
        "# die \"astype\" Methode erlaubt es uns in\n",
        "problem_df.product_id.astype(np.int64)"
      ],
      "metadata": {
        "id": "NU_W0LFQiJTr",
        "outputId": "8ae38f0e-9242-4f7c-eb4a-0ca66fb66514",
        "colab": {
          "base_uri": "https://localhost:8080/"
        }
      },
      "execution_count": 5,
      "outputs": [
        {
          "output_type": "execute_result",
          "data": {
            "text/plain": [
              "0    1\n",
              "1    2\n",
              "2    3\n",
              "3    4\n",
              "Name: product_id, dtype: int64"
            ]
          },
          "metadata": {},
          "execution_count": 5
        }
      ]
    },
    {
      "cell_type": "markdown",
      "source": [
        "Das konvertieren funktioniert. Jetzt können wir die neue Spalte anstelle der alten Spalte in den Dataframe schreiben"
      ],
      "metadata": {
        "id": "uTUiM7ANke2s"
      }
    },
    {
      "cell_type": "code",
      "source": [
        "problem_df['product_id'] = problem_df.product_id.astype(np.int64)\n",
        "problem_df"
      ],
      "metadata": {
        "colab": {
          "base_uri": "https://localhost:8080/",
          "height": 175
        },
        "id": "TfchT-MikmNQ",
        "outputId": "8241b81b-66ba-4db0-cb21-cdd7ef6f1a78"
      },
      "execution_count": 6,
      "outputs": [
        {
          "output_type": "execute_result",
          "data": {
            "text/plain": [
              "   product_id                  price      tested      category  \\\n",
              "0           1            100,000.5 $          Ja  Gartenmoebel   \n",
              "1           2            1.130.5 EUR          Nö  Gartenmoebel   \n",
              "2           3                 129.2€        Nein         Möbel   \n",
              "3           4  N/A. Bert fragt nach.  Vielleicht        Moebel   \n",
              "\n",
              "  belastungstest_stufen  \\\n",
              "0              10,20,30   \n",
              "1              10,20,30   \n",
              "2                 10,20   \n",
              "3                 10,20   \n",
              "\n",
              "                                                                                belastungstest_ergebnisse  \n",
              "0                                           ok: 10 kg: 100 Stunden, 20 kg: 50 Stunden, 30 kg: 25 Stunden.  \n",
              "1  nicht OK:  10: 10 Stunden, 20: 3 Stunden, 30: Zusammenbruch. Kommentar: Wasserresistenz nicht getestet  \n",
              "2                                        Ok: 10: 100 Stunden, 20 : 100 Stunden. Kommentar: Super Qualität  \n",
              "3                                     ok: 10: 100 Stunden, 20:10 Stunden, 30: N/A. Kommentar: Qualität ok  "
            ],
            "text/html": [
              "\n",
              "\n",
              "  <div id=\"df-2f211334-24b7-4b0e-9523-bce198d18dde\">\n",
              "    <div class=\"colab-df-container\">\n",
              "      <div>\n",
              "<style scoped>\n",
              "    .dataframe tbody tr th:only-of-type {\n",
              "        vertical-align: middle;\n",
              "    }\n",
              "\n",
              "    .dataframe tbody tr th {\n",
              "        vertical-align: top;\n",
              "    }\n",
              "\n",
              "    .dataframe thead th {\n",
              "        text-align: right;\n",
              "    }\n",
              "</style>\n",
              "<table border=\"1\" class=\"dataframe\">\n",
              "  <thead>\n",
              "    <tr style=\"text-align: right;\">\n",
              "      <th></th>\n",
              "      <th>product_id</th>\n",
              "      <th>price</th>\n",
              "      <th>tested</th>\n",
              "      <th>category</th>\n",
              "      <th>belastungstest_stufen</th>\n",
              "      <th>belastungstest_ergebnisse</th>\n",
              "    </tr>\n",
              "  </thead>\n",
              "  <tbody>\n",
              "    <tr>\n",
              "      <th>0</th>\n",
              "      <td>1</td>\n",
              "      <td>100,000.5 $</td>\n",
              "      <td>Ja</td>\n",
              "      <td>Gartenmoebel</td>\n",
              "      <td>10,20,30</td>\n",
              "      <td>ok: 10 kg: 100 Stunden, 20 kg: 50 Stunden, 30 kg: 25 Stunden.</td>\n",
              "    </tr>\n",
              "    <tr>\n",
              "      <th>1</th>\n",
              "      <td>2</td>\n",
              "      <td>1.130.5 EUR</td>\n",
              "      <td>Nö</td>\n",
              "      <td>Gartenmoebel</td>\n",
              "      <td>10,20,30</td>\n",
              "      <td>nicht OK:  10: 10 Stunden, 20: 3 Stunden, 30: Zusammenbruch. Kommentar: Wasserresistenz nicht getestet</td>\n",
              "    </tr>\n",
              "    <tr>\n",
              "      <th>2</th>\n",
              "      <td>3</td>\n",
              "      <td>129.2€</td>\n",
              "      <td>Nein</td>\n",
              "      <td>Möbel</td>\n",
              "      <td>10,20</td>\n",
              "      <td>Ok: 10: 100 Stunden, 20 : 100 Stunden. Kommentar: Super Qualität</td>\n",
              "    </tr>\n",
              "    <tr>\n",
              "      <th>3</th>\n",
              "      <td>4</td>\n",
              "      <td>N/A. Bert fragt nach.</td>\n",
              "      <td>Vielleicht</td>\n",
              "      <td>Moebel</td>\n",
              "      <td>10,20</td>\n",
              "      <td>ok: 10: 100 Stunden, 20:10 Stunden, 30: N/A. Kommentar: Qualität ok</td>\n",
              "    </tr>\n",
              "  </tbody>\n",
              "</table>\n",
              "</div>\n",
              "      <button class=\"colab-df-convert\" onclick=\"convertToInteractive('df-2f211334-24b7-4b0e-9523-bce198d18dde')\"\n",
              "              title=\"Convert this dataframe to an interactive table.\"\n",
              "              style=\"display:none;\">\n",
              "\n",
              "  <svg xmlns=\"http://www.w3.org/2000/svg\" height=\"24px\"viewBox=\"0 0 24 24\"\n",
              "       width=\"24px\">\n",
              "    <path d=\"M0 0h24v24H0V0z\" fill=\"none\"/>\n",
              "    <path d=\"M18.56 5.44l.94 2.06.94-2.06 2.06-.94-2.06-.94-.94-2.06-.94 2.06-2.06.94zm-11 1L8.5 8.5l.94-2.06 2.06-.94-2.06-.94L8.5 2.5l-.94 2.06-2.06.94zm10 10l.94 2.06.94-2.06 2.06-.94-2.06-.94-.94-2.06-.94 2.06-2.06.94z\"/><path d=\"M17.41 7.96l-1.37-1.37c-.4-.4-.92-.59-1.43-.59-.52 0-1.04.2-1.43.59L10.3 9.45l-7.72 7.72c-.78.78-.78 2.05 0 2.83L4 21.41c.39.39.9.59 1.41.59.51 0 1.02-.2 1.41-.59l7.78-7.78 2.81-2.81c.8-.78.8-2.07 0-2.86zM5.41 20L4 18.59l7.72-7.72 1.47 1.35L5.41 20z\"/>\n",
              "  </svg>\n",
              "      </button>\n",
              "\n",
              "\n",
              "\n",
              "    <div id=\"df-add1946e-92b2-4f73-97f7-9b0a898d83fb\">\n",
              "      <button class=\"colab-df-quickchart\" onclick=\"quickchart('df-add1946e-92b2-4f73-97f7-9b0a898d83fb')\"\n",
              "              title=\"Suggest charts.\"\n",
              "              style=\"display:none;\">\n",
              "\n",
              "<svg xmlns=\"http://www.w3.org/2000/svg\" height=\"24px\"viewBox=\"0 0 24 24\"\n",
              "     width=\"24px\">\n",
              "    <g>\n",
              "        <path d=\"M19 3H5c-1.1 0-2 .9-2 2v14c0 1.1.9 2 2 2h14c1.1 0 2-.9 2-2V5c0-1.1-.9-2-2-2zM9 17H7v-7h2v7zm4 0h-2V7h2v10zm4 0h-2v-4h2v4z\"/>\n",
              "    </g>\n",
              "</svg>\n",
              "      </button>\n",
              "    </div>\n",
              "\n",
              "<style>\n",
              "  .colab-df-quickchart {\n",
              "    background-color: #E8F0FE;\n",
              "    border: none;\n",
              "    border-radius: 50%;\n",
              "    cursor: pointer;\n",
              "    display: none;\n",
              "    fill: #1967D2;\n",
              "    height: 32px;\n",
              "    padding: 0 0 0 0;\n",
              "    width: 32px;\n",
              "  }\n",
              "\n",
              "  .colab-df-quickchart:hover {\n",
              "    background-color: #E2EBFA;\n",
              "    box-shadow: 0px 1px 2px rgba(60, 64, 67, 0.3), 0px 1px 3px 1px rgba(60, 64, 67, 0.15);\n",
              "    fill: #174EA6;\n",
              "  }\n",
              "\n",
              "  [theme=dark] .colab-df-quickchart {\n",
              "    background-color: #3B4455;\n",
              "    fill: #D2E3FC;\n",
              "  }\n",
              "\n",
              "  [theme=dark] .colab-df-quickchart:hover {\n",
              "    background-color: #434B5C;\n",
              "    box-shadow: 0px 1px 3px 1px rgba(0, 0, 0, 0.15);\n",
              "    filter: drop-shadow(0px 1px 2px rgba(0, 0, 0, 0.3));\n",
              "    fill: #FFFFFF;\n",
              "  }\n",
              "</style>\n",
              "\n",
              "    <script>\n",
              "      async function quickchart(key) {\n",
              "        const containerElement = document.querySelector('#' + key);\n",
              "        const charts = await google.colab.kernel.invokeFunction(\n",
              "            'suggestCharts', [key], {});\n",
              "      }\n",
              "    </script>\n",
              "\n",
              "      <script>\n",
              "\n",
              "function displayQuickchartButton(domScope) {\n",
              "  let quickchartButtonEl =\n",
              "    domScope.querySelector('#df-add1946e-92b2-4f73-97f7-9b0a898d83fb button.colab-df-quickchart');\n",
              "  quickchartButtonEl.style.display =\n",
              "    google.colab.kernel.accessAllowed ? 'block' : 'none';\n",
              "}\n",
              "\n",
              "        displayQuickchartButton(document);\n",
              "      </script>\n",
              "      <style>\n",
              "    .colab-df-container {\n",
              "      display:flex;\n",
              "      flex-wrap:wrap;\n",
              "      gap: 12px;\n",
              "    }\n",
              "\n",
              "    .colab-df-convert {\n",
              "      background-color: #E8F0FE;\n",
              "      border: none;\n",
              "      border-radius: 50%;\n",
              "      cursor: pointer;\n",
              "      display: none;\n",
              "      fill: #1967D2;\n",
              "      height: 32px;\n",
              "      padding: 0 0 0 0;\n",
              "      width: 32px;\n",
              "    }\n",
              "\n",
              "    .colab-df-convert:hover {\n",
              "      background-color: #E2EBFA;\n",
              "      box-shadow: 0px 1px 2px rgba(60, 64, 67, 0.3), 0px 1px 3px 1px rgba(60, 64, 67, 0.15);\n",
              "      fill: #174EA6;\n",
              "    }\n",
              "\n",
              "    [theme=dark] .colab-df-convert {\n",
              "      background-color: #3B4455;\n",
              "      fill: #D2E3FC;\n",
              "    }\n",
              "\n",
              "    [theme=dark] .colab-df-convert:hover {\n",
              "      background-color: #434B5C;\n",
              "      box-shadow: 0px 1px 3px 1px rgba(0, 0, 0, 0.15);\n",
              "      filter: drop-shadow(0px 1px 2px rgba(0, 0, 0, 0.3));\n",
              "      fill: #FFFFFF;\n",
              "    }\n",
              "  </style>\n",
              "\n",
              "      <script>\n",
              "        const buttonEl =\n",
              "          document.querySelector('#df-2f211334-24b7-4b0e-9523-bce198d18dde button.colab-df-convert');\n",
              "        buttonEl.style.display =\n",
              "          google.colab.kernel.accessAllowed ? 'block' : 'none';\n",
              "\n",
              "        async function convertToInteractive(key) {\n",
              "          const element = document.querySelector('#df-2f211334-24b7-4b0e-9523-bce198d18dde');\n",
              "          const dataTable =\n",
              "            await google.colab.kernel.invokeFunction('convertToInteractive',\n",
              "                                                     [key], {});\n",
              "          if (!dataTable) return;\n",
              "\n",
              "          const docLinkHtml = 'Like what you see? Visit the ' +\n",
              "            '<a target=\"_blank\" href=https://colab.research.google.com/notebooks/data_table.ipynb>data table notebook</a>'\n",
              "            + ' to learn more about interactive tables.';\n",
              "          element.innerHTML = '';\n",
              "          dataTable['output_type'] = 'display_data';\n",
              "          await google.colab.output.renderOutput(dataTable, element);\n",
              "          const docLink = document.createElement('div');\n",
              "          docLink.innerHTML = docLinkHtml;\n",
              "          element.appendChild(docLink);\n",
              "        }\n",
              "      </script>\n",
              "    </div>\n",
              "  </div>\n"
            ]
          },
          "metadata": {},
          "execution_count": 6
        }
      ]
    },
    {
      "cell_type": "markdown",
      "source": [
        "### Spalte mit Hilfe von Funktion transformieren\n",
        "\n",
        " da wir also in der Regel entweder Zeilen oder ganze Tabellen neu schreiben, tendiert man in pandas dazu, nicht mit Hilfe von \"for\" loops über die Zeilen oder Spalten zu iterieren, sondern **Funktionen** auf ganze **Zeilen** oder **Einzelne Gruppen von Zeilen** anzuwenden.\n",
        "\n",
        "als nächstes würden wir gerne die **price** Spalte normalisieren, also in eine \"price_eur\" spalte überführen die entweder eine float-Zahl oder den float-Wert \"nan\" (not-a-number) beinhalten darf.\n",
        "\n",
        "Da in diesem Fall keine einfache Textersetzung ausreicht ( wir müssen z.B. manchmal USD in EUR konvertieren, Komma- oder Punktformat detektieren etc.) müssen wir zunächst lernen wie man eine Spalte Zelle für Zelle durch eine beliebige Python-Funktion transformieren lassen kann. Das ist glücklicherweise nicht schwer mit Hilfe von [pandas.Series.apply](https://pandas.pydata.org/docs/reference/api/pandas.Series.apply.html) und [pandas.DataFrame.apply](https://pandas.pydata.org/docs/reference/api/pandas.DataFrame.apply.html)\n",
        "\n",
        "**Series.apply** erlaubt es, eine normale Python Funktion auf jeden Wert in einer Series anzuwenden und aus dem resultat eine neue Spalte (mit gleichem Index ) zu erzeugen.\n",
        "\n",
        "Fangen wir mal einfach an, indem wir \"€\" durch \"EUR\" ersetzen und \"$\" durch \"USD\""
      ],
      "metadata": {
        "id": "ZcOxHIPqlMn3"
      }
    },
    {
      "cell_type": "code",
      "source": [
        "# ersetze $ oder € in price\n",
        "def normalize_currency_names(s):\n",
        "  if \"$\" in s:\n",
        "    s = s.replace(\"$\", \"USD\")\n",
        "  if \"€\" in s:\n",
        "    s = s.replace(\"€\", \"EUR\")\n",
        "  return s\n"
      ],
      "metadata": {
        "id": "Qk7sb41WwAkH"
      },
      "execution_count": 8,
      "outputs": []
    },
    {
      "cell_type": "code",
      "source": [
        "normalize_currency_names(\"Test das sind viele $ oder €\")"
      ],
      "metadata": {
        "colab": {
          "base_uri": "https://localhost:8080/",
          "height": 36
        },
        "id": "2bOCDYWWwuyF",
        "outputId": "d23625b0-deba-4bb9-d768-a4d642d9965c"
      },
      "execution_count": 10,
      "outputs": [
        {
          "output_type": "execute_result",
          "data": {
            "text/plain": [
              "'Test das sind viele USD oder EUR'"
            ],
            "application/vnd.google.colaboratory.intrinsic+json": {
              "type": "string"
            }
          },
          "metadata": {},
          "execution_count": 10
        }
      ]
    },
    {
      "cell_type": "code",
      "source": [
        "# Auf Spalte anwenden\n",
        "problem_df.price.apply(normalize_currency_names)"
      ],
      "metadata": {
        "colab": {
          "base_uri": "https://localhost:8080/"
        },
        "id": "OzxrKRowwhVr",
        "outputId": "d2fc5a9a-abff-423e-fcce-d38858d9a951"
      },
      "execution_count": 9,
      "outputs": [
        {
          "output_type": "execute_result",
          "data": {
            "text/plain": [
              "0            100,000.5 USD\n",
              "1              1.130.5 EUR\n",
              "2                 129.2EUR\n",
              "3    N/A. Bert fragt nach.\n",
              "Name: price, dtype: object"
            ]
          },
          "metadata": {},
          "execution_count": 9
        }
      ]
    },
    {
      "cell_type": "markdown",
      "source": [
        "#### Übung\n",
        "\n",
        "wie schreibe ich diese Spalte jetzt zurück in den Dataframe?"
      ],
      "metadata": {
        "id": "pVfFZ4uwmIPN"
      }
    },
    {
      "cell_type": "markdown",
      "source": [
        "### Kommaformat normalisieren\n",
        "\n",
        "Als nächstes Problem in der Preisspalte ist da die Sache mit Komma oder Punkt. Irgendjemand hat lustigerweise manchmal Komma und manchmal Punkt als Dezimalseparator verwendet, und dann noch um es ja nicht zu einfach zu machen, auch noch Tausender-Trennzeichen verwendet die ein einfaches suchen und ersetzen im Text komplett unmöglich machen. (Ach, das war ja ich.. naja, egal)..\n",
        "\n"
      ],
      "metadata": {
        "id": "GP7aPkG4xcvf"
      }
    },
    {
      "cell_type": "code",
      "source": [
        "# Versuchen wir das mal anhand von drei Beispielen\n",
        "beispiele = list(problem_df.price[:-1])\n",
        "# beachte, dass beim leztzen Fall *gar kein* Kommaseparator benutzt wird, sondern nur ein Tausender-Trennzeichen\n",
        "beispiele"
      ],
      "metadata": {
        "colab": {
          "base_uri": "https://localhost:8080/"
        },
        "id": "nnVco3lYyumG",
        "outputId": "1d7dc23b-05d3-46d6-c79b-3c0cfede035c"
      },
      "execution_count": 15,
      "outputs": [
        {
          "output_type": "execute_result",
          "data": {
            "text/plain": [
              "['100,000.5 $', '1.130,5 EUR', '129.200€']"
            ]
          },
          "metadata": {},
          "execution_count": 15
        }
      ]
    },
    {
      "cell_type": "markdown",
      "source": [
        "### Ein Fall für zwei Regular Expressions\n",
        "\n",
        "Wir versuchen mal das ganze in Regeln zu fassen:\n",
        "\n",
        " * Ein Dezimalseparator ist immer das letzte Trennzeichen, **und wird gefolgt von maximal zwei Zahlen**\n",
        " * Ein Tausender-Trennzeichen wird gefolgt von genau 3 Ziffern\n",
        " * Wir könnten je einen Regulären Ausdruck für Komma-Dezimalseparator und Punkt als Dezimalseparator definieren\n",
        "\n",
        " Dann machen wir das mal\n",
        "\n",
        "\n",
        "\n",
        "\n",
        "\n",
        "\n",
        "\n"
      ],
      "metadata": {
        "id": "hLLSVc_Kzem5"
      }
    },
    {
      "cell_type": "code",
      "source": [
        "# beliebig viele Ziffern, gefolgt von beliebig vielen WIederholungen von .ddd (wobei d für eine beliebige Ziffer steht), gefolt von einem *optionalen* Teil der mit einem Komma beginnt, und danach entweder eine oder zwei Ziffern folgen lässt\n",
        "komma_muster = r\"([0-9]+)(\\.[0-9]{3,3})*(\\,[0-9]{1,2})?\"\n",
        "re.search(komma_muster, '100,000.5 $')"
      ],
      "metadata": {
        "colab": {
          "base_uri": "https://localhost:8080/"
        },
        "id": "Z__MPgOR0aFL",
        "outputId": "9814cde4-e286-45ab-a651-69ad9784fa06"
      },
      "execution_count": 25,
      "outputs": [
        {
          "output_type": "execute_result",
          "data": {
            "text/plain": [
              "<re.Match object; span=(0, 6), match='100,00'>"
            ]
          },
          "metadata": {},
          "execution_count": 25
        }
      ]
    },
    {
      "cell_type": "markdown",
      "source": [
        "Mist, das hat nicht ganz hingehauen. Vielleicht müssen wir vorher alle Zeichen entfernen die keine Zahlen, Punkte oder Kommas sind, und können danach re.fullmatch verwenden. Oder wir sagen dem Regex, dass **vor und nach** dem Match keine Zahl, Komma oder Punkt kommen darf.\n",
        "\n",
        "### Übung\n",
        "\n",
        "implementiere eine Regex Ersetzung, die alle Zeichen aus einem Text entfernt die keine Zahlen, Punkte oder Kommas sind. Verwende dazu die Funktion **re.sub** und eine **invertierte Charakterklasse** im Regex Ausdruck. Beide sind im vorigen Notebook dieses Kurses gut beschrieben. Beachte dass man ggf. auch in Charakterklassen bestimmte Zeichen **escapen** muss."
      ],
      "metadata": {
        "id": "mnzyy07x1hik"
      }
    },
    {
      "cell_type": "markdown",
      "source": [
        "### Regex Lookahead / Lookbehind\n",
        "\n",
        "man kann glücklicherweise tatsächlich einer Regex sagen, dass er nur matchen soll wenn vor ( **lookbehind**) oder nach (**lookahead**) einem Match etwas bestimmtes folgen oder nicht folgen darf. Die Anleitung dazu findet man leicht mit Hilfe von ChatGPT (\"gib mir ein Beispiel für positiven und negativen Regex Lookahead und Lookbehind im Kontext eines Python-Programms\") oder Google (\"regex lookahead lookbehind tutorial\").\n",
        "\n",
        "Aber in diesem Fall reicht es tatsächlich, wenn wir das ganze als Teil des Matches betrachten."
      ],
      "metadata": {
        "id": "e9Q_pDf8zTUV"
      }
    },
    {
      "cell_type": "code",
      "source": [
        "# beachte das ([^0-9,.]|$) am Ende, es bedeutet \"entweder keine Zahl, Komma oder Punkt, oder das Ende des Texts\"\n",
        "# und das ([^0-9,.]|^)([0-9]+) am Anfang bedeutet \"entweder keine Zahl, Komma oder Punkt, oder der Anfang des Texts\"\n",
        "komma_muster = r\"([^0-9,.]|^)([0-9]+)(\\.[0-9]{3,3})*(\\,[0-9]{1,2})?([^0-9,.]|$)\"\n",
        "\n"
      ],
      "metadata": {
        "id": "fZ_6vfmd4M27"
      },
      "execution_count": 26,
      "outputs": []
    },
    {
      "cell_type": "code",
      "source": [
        "if not re.search(komma_muster, '100,000.5 $'):\n",
        "  print(\"Kein Match, so soll es sein!\")"
      ],
      "metadata": {
        "colab": {
          "base_uri": "https://localhost:8080/"
        },
        "id": "xDOYKtQk4xnk",
        "outputId": "d430e354-5aee-401b-8ca9-df459f45002c"
      },
      "execution_count": 27,
      "outputs": [
        {
          "output_type": "stream",
          "name": "stdout",
          "text": [
            "Kein Match, so soll es sein!\n"
          ]
        }
      ]
    },
    {
      "cell_type": "code",
      "source": [
        "if re.search(komma_muster, '1.130,5 EUR'):\n",
        "  print(\"Ein Match, so soll es sein!\")"
      ],
      "metadata": {
        "colab": {
          "base_uri": "https://localhost:8080/"
        },
        "id": "iU6HuTt642Wz",
        "outputId": "f06f16df-3793-46b9-e97e-80b4a0d1533b"
      },
      "execution_count": 28,
      "outputs": [
        {
          "output_type": "stream",
          "name": "stdout",
          "text": [
            "Ein Match, so soll es sein!\n"
          ]
        }
      ]
    },
    {
      "cell_type": "code",
      "source": [
        "if re.search(komma_muster, '1.130 EUR'):\n",
        "  print(\"Ein Match, so soll es sein!\")"
      ],
      "metadata": {
        "colab": {
          "base_uri": "https://localhost:8080/"
        },
        "id": "b443Y94S49hK",
        "outputId": "ba63334c-2276-495f-e0a3-58f158cd79a8"
      },
      "execution_count": 29,
      "outputs": [
        {
          "output_type": "stream",
          "name": "stdout",
          "text": [
            "Ein Match, so soll es sein!\n"
          ]
        }
      ]
    },
    {
      "cell_type": "markdown",
      "source": [
        "Jetzt haben wir die Spalte i\n",
        "\n"
      ],
      "metadata": {
        "id": "1j2aBetwj4JP"
      }
    }
  ]
}