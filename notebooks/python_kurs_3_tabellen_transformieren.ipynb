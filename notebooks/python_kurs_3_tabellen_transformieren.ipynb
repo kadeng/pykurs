{
  "nbformat": 4,
  "nbformat_minor": 0,
  "metadata": {
    "colab": {
      "provenance": [],
      "authorship_tag": "ABX9TyM8joja+CjgPV32dOdgXOGz",
      "include_colab_link": true
    },
    "kernelspec": {
      "name": "python3",
      "display_name": "Python 3"
    },
    "language_info": {
      "name": "python"
    }
  },
  "cells": [
    {
      "cell_type": "markdown",
      "metadata": {
        "id": "view-in-github",
        "colab_type": "text"
      },
      "source": [
        "<a href=\"https://colab.research.google.com/github/kadeng/pykurs/blob/main/notebooks/python_kurs_3_tabellen_transformieren.ipynb\" target=\"_parent\"><img src=\"https://colab.research.google.com/assets/colab-badge.svg\" alt=\"Open In Colab\"/></a>"
      ]
    },
    {
      "cell_type": "markdown",
      "source": [
        "## Python Kurs\n",
        "\n",
        "Dieses Notebook ist Teil 3, eines kleinen Kurses mit Übungen, in dem auf einige Themen mittleren bis einfachen Komplexitätsgrads eingegangen wird, die in generellen Einführungen zu Python manchmal zu kurz kommen, in der Praxis aber relevant sind.\n"
      ],
      "metadata": {
        "id": "62NmuHb2jHin"
      }
    },
    {
      "cell_type": "markdown",
      "source": [
        "## Tabellen und Tabellen Transformationen\n",
        "\n",
        "das Thema in diesem Notebook sind Tabellen und wie man sie transformiert. Wir werden dazu das **pandas** Paket benutzen, welches man ggf. installieren muss, sowie das **re** und das **json** Paket, welche zu Python gehören.\n",
        "\n",
        "Da dieses Notebook ohne weitere zugehörige Dateien lauffähig sein soll, verwenden wir zudem das io Package um CSV Dateien aus im Notebook eingebetteten Strings zu lesen.\n"
      ],
      "metadata": {
        "id": "vU2EMSceHlKr"
      }
    },
    {
      "cell_type": "code",
      "source": [
        "import re\n",
        "import json\n",
        "import pandas\n",
        "import io"
      ],
      "metadata": {
        "id": "dK5gKRBcH9kk"
      },
      "execution_count": null,
      "outputs": []
    },
    {
      "cell_type": "markdown",
      "source": [
        "### Pandas Grundlagen\n",
        "\n",
        "pandas ist das beliebteste Paket um in Python mit Tabellen zu arbeiten. Alternative und durchaus erwähnenswerte Pakete sind noch **polars** welches etwas neuer und schneller ist. Vermutlich ist **polars** inzwischen besser, aber für **pandas** gibt es mehr Dokumentation und Hilfestellungen Online.\n",
        "\n"
      ],
      "metadata": {
        "id": "eMRjwAdcIrAP"
      }
    },
    {
      "cell_type": "code",
      "source": [
        "csv_text = \"\"\"produkt_id;testergebnisse;preis\n",
        "\n",
        "\n",
        "\n",
        "\"\"\""
      ],
      "metadata": {
        "id": "Yvtoei63JCBQ"
      },
      "execution_count": null,
      "outputs": []
    }
  ]
}