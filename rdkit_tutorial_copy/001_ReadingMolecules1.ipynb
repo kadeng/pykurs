{
  "cells": [
    {
      "cell_type": "markdown",
      "metadata": {
        "id": "view-in-github",
        "colab_type": "text"
      },
      "source": [
        "<a href=\"https://colab.research.google.com/github/kadeng/pykurs/blob/main/rdkit_tutorial_copy/001_ReadingMolecules1.ipynb\" target=\"_parent\"><img src=\"https://colab.research.google.com/assets/colab-badge.svg\" alt=\"Open In Colab\"/></a>"
      ]
    },
    {
      "cell_type": "markdown",
      "metadata": {
        "id": "BSNoi1iuW0JC"
      },
      "source": [
        "# Reading and writing molecules 1\n",
        "\n",
        "This is a short overview of creating molecules from and writing molecules to various file formats. It is intended to be a complement to, not replacement for, the contents of the [main RDKit documentation](http://rdkit.org/docs/index.html)\n",
        "\n",
        "@TAGS: #basics #molecule_input"
      ]
    },
    {
      "cell_type": "code",
      "source": [
        "!pip install rdkit"
      ],
      "metadata": {
        "id": "YdbMf7zRXBQ4",
        "outputId": "583ad28d-8abc-4c65-9f3d-8d129a609c07",
        "colab": {
          "base_uri": "https://localhost:8080/"
        }
      },
      "execution_count": 3,
      "outputs": [
        {
          "output_type": "stream",
          "name": "stdout",
          "text": [
            "Collecting rdkit\n",
            "  Downloading rdkit-2023.3.2-cp310-cp310-manylinux_2_17_x86_64.manylinux2014_x86_64.whl (29.7 MB)\n",
            "\u001b[2K     \u001b[90m━━━━━━━━━━━━━━━━━━━━━━━━━━━━━━━━━━━━━━━━\u001b[0m \u001b[32m29.7/29.7 MB\u001b[0m \u001b[31m41.4 MB/s\u001b[0m eta \u001b[36m0:00:00\u001b[0m\n",
            "\u001b[?25hRequirement already satisfied: numpy in /usr/local/lib/python3.10/dist-packages (from rdkit) (1.22.4)\n",
            "Requirement already satisfied: Pillow in /usr/local/lib/python3.10/dist-packages (from rdkit) (9.4.0)\n",
            "Installing collected packages: rdkit\n",
            "Successfully installed rdkit-2023.3.2\n"
          ]
        }
      ]
    },
    {
      "cell_type": "code",
      "execution_count": 5,
      "metadata": {
        "id": "p4wVn18bW0JG"
      },
      "outputs": [],
      "source": [
        "from rdkit import Chem\n",
        "from rdkit.Chem.Draw import IPythonConsole\n",
        "from rdkit.Chem import Draw\n",
        "# uncomment this if you try the tutorial and end up with low-quality images\n",
        "# IPythonConsole.ipython_useSVG=True"
      ]
    },
    {
      "cell_type": "code",
      "execution_count": 6,
      "metadata": {
        "tags": [
          "nbval-ignore-output"
        ],
        "id": "-u9HU-ECW0JH",
        "outputId": "9a451117-0036-41d4-ebea-4697bdcbd37e",
        "colab": {
          "base_uri": "https://localhost:8080/"
        }
      },
      "outputs": [
        {
          "output_type": "stream",
          "name": "stdout",
          "text": [
            "Sun Aug  6 10:20:21 2023\n"
          ]
        }
      ],
      "source": [
        "import time\n",
        "print(time.asctime()) # doctest: IGNORE"
      ]
    },
    {
      "cell_type": "markdown",
      "metadata": {
        "id": "Oem-siw0W0JI"
      },
      "source": [
        "## Working with SMILES"
      ]
    },
    {
      "cell_type": "markdown",
      "metadata": {
        "id": "oWxcXsNhW0JI"
      },
      "source": [
        "If you have a SMILES string, the easiest thing to use is MolFromSmiles:"
      ]
    },
    {
      "cell_type": "code",
      "execution_count": 7,
      "metadata": {
        "scrolled": true,
        "tags": [
          "nbval-ignore-output"
        ],
        "id": "M9rIyNOnW0JI",
        "outputId": "b316de59-ce84-45bd-f9ee-6e74350ffc64",
        "colab": {
          "base_uri": "https://localhost:8080/",
          "height": 167
        }
      },
      "outputs": [
        {
          "output_type": "execute_result",
          "data": {
            "text/plain": [
              "<rdkit.Chem.rdchem.Mol at 0x7d618afc90e0>"
            ],
            "image/png": "[encoded data removed]"
          },
          "metadata": {},
          "execution_count": 7
        }
      ],
      "source": [
        "m = Chem.MolFromSmiles('COc1ccc2c(c1)[nH]c(n2)[S@@](=O)Cc1ncc(c(c1C)OC)C')\n",
        "m"
      ]
    },
    {
      "cell_type": "markdown",
      "metadata": {
        "id": "xPkfdsbjW0JJ"
      },
      "source": [
        "Note that the coordinates used for the drawing are not present in the molecule, the RDKit generates them when the molecule is drawn."
      ]
    },
    {
      "cell_type": "markdown",
      "metadata": {
        "id": "trO9-dVTW0JJ"
      },
      "source": [
        "## Reading Mol file data"
      ]
    },
    {
      "cell_type": "code",
      "execution_count": null,
      "metadata": {
        "tags": [
          "nbval-ignore-output"
        ],
        "id": "HlUrk0aSW0JJ",
        "outputId": "16940c1d-d739-4ed1-9ddd-6f99b4766de9"
      },
      "outputs": [
        {
          "data": {
            "image/png": "[encoded data removed]",
            "text/plain": [
              "<rdkit.Chem.rdchem.Mol at 0x7fb2ce926b20>"
            ]
          },
          "execution_count": 4,
          "metadata": {},
          "output_type": "execute_result"
        }
      ],
      "source": [
        "molblock = \"\"\"phenol\n",
        "  Mrv1682210081607082D\n",
        "\n",
        "  7  7  0  0  0  0            999 V2000\n",
        "   -0.6473    1.0929    0.0000 C   0  0  0  0  0  0  0  0  0  0  0  0\n",
        "   -1.3618    0.6804    0.0000 C   0  0  0  0  0  0  0  0  0  0  0  0\n",
        "   -1.3618   -0.1447    0.0000 C   0  0  0  0  0  0  0  0  0  0  0  0\n",
        "   -0.6473   -0.5572    0.0000 C   0  0  0  0  0  0  0  0  0  0  0  0\n",
        "    0.0671   -0.1447    0.0000 C   0  0  0  0  0  0  0  0  0  0  0  0\n",
        "    0.0671    0.6804    0.0000 C   0  0  0  0  0  0  0  0  0  0  0  0\n",
        "    0.7816    1.0929    0.0000 O   0  0  0  0  0  0  0  0  0  0  0  0\n",
        "  1  2  1  0  0  0  0\n",
        "  2  3  2  0  0  0  0\n",
        "  3  4  1  0  0  0  0\n",
        "  4  5  2  0  0  0  0\n",
        "  5  6  1  0  0  0  0\n",
        "  1  6  2  0  0  0  0\n",
        "  6  7  1  0  0  0  0\n",
        "M  END\n",
        "\"\"\"\n",
        "m = Chem.MolFromMolBlock(molblock)\n",
        "m"
      ]
    },
    {
      "cell_type": "markdown",
      "metadata": {
        "id": "8VvYGIC9W0JK"
      },
      "source": [
        "Here the molecule has coordinates that were read in from the Mol block. We can see this because the molecule has a conformer:"
      ]
    },
    {
      "cell_type": "code",
      "execution_count": null,
      "metadata": {
        "id": "H0SozkVCW0JK",
        "outputId": "24c90539-83d7-4d77-da10-be8c48ff0513"
      },
      "outputs": [
        {
          "data": {
            "text/plain": [
              "1"
            ]
          },
          "execution_count": 5,
          "metadata": {},
          "output_type": "execute_result"
        }
      ],
      "source": [
        "m.GetNumConformers()"
      ]
    },
    {
      "cell_type": "markdown",
      "metadata": {
        "id": "iwOT4GEIW0JK"
      },
      "source": [
        "The conformer that is present is 2D (we can see that from the coordinates above):"
      ]
    },
    {
      "cell_type": "code",
      "execution_count": null,
      "metadata": {
        "id": "9nwL-Z79W0JK",
        "outputId": "7063270f-d5a3-4d86-c27f-cd2ee01756c6"
      },
      "outputs": [
        {
          "data": {
            "text/plain": [
              "False"
            ]
          },
          "execution_count": 6,
          "metadata": {},
          "output_type": "execute_result"
        }
      ],
      "source": [
        "m.GetConformer().Is3D()"
      ]
    },
    {
      "cell_type": "markdown",
      "metadata": {
        "id": "g86q6FPUW0JL"
      },
      "source": [
        "Here's another Mol block and the corresponding molecule:"
      ]
    },
    {
      "cell_type": "code",
      "execution_count": null,
      "metadata": {
        "tags": [
          "nbval-ignore-output"
        ],
        "id": "61aZ4WBEW0JL",
        "outputId": "19b38aa0-6fd7-4992-f829-e5ebfaf0499d"
      },
      "outputs": [
        {
          "data": {
            "image/png": "[encoded data removed]",
            "text/plain": [
              "<rdkit.Chem.rdchem.Mol at 0x7fb2ce8d1520>"
            ]
          },
          "execution_count": 7,
          "metadata": {},
          "output_type": "execute_result"
        }
      ],
      "source": [
        "molblock2 ='''cyclopropanol-3D\n",
        "  Mrv1682210081607153D\n",
        "\n",
        " 10 10  0  0  0  0            999 V2000\n",
        "    0.9159    1.2233    0.2286 C   0  0  1  0  0  0  0  0  0  0  0  0\n",
        "   -0.0738    1.2748   -0.9428 C   0  0  2  0  0  0  0  0  0  0  0  0\n",
        "   -0.3167    0.3104    0.2232 C   0  0  2  0  0  0  0  0  0  0  0  0\n",
        "   -1.3658    0.6623    1.1190 O   0  0  0  0  0  0  0  0  0  0  0  0\n",
        "    1.8730    0.7413    0.0155 H   0  0  0  0  0  0  0  0  0  0  0  0\n",
        "    0.8835    2.0739    0.9139 H   0  0  0  0  0  0  0  0  0  0  0  0\n",
        "    0.2747    0.8266   -1.8737 H   0  0  0  0  0  0  0  0  0  0  0  0\n",
        "   -0.7163    2.1557   -0.9817 H   0  0  0  0  0  0  0  0  0  0  0  0\n",
        "   -0.1264   -0.7446    0.0137 H   0  0  0  0  0  0  0  0  0  0  0  0\n",
        "   -1.1210    0.2486    1.9735 H   0  0  0  0  0  0  0  0  0  0  0  0\n",
        "  1  2  1  0  0  0  0\n",
        "  2  3  1  0  0  0  0\n",
        "  1  3  1  0  0  0  0\n",
        "  3  4  1  0  0  0  0\n",
        "  1  5  1  0  0  0  0\n",
        "  1  6  1  0  0  0  0\n",
        "  2  7  1  0  0  0  0\n",
        "  2  8  1  0  0  0  0\n",
        "  3  9  1  0  0  0  0\n",
        "  4 10  1  0  0  0  0\n",
        "M  END\n",
        "'''\n",
        "m2 = Chem.MolFromMolBlock(molblock2)\n",
        "m2"
      ]
    },
    {
      "cell_type": "markdown",
      "metadata": {
        "id": "lJntGo5lW0JL"
      },
      "source": [
        "The odd coordinates in the drawing is because the molecule has a 3D conformer:"
      ]
    },
    {
      "cell_type": "code",
      "execution_count": null,
      "metadata": {
        "id": "1rYNIDp6W0JL",
        "outputId": "d87e1270-96f4-426c-9228-c0b437aeaa8f"
      },
      "outputs": [
        {
          "data": {
            "text/plain": [
              "True"
            ]
          },
          "execution_count": 8,
          "metadata": {},
          "output_type": "execute_result"
        }
      ],
      "source": [
        "m2.GetConformer().Is3D()"
      ]
    },
    {
      "cell_type": "markdown",
      "metadata": {
        "id": "vbe4CBFxW0JL"
      },
      "source": [
        "Notice that no Hs were drawn even though there are clearly H atoms in the Mol block. The default behavior for the RDKit Mol block reader is to remove Hs from the input molecule. If we want to keep the Hs and their coordinates, this behavior can be turned off:"
      ]
    },
    {
      "cell_type": "code",
      "execution_count": null,
      "metadata": {
        "tags": [
          "nbval-ignore-output"
        ],
        "id": "pRcUpdDUW0JL",
        "outputId": "519c6572-6ba6-4e60-c35f-0adf5728e84f"
      },
      "outputs": [
        {
          "data": {
            "image/png": "[encoded data removed]",
            "text/plain": [
              "<rdkit.Chem.rdchem.Mol at 0x7fb2ce9267c0>"
            ]
          },
          "execution_count": 9,
          "metadata": {},
          "output_type": "execute_result"
        }
      ],
      "source": [
        "m2_h = Chem.MolFromMolBlock(molblock2,removeHs=False)\n",
        "m2_h"
      ]
    },
    {
      "cell_type": "markdown",
      "metadata": {
        "id": "gh0xufbhW0JL"
      },
      "source": [
        "## Reading PDB data"
      ]
    },
    {
      "cell_type": "markdown",
      "metadata": {
        "id": "1OjXfLTuW0JM"
      },
      "source": [
        "This time we'll read from a file instead of embedding the text in the notebook. We also won't try to display the molecule itself, since that isn't particularly informative for a large molecule."
      ]
    },
    {
      "cell_type": "code",
      "execution_count": null,
      "metadata": {
        "id": "4tXuMYqwW0JM",
        "outputId": "ed9ef736-20e2-4bd1-8531-63fbaa79012f"
      },
      "outputs": [
        {
          "data": {
            "text/plain": [
              "327"
            ]
          },
          "execution_count": 10,
          "metadata": {},
          "output_type": "execute_result"
        }
      ],
      "source": [
        "crn = Chem.MolFromPDBFile('../data/1CRN.pdb')\n",
        "crn.GetNumAtoms()"
      ]
    },
    {
      "cell_type": "markdown",
      "metadata": {
        "id": "muVTlF4bW0JM"
      },
      "source": [
        "In order to be able to show something useful with the proteins, let's get the amino-acid sequence:"
      ]
    },
    {
      "cell_type": "code",
      "execution_count": null,
      "metadata": {
        "id": "YSCAZbKZW0JM",
        "outputId": "ee2ba5ac-eb8d-4cdf-ea8b-af7f83e4460d"
      },
      "outputs": [
        {
          "data": {
            "text/plain": [
              "[(1, 'THR'),\n",
              " (1, 'THR'),\n",
              " (1, 'THR'),\n",
              " (1, 'THR'),\n",
              " (1, 'THR'),\n",
              " (1, 'THR'),\n",
              " (1, 'THR'),\n",
              " (2, 'THR'),\n",
              " (2, 'THR'),\n",
              " (2, 'THR')]"
            ]
          },
          "execution_count": 11,
          "metadata": {},
          "output_type": "execute_result"
        }
      ],
      "source": [
        "# get the residue information for each atom:\n",
        "residues = [atom.GetPDBResidueInfo() for atom in crn.GetAtoms()]\n",
        "# and now the number and name of each residue\n",
        "resinf = [(res.GetResidueNumber(),res.GetResidueName()) for res in residues]\n",
        "# take a look at those:\n",
        "resinf[:10]"
      ]
    },
    {
      "cell_type": "code",
      "execution_count": null,
      "metadata": {
        "id": "ff5sEQD0W0JM",
        "outputId": "fc85c1a5-9c65-49f3-e206-d73d1e892b6b"
      },
      "outputs": [
        {
          "data": {
            "text/plain": [
              "46"
            ]
          },
          "execution_count": 12,
          "metadata": {},
          "output_type": "execute_result"
        }
      ],
      "source": [
        "# and get the ordered list of actual residues:\n",
        "residues = sorted(set(resinf))\n",
        "len(residues)"
      ]
    },
    {
      "cell_type": "code",
      "execution_count": null,
      "metadata": {
        "id": "MYMHEDTfW0JM",
        "outputId": "64c57ad6-d25d-483b-fe5d-816a3ee6db24"
      },
      "outputs": [
        {
          "data": {
            "text/plain": [
              "[(1, 'THR'), (2, 'THR'), (3, 'CYS'), (4, 'CYS'), (5, 'PRO')]"
            ]
          },
          "execution_count": 13,
          "metadata": {},
          "output_type": "execute_result"
        }
      ],
      "source": [
        "residues[:5]"
      ]
    },
    {
      "cell_type": "markdown",
      "metadata": {
        "id": "DM3qDMeLW0JM"
      },
      "source": [
        "## Reading other sequence formats"
      ]
    },
    {
      "cell_type": "markdown",
      "metadata": {
        "id": "x93hN3ASW0JN"
      },
      "source": [
        "We can also create molecules from a few sequence formats:"
      ]
    },
    {
      "cell_type": "code",
      "execution_count": null,
      "metadata": {
        "id": "sWlB50ERW0JN",
        "outputId": "166bdc1c-5291-4f50-b09d-b45a07e8c8fd"
      },
      "outputs": [
        {
          "data": {
            "text/plain": [
              "327"
            ]
          },
          "execution_count": 14,
          "metadata": {},
          "output_type": "execute_result"
        }
      ],
      "source": [
        "seq = 'TTCCPSIVAR SNFNVCRLPG TPEAICATYT GCIIIPGATC PGDYAN'\n",
        "m = Chem.MolFromSequence(seq)\n",
        "m.GetNumAtoms()"
      ]
    },
    {
      "cell_type": "code",
      "execution_count": null,
      "metadata": {
        "id": "Nu92z8gyW0JN",
        "outputId": "185b2dfd-d284-4576-91b6-db00e1aafacc"
      },
      "outputs": [
        {
          "data": {
            "text/plain": [
              "327"
            ]
          },
          "execution_count": 15,
          "metadata": {},
          "output_type": "execute_result"
        }
      ],
      "source": [
        "helm = 'PEPTIDE1{T.T.C.C.P.S.I.V.A.R.S.N.F.N.V.C.R.L.P.G.T.P.E.A.I.C.A.T.Y.T.G.C.I.I.I.P.G.A.T.C.P.G.D.Y.A.N}$$$$'\n",
        "m = Chem.MolFromHELM(helm)\n",
        "m.GetNumAtoms()"
      ]
    },
    {
      "cell_type": "code",
      "execution_count": null,
      "metadata": {
        "id": "JtH9Ji9MW0JN",
        "outputId": "28021ba4-1ed6-4a06-9142-b198cc32fc87"
      },
      "outputs": [
        {
          "data": {
            "text/plain": [
              "327"
            ]
          },
          "execution_count": 16,
          "metadata": {},
          "output_type": "execute_result"
        }
      ],
      "source": [
        "fasta =\"\"\">\n",
        "TTCCPSIVARSNFNVCRLPGTPEAICATYTGCIIIPGATCPGDYAN\n",
        "\"\"\"\n",
        "m = Chem.MolFromFASTA(fasta)\n",
        "m.GetNumAtoms()"
      ]
    },
    {
      "cell_type": "code",
      "execution_count": null,
      "metadata": {
        "id": "0Te6zh8xW0JN"
      },
      "outputs": [],
      "source": []
    }
  ],
  "metadata": {
    "anaconda-cloud": {},
    "celltoolbar": "Tags",
    "hide_input": false,
    "kernelspec": {
      "display_name": "Python 3",
      "language": "python",
      "name": "python3"
    },
    "language_info": {
      "codemirror_mode": {
        "name": "ipython",
        "version": 3
      },
      "file_extension": ".py",
      "mimetype": "text/x-python",
      "name": "python",
      "nbconvert_exporter": "python",
      "pygments_lexer": "ipython3",
      "version": "3.9.1"
    },
    "toc": {
      "base_numbering": 1,
      "nav_menu": {},
      "number_sections": true,
      "sideBar": true,
      "skip_h1_title": false,
      "title_cell": "Table of Contents",
      "title_sidebar": "Contents",
      "toc_cell": false,
      "toc_position": {},
      "toc_section_display": true,
      "toc_window_display": false
    },
    "colab": {
      "provenance": [],
      "include_colab_link": true
    }
  },
  "nbformat": 4,
  "nbformat_minor": 0
}