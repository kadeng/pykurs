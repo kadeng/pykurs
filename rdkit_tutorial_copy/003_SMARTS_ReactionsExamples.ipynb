{
  "cells": [
    {
      "cell_type": "markdown",
      "metadata": {
        "id": "view-in-github",
        "colab_type": "text"
      },
      "source": [
        "<a href=\"https://colab.research.google.com/github/kadeng/pykurs/blob/main/rdkit_tutorial_copy/003_SMARTS_ReactionsExamples.ipynb\" target=\"_parent\"><img src=\"https://colab.research.google.com/assets/colab-badge.svg\" alt=\"Open In Colab\"/></a>"
      ]
    },
    {
      "cell_type": "markdown",
      "metadata": {
        "id": "0GvVSzprZpqL"
      },
      "source": [
        "# RDKit: making new molecules using reaction SMARTS"
      ]
    },
    {
      "cell_type": "markdown",
      "metadata": {
        "id": "f-2EFvIqZpqO"
      },
      "source": [
        "This notebook explores using `RDKit` to define chemical reactions and to use these reactions to create new molecules from existing reactants. It uses RDKit's SMARTS matches.  This notebook isn't a replacment for the [rdkit documentation](http://www.rdkit.org/docs/), but is intended to complement it."
      ]
    },
    {
      "cell_type": "markdown",
      "metadata": {
        "id": "PXyoUEOPZpqP"
      },
      "source": [
        "@TAGS: #basics #reactions"
      ]
    },
    {
      "cell_type": "code",
      "source": [
        "!pip install rdkit"
      ],
      "metadata": {
        "id": "LF9PpTmfZszC"
      },
      "execution_count": null,
      "outputs": []
    },
    {
      "cell_type": "code",
      "execution_count": null,
      "metadata": {
        "id": "em38Cc_TZpqP"
      },
      "outputs": [],
      "source": [
        "from __future__ import print_function\n",
        "# import rdkit components\n",
        "from rdkit import rdBase\n",
        "from rdkit import Chem\n",
        "from rdkit.Chem import AllChem\n",
        "from rdkit.Chem import Draw\n",
        "from rdkit.Chem import rdMolDescriptors\n",
        "\n",
        "# use IPythonConsole for pretty drawings\n",
        "from rdkit.Chem.Draw import IPythonConsole\n",
        "\n",
        "## The next line is commented out\n",
        "### because GitHub does not render svg's embedded in notebooks\n",
        "# IPythonConsole.ipython_useSVG=True\n",
        "IPythonConsole.ipython_useSVG=False\n",
        "\n",
        "# for flattening tuples and lists\n",
        "from itertools import chain"
      ]
    },
    {
      "cell_type": "markdown",
      "metadata": {
        "id": "ESP1-I2hZpqQ"
      },
      "source": [
        "# An example unimolecular reaction: the oxidation of alcohols to ketones\n",
        "\n",
        "It's easy to get a feel for how the system works with some simple examples.  Let's take the oxidation of alcohols to ketones/aldehydes.  In real life, these reactions are not really unimolecular.  The electrons and hydrogen atoms that leave during the oxidation have to go somewhere.  But in these examples we aren't tracking the fate of those atoms; we're only tracking the transformations that happen to a single rdkit molecule.  That's what we mean by unimolecular."
      ]
    },
    {
      "cell_type": "code",
      "execution_count": null,
      "metadata": {
        "id": "vvaWKlo4ZpqR",
        "outputId": "1e0764ef-8865-4070-f18e-32201bbdaff9"
      },
      "outputs": [
        {
          "data": {
            "image/png": "[encoded data removed]",
            "text/plain": [
              "<IPython.core.display.Image object>"
            ]
          },
          "execution_count": 2,
          "metadata": {},
          "output_type": "execute_result"
        }
      ],
      "source": [
        "ethanol = Chem.MolFromSmiles('CCO')\n",
        "isopropanol = Chem.MolFromSmiles('CC(C)O')\n",
        "phenol = Chem.MolFromSmiles('c1cccc(O)c1')\n",
        "t_butanol = Chem.MolFromSmiles('C(C)(C)(C)O')\n",
        "glycerol = Chem.MolFromSmiles('OCC(O)CO')\n",
        "\n",
        "alcohols = [ethanol, isopropanol, phenol, t_butanol, glycerol]\n",
        "\n",
        "Draw.MolsToGridImage(alcohols, molsPerRow=5)"
      ]
    },
    {
      "cell_type": "markdown",
      "metadata": {
        "id": "fRkvcqUUZpqR"
      },
      "source": [
        "### A very general reaction definition\n",
        "\n",
        "There are a few ways we could imagine defining the reaction.  We'll take the most general way imaginable first."
      ]
    },
    {
      "cell_type": "code",
      "execution_count": null,
      "metadata": {
        "id": "xk3vhlO_ZpqS"
      },
      "outputs": [],
      "source": [
        "rxn_1 = AllChem.ReactionFromSmarts('[#6:1][O:2]>>[#6:1]=[O:2]')"
      ]
    },
    {
      "cell_type": "markdown",
      "metadata": {
        "id": "-7z700wuZpqS"
      },
      "source": [
        "This definition says:\n",
        "\n",
        "  1. Take _any_ carbon atom, which we'll label as atom #1, whether aliphatic or aromatic, that ...\n",
        "  2. ... is bound via a single bond to an aliphatic oxygen atom (capital O), that we label as atom #2, and\n",
        "  3. transform the linkage between these atoms to be a double bond.\n",
        "  \n",
        "This is an OK definition, but it is going to run into problems.  Phenol and $t$-butanol don't oxidize, because if they did it would either disrupt aromaticity or result in a pentavalent carbon.  rdkit has ways of letting us know about this, as we shall see.\n",
        "\n",
        "First, we have to run the reaction.  Let's show it working on isopropanol."
      ]
    },
    {
      "cell_type": "code",
      "execution_count": null,
      "metadata": {
        "tags": [
          "nbval-ignore-output"
        ],
        "id": "YwCJcng-ZpqS",
        "outputId": "2a062cee-09a4-41dd-fab6-774428c6d80f"
      },
      "outputs": [
        {
          "data": {
            "text/plain": [
              "((<rdkit.Chem.rdchem.Mol at 0x7f9dfa0a6ba0>,),)"
            ]
          },
          "execution_count": 4,
          "metadata": {},
          "output_type": "execute_result"
        }
      ],
      "source": [
        "rxn_1.RunReactants((isopropanol, ))"
      ]
    },
    {
      "cell_type": "markdown",
      "metadata": {
        "id": "jm15Jg1MZpqT"
      },
      "source": [
        "A couple of things to note about the input and output to the `RunReactants()` method:\n",
        "  1.  The input is a Python _tuple_.  Note the extra parentheses and the trailing comma in the input above.  For the single molecule we have here, it seems confusing, but this format makes it easy to supply multiple molecules into a single reaction.\n",
        "  2.  The output is a tuple of tuples.  The _inner_ tuples are there because even reactions that take only a single input molecule can result in multiple output molecules (e.g. hydrolysis).  The _outer_ tuples are there because rdkit applies your reaction incidence of the appropriate motifs in the input molecule, even if it occurs more than once.  \n",
        "  \n",
        "The upshot of all this is that it can take a bit of indexing to get your molecule out.  Note the trailing `[0][0]` below."
      ]
    },
    {
      "cell_type": "code",
      "execution_count": null,
      "metadata": {
        "tags": [
          "nbval-ignore-output"
        ],
        "id": "bWzjtVrZZpqT",
        "outputId": "57fa5a0a-37a4-49a1-a1a3-70d2227b0a65"
      },
      "outputs": [
        {
          "data": {
            "image/png": "[encoded data removed]",
            "text/plain": [
              "<rdkit.Chem.rdchem.Mol at 0x7f9dfa0a6eb0>"
            ]
          },
          "execution_count": 5,
          "metadata": {},
          "output_type": "execute_result"
        }
      ],
      "source": [
        "rxn_1.RunReactants((isopropanol, ))[0][0]"
      ]
    },
    {
      "cell_type": "markdown",
      "metadata": {
        "id": "HYulIueTZpqT"
      },
      "source": [
        "Behold!  We have produced acetone.  Now let's try one of the problematic examples."
      ]
    },
    {
      "cell_type": "code",
      "execution_count": null,
      "metadata": {
        "tags": [
          "nbval-ignore-output"
        ],
        "id": "NjT4Qk5iZpqT",
        "outputId": "f0fcc697-c286-4b61-9a27-b306572d3f61"
      },
      "outputs": [
        {
          "data": {
            "image/png": "[encoded data removed]",
            "text/plain": [
              "<rdkit.Chem.rdchem.Mol at 0x7f9dfa0a6900>"
            ]
          },
          "execution_count": 6,
          "metadata": {},
          "output_type": "execute_result"
        }
      ],
      "source": [
        "rxn_1.RunReactants((t_butanol, ))[0][0]"
      ]
    },
    {
      "cell_type": "markdown",
      "metadata": {
        "id": "WEkil33zZpqT"
      },
      "source": [
        "Uh-oh!  RDKit gave us a pentavalent carbon.  That can't be right.  \n",
        "\n",
        "The reason this happens is that by default, the products of `RunReactants` are not sanitized, i.e., rdkit doesn't check to see if they make sense.  We can do that check using `Chem.SanitizeMol()`, and the results match up with chemical common sense."
      ]
    },
    {
      "cell_type": "code",
      "execution_count": null,
      "metadata": {
        "id": "PjQ4dHD9ZpqT",
        "outputId": "c7797bf2-1b32-46dd-dc8d-0a112bb46f89"
      },
      "outputs": [
        {
          "data": {
            "text/plain": [
              "rdkit.Chem.rdmolops.SanitizeFlags.SANITIZE_NONE"
            ]
          },
          "execution_count": 7,
          "metadata": {},
          "output_type": "execute_result"
        }
      ],
      "source": [
        "# acetone can be sanitized, no problems here\n",
        "acetone = rxn_1.RunReactants((isopropanol, ))[0][0]\n",
        "Chem.SanitizeMol(acetone)"
      ]
    },
    {
      "cell_type": "code",
      "execution_count": null,
      "metadata": {
        "tags": [
          "nbval-ignore-output"
        ],
        "id": "P-BJDZ0tZpqU",
        "outputId": "b6fd2fb3-9c35-4a6e-c7ca-df63744d3931"
      },
      "outputs": [
        {
          "data": {
            "image/png": "[encoded data removed]",
            "text/plain": [
              "<rdkit.Chem.rdchem.Mol at 0x7f9df9b6a2e0>"
            ]
          },
          "execution_count": 8,
          "metadata": {},
          "output_type": "execute_result"
        }
      ],
      "source": [
        "acetone"
      ]
    },
    {
      "cell_type": "code",
      "execution_count": null,
      "metadata": {
        "tags": [
          "nbval-ignore-output"
        ],
        "id": "8jfYT2C-ZpqU",
        "outputId": "ddfb84b7-8bc7-4bec-d791-ff61c9ace214"
      },
      "outputs": [
        {
          "name": "stdout",
          "output_type": "stream",
          "text": [
            "Sanitization FAILED!\n"
          ]
        },
        {
          "name": "stderr",
          "output_type": "stream",
          "text": [
            "RDKit ERROR: [16:50:13] Explicit valence for atom # 0 C, 5, is greater than permitted\n"
          ]
        },
        {
          "data": {
            "image/png": "[encoded data removed]",
            "text/plain": [
              "<rdkit.Chem.rdchem.Mol at 0x7f9dfa0a6c10>"
            ]
          },
          "execution_count": 9,
          "metadata": {},
          "output_type": "execute_result"
        }
      ],
      "source": [
        "#doctest: IGNORE\n",
        "# \"t-butyl ketone\" cannot be sanitized, this is going to give an error\n",
        "crazy_molecule = rxn_1.RunReactants((t_butanol, ))[0][0]\n",
        "try:\n",
        "    Chem.SanitizeMol(crazy_molecule)\n",
        "except ValueError:\n",
        "    print('Sanitization FAILED!')\n",
        "\n",
        "# Drawing the moecule will create rdkit warning messages that start with `RDKit ERROR:`\n",
        "crazy_molecule"
      ]
    },
    {
      "cell_type": "markdown",
      "metadata": {
        "id": "DDewZ8yEZpqU"
      },
      "source": [
        "The warning message is a clue that something is wonky with the \"ketone\" that we created with the reaction. Phenol presents another problematic case for our reaction.  "
      ]
    },
    {
      "cell_type": "code",
      "execution_count": null,
      "metadata": {
        "tags": [
          "nbval-ignore-output"
        ],
        "id": "Dc6OPeHdZpqU",
        "outputId": "d7e77995-7db0-45d1-8268-b7e63df8530b"
      },
      "outputs": [
        {
          "name": "stdout",
          "output_type": "stream",
          "text": [
            "Sanitization failed.\n"
          ]
        },
        {
          "name": "stderr",
          "output_type": "stream",
          "text": [
            "RDKit ERROR: [16:50:13] Can't kekulize mol.  Unkekulized atoms: 2 3 4 5 6\n",
            "RDKit ERROR: \n"
          ]
        }
      ],
      "source": [
        "#doctest: IGNORE\n",
        "# \"phenyl ketone\" cannot be kekulized\n",
        "crazy_molecule = rxn_1.RunReactants((phenol, ))[0][0]\n",
        "try:\n",
        "    Chem.SanitizeMol(crazy_molecule)\n",
        "except ValueError:\n",
        "    print(\"Sanitization failed.\")\n",
        "\n",
        "# Drawing the molecule will create rdkit warning messages that start with `RDKit ERROR:`,\n",
        "# so we skip it here\n",
        "crazy_molecule = rxn_1.RunReactants((phenol, ))[0][0]\n",
        "# crazy_molecule"
      ]
    },
    {
      "cell_type": "markdown",
      "metadata": {
        "id": "avOlX951ZpqU"
      },
      "source": [
        "The lesson here is that reactions can create crazy molecules.  This is usually a sign that your reaction is defined too generally.  There are ways to fix that, but for now, let's see what happens with glycerol."
      ]
    },
    {
      "cell_type": "code",
      "execution_count": null,
      "metadata": {
        "tags": [
          "nbval-ignore-output"
        ],
        "id": "n7QQ0fskZpqU",
        "outputId": "14e3fc3c-d398-409d-816c-00e4067a7ce0"
      },
      "outputs": [
        {
          "data": {
            "text/plain": [
              "((<rdkit.Chem.rdchem.Mol at 0x7f9df9b6a9e0>,),\n",
              " (<rdkit.Chem.rdchem.Mol at 0x7f9df9b6a900>,),\n",
              " (<rdkit.Chem.rdchem.Mol at 0x7f9df9b6a820>,))"
            ]
          },
          "execution_count": 11,
          "metadata": {},
          "output_type": "execute_result"
        }
      ],
      "source": [
        "rxn_1.RunReactants((glycerol, ))"
      ]
    },
    {
      "cell_type": "markdown",
      "metadata": {
        "id": "qy0FsQEYZpqV"
      },
      "source": [
        "Now the ouput is a length-3 tuple of length-1 tuples.  This means that rdkit found three places in the reactant to apply the reaction rule, and each reaction created a single molecule as the product.  This makes sense because glycerol does have three hydroxyl atoms that can be oxidized.  A Pythonic way to look at all these products at once is to unpack the tuples with the `chain.from_iterable()` method from `itertools`."
      ]
    },
    {
      "cell_type": "code",
      "execution_count": null,
      "metadata": {
        "id": "hDUcThX4ZpqV",
        "outputId": "0cbade22-17d2-46fb-c99f-51a34b3d49b8"
      },
      "outputs": [
        {
          "data": {
            "text/plain": [
              "[rdkit.Chem.rdmolops.SanitizeFlags.SANITIZE_NONE,\n",
              " rdkit.Chem.rdmolops.SanitizeFlags.SANITIZE_NONE,\n",
              " rdkit.Chem.rdmolops.SanitizeFlags.SANITIZE_NONE]"
            ]
          },
          "execution_count": 12,
          "metadata": {},
          "output_type": "execute_result"
        }
      ],
      "source": [
        "glycerol_products = list(chain.from_iterable(rxn_1.RunReactants((glycerol, ))))\n",
        "[Chem.SanitizeMol(mol) for mol in glycerol_products]"
      ]
    },
    {
      "cell_type": "code",
      "execution_count": null,
      "metadata": {
        "id": "H2QFqE9LZpqV",
        "outputId": "f10d9768-1110-4e26-a8fa-5fffff7b4444"
      },
      "outputs": [
        {
          "data": {
            "image/png": "[encoded data removed]",
            "text/plain": [
              "<IPython.core.display.Image object>"
            ]
          },
          "execution_count": 13,
          "metadata": {},
          "output_type": "execute_result"
        }
      ],
      "source": [
        "Draw.MolsToGridImage(glycerol_products)"
      ]
    },
    {
      "cell_type": "markdown",
      "metadata": {
        "id": "uDtuLSDRZpqV"
      },
      "source": [
        "rdkit does not know about the symmetry of the glycerol molecule, i.e. that oxidizing carbon 1 gives the same molecule as oxidizing carbon 3. So glyceraldehyde appears twice while dihydroxyacetone appears only once.  \n",
        "\n",
        "It can be tricky to reduce sets of molecules to \"unique\" sets of molecules in rdkit.  rdkit molecules are really pointers to locations in memory, so equating two molecules in Python will always give `False`.  Doing the comparison in a simple case like this can be done by converting to SMILES.   \n",
        "\n",
        "Once the molecules have been converted to SMILES string representations, we can use Python's `set` object type to keep only the unique objects, and then covert back to rdkit molecules."
      ]
    },
    {
      "cell_type": "code",
      "execution_count": null,
      "metadata": {
        "id": "RoT7zccMZpqV",
        "outputId": "eb309712-fc58-4bf0-ce23-e25a254a0350"
      },
      "outputs": [
        {
          "data": {
            "text/plain": [
              "2"
            ]
          },
          "execution_count": 14,
          "metadata": {},
          "output_type": "execute_result"
        }
      ],
      "source": [
        "glycerol_unique_products = []\n",
        "glycerol_product_smiles = set()\n",
        "for mol in glycerol_products:\n",
        "    smi = Chem.MolToSmiles(mol)\n",
        "    if smi not in glycerol_product_smiles:\n",
        "        glycerol_product_smiles.add(smi)\n",
        "        glycerol_unique_products.append(mol)\n",
        "len(glycerol_unique_products)"
      ]
    },
    {
      "cell_type": "code",
      "execution_count": null,
      "metadata": {
        "id": "cnUUjE4SZpqV",
        "outputId": "3b0a9ae9-47e2-48e6-f821-db3a6e3f18a1"
      },
      "outputs": [
        {
          "data": {
            "image/png": "[encoded data removed]",
            "text/plain": [
              "<IPython.core.display.Image object>"
            ]
          },
          "execution_count": 15,
          "metadata": {},
          "output_type": "execute_result"
        }
      ],
      "source": [
        "Draw.MolsToGridImage(glycerol_unique_products)"
      ]
    },
    {
      "cell_type": "markdown",
      "metadata": {
        "id": "bNfxnrIgZpqV"
      },
      "source": [
        "Now we have only the two unique possible products.  It's worth noting that converting molecules to SMILES and then back into rdkit Molecules results in kekulization and sanitization, because unlike molecules created by `RunReactants()`, molecules created by `MolFromSmiles()` are kekulized and sanitized by default."
      ]
    },
    {
      "cell_type": "markdown",
      "metadata": {
        "id": "ji-3UYvmZpqV"
      },
      "source": [
        "### A better, more specific reaction definition\n",
        "\n",
        "We can fix most of the problems we've experienced with a better-defined SMARTS reaction.  Here's one that will only work on aliphatic primary or secondary alcohols."
      ]
    },
    {
      "cell_type": "code",
      "execution_count": null,
      "metadata": {
        "id": "6ayualE4ZpqV"
      },
      "outputs": [],
      "source": [
        "rxn_2 = AllChem.ReactionFromSmarts('[CH:1][O:2]>>[C:1]=[O:2]')"
      ]
    },
    {
      "cell_type": "markdown",
      "metadata": {
        "id": "fiylt1mFZpqW"
      },
      "source": [
        "In this version of the reaction, we specify that the alcohol in question must be _aliphatic_ (we've used a capital `C` in the reactant definition above) and additionally that this carbon atom must be bound to at least one hydrogen (the `h`) above.\n",
        "\n",
        "We now apply the reaction to every molecule in our alcohol set and look at all the products."
      ]
    },
    {
      "cell_type": "code",
      "execution_count": null,
      "metadata": {
        "id": "nXbQ_zfwZpqW",
        "outputId": "caf704ba-da0f-4be8-aa0a-115a7768664d"
      },
      "outputs": [
        {
          "data": {
            "text/plain": [
              "2"
            ]
          },
          "execution_count": 17,
          "metadata": {},
          "output_type": "execute_result"
        }
      ],
      "source": [
        "all_products_tuples = tuple(rxn_2.RunReactants((mol, )) for mol in alcohols)\n",
        "all_products = list(chain.from_iterable(chain.from_iterable(all_products_tuples)))\n",
        "\n",
        "all_products_smiles = set()\n",
        "all_products_unique = []\n",
        "for mol in all_products:\n",
        "    smi = Chem.MolToSmiles(mol)\n",
        "    if smi not in all_products_smiles:\n",
        "        all_products_smiles.add(smi)\n",
        "        all_products_unique.append(mol)\n",
        "len(all_products_unique)\n"
      ]
    },
    {
      "cell_type": "code",
      "execution_count": null,
      "metadata": {
        "id": "TBSKSOenZpqW",
        "outputId": "f405df65-8883-48fd-dfc2-3090a6916185"
      },
      "outputs": [
        {
          "data": {
            "image/png": "[encoded data removed]",
            "text/plain": [
              "<IPython.core.display.Image object>"
            ]
          },
          "execution_count": 18,
          "metadata": {},
          "output_type": "execute_result"
        }
      ],
      "source": [
        "Draw.MolsToGridImage(all_products_unique)"
      ]
    },
    {
      "cell_type": "markdown",
      "metadata": {
        "id": "w2beEdPOZpqW"
      },
      "source": [
        "The new reaction definition automatically excludes tertiary alcohols and aryl alchols.  "
      ]
    },
    {
      "cell_type": "markdown",
      "metadata": {
        "id": "NQYO4NB4ZpqW"
      },
      "source": [
        "## More complex reactions\n",
        "\n",
        "The same basic ideas can be used to create reactions that involve more than one reactant molecule, or that create more than one product.  The only new idea is that a dot `.` is used in SMARTS reactions definitions to separate molecules in the input or output.\n",
        "\n",
        "Let's continue with the example set of alcohols, and this time eliminate water from them, creating an alkene and a water molecule.  We'll explicitly track both molecules this time."
      ]
    },
    {
      "cell_type": "code",
      "execution_count": null,
      "metadata": {
        "id": "9BW8mfJ7ZpqW"
      },
      "outputs": [],
      "source": [
        "# helper functions to avoid typing the same thing over and over\n",
        "def to_smiles(mol_tuple):\n",
        "    return tuple(Chem.MolToSmiles(mol) for mol in mol_tuple)\n",
        "\n",
        "def from_smiles(smiles_tuple):\n",
        "    return tuple(Chem.MolFromSmiles(smiles) for smiles in smiles_tuple)\n"
      ]
    },
    {
      "cell_type": "code",
      "execution_count": null,
      "metadata": {
        "id": "PGPQH7ylZpqW",
        "outputId": "5c67d150-c37f-492b-be97-8570e48f3a07"
      },
      "outputs": [
        {
          "name": "stdout",
          "output_type": "stream",
          "text": [
            "Number of unique product sets: 5\n"
          ]
        },
        {
          "data": {
            "image/png": "[encoded data removed]",
            "text/plain": [
              "<IPython.core.display.Image object>"
            ]
          },
          "execution_count": 20,
          "metadata": {},
          "output_type": "execute_result"
        }
      ],
      "source": [
        "water_elimination_smarts = '[C!H0:1][C:2][O:3]>>[C:1]=[C:2].[O:3]'\n",
        "water_elimination = AllChem.ReactionFromSmarts(water_elimination_smarts)\n",
        "\n",
        "# do the reaction on every alcohol in our set\n",
        "all_products_tuples = [water_elimination.RunReactants((mol, )) for mol in alcohols]\n",
        "all_products = chain.from_iterable(all_products_tuples)\n",
        "\n",
        "# convert to smiles and back to keep only unique products\n",
        "all_products_smiles = [to_smiles(mol_tuple) for mol_tuple in all_products]\n",
        "all_products_unique = [from_smiles(smiles_tuple) for smiles_tuple in set(all_products_smiles)]\n",
        "nProductSets = len(all_products_unique)\n",
        "print(\"Number of unique product sets:\",nProductSets)\n",
        "\n",
        "# draw each product set on its own line\n",
        "prod_tpl = tuple(chain(*all_products_unique))\n",
        "Draw.MolsToGridImage(prod_tpl,molsPerRow=water_elimination.GetNumProductTemplates())"
      ]
    },
    {
      "cell_type": "markdown",
      "metadata": {
        "id": "R5qcHW0yZpqW"
      },
      "source": [
        "As expected, every reaction produces two compounds, one of which is water.  As before, glycerol gives rise to two _unique_ products.  Phenol does not react because it does not match our reaction rule, which specifies aliphatic carbons.  Unlike the oxidation reaction, $t$-butanol does react, since now it matches the reaction rule, forming isobutylene.  "
      ]
    },
    {
      "cell_type": "markdown",
      "metadata": {
        "id": "7VNj6xCyZpqb"
      },
      "source": [
        "## A few other examples\n",
        "\n",
        "### Thiazole synthesis\n",
        "\n",
        "The case we haven't dealt with yet is defining reactions that take more than one molecule as input.  Here's an example of thiazole synthesis from a thiourea and a ketone."
      ]
    },
    {
      "cell_type": "code",
      "execution_count": null,
      "metadata": {
        "id": "NWOi8UVBZpqb",
        "outputId": "729e0004-8df3-4750-c1cc-9924010d664b"
      },
      "outputs": [
        {
          "data": {
            "text/plain": [
              "rdkit.Chem.rdmolops.SanitizeFlags.SANITIZE_NONE"
            ]
          },
          "execution_count": 21,
          "metadata": {},
          "output_type": "execute_result"
        }
      ],
      "source": [
        "# Hantzsch thiazole synthesis\n",
        "thiourea = Chem.MolFromSmiles('CN(C)C(=S)N')\n",
        "haloketone = Chem.MolFromSmiles('c1ccccc1C(=O)C(C)Cl')\n",
        "rxn_smarts = '[NH2:1][C:2](=[S:3])[NH0:4].[C:5](=[O:6])[C:7][Cl:8]>>[N:4][c:2]1[s:3][c:5][c:7][n:1]1'\n",
        "rxn = AllChem.ReactionFromSmarts(rxn_smarts)\n",
        "product = rxn.RunReactants((thiourea, haloketone))[0][0]\n",
        "Chem.SanitizeMol(product)"
      ]
    },
    {
      "cell_type": "code",
      "execution_count": null,
      "metadata": {
        "id": "cz7rxhWmZpqb",
        "outputId": "9443f19b-08a6-4a9f-8edc-20c9400a7474"
      },
      "outputs": [
        {
          "data": {
            "image/png": "[encoded data removed]",
            "text/plain": [
              "<IPython.core.display.Image object>"
            ]
          },
          "execution_count": 22,
          "metadata": {},
          "output_type": "execute_result"
        }
      ],
      "source": [
        "all_three = [thiourea, haloketone, product]\n",
        "formulae = [rdMolDescriptors.CalcMolFormula(mol) for mol in all_three]\n",
        "Draw.MolsToGridImage(all_three, legends = formulae)"
      ]
    },
    {
      "cell_type": "markdown",
      "metadata": {
        "id": "IFHO1XlzZpqc"
      },
      "source": [
        "Two things are worth noting in this case:\n",
        "\n",
        "1. The reaction as we defined it doesn't track all the atoms; a water and a hydrogen chloride disappear given our reaction definition.\n",
        "\n",
        "2. The order in which reactants appear in the tuple(s) supplied to `RunReactants()` matters!  In our reaction definition, the thiourea SMARTS came first, so when feeding in reactants the thiourea should appear in the same slot.  If reactants are supplied in the wrong order, they won't match the reaction rule and no products will result (see below)."
      ]
    },
    {
      "cell_type": "code",
      "execution_count": null,
      "metadata": {
        "id": "5AawXElGZpqc",
        "outputId": "5ef9afcd-4850-4fd2-a6c1-1d2761e12bd9"
      },
      "outputs": [
        {
          "name": "stdout",
          "output_type": "stream",
          "text": [
            "()\n"
          ]
        }
      ],
      "source": [
        "no_products = rxn.RunReactants((haloketone, thiourea))\n",
        "print(no_products)"
      ]
    },
    {
      "cell_type": "markdown",
      "metadata": {
        "id": "GDaopERlZpqc"
      },
      "source": [
        "### Copper-catalyzed azide/alkyne cycloaddition"
      ]
    },
    {
      "cell_type": "code",
      "execution_count": null,
      "metadata": {
        "id": "81XGTnzyZpqc",
        "outputId": "342ef22b-278d-4790-c24f-c3c5c8425289"
      },
      "outputs": [
        {
          "data": {
            "image/png": "[encoded data removed]",
            "text/plain": [
              "<IPython.core.display.Image object>"
            ]
          },
          "execution_count": 24,
          "metadata": {},
          "output_type": "execute_result"
        }
      ],
      "source": [
        "diyne_smiles = 'C#CCC(O)C#C'\n",
        "azide_smiles = 'CCCN=[N+]=[N-]'\n",
        "\n",
        "diyne = Chem.MolFromSmiles(diyne_smiles)\n",
        "azide = Chem.MolFromSmiles(azide_smiles)\n",
        "\n",
        "Draw.MolsToGridImage([diyne, azide])"
      ]
    },
    {
      "cell_type": "code",
      "execution_count": null,
      "metadata": {
        "id": "XtKFcGsPZpqc"
      },
      "outputs": [],
      "source": [
        "# define reaction\n",
        "copper_click_smarts = '''\n",
        "[CH:1]#[C:2].[N:3]=[N+:4]=[N-:5]>>\n",
        "[c:1]1[c:2][n-0:3][n-0:4][n-0:5]1.\n",
        "[c:2]1[c:1][n-0:3][n-0:4][n-0:5]1\n",
        "'''\n",
        "\n",
        "copper_click = AllChem.ReactionFromSmarts(copper_click_smarts)"
      ]
    },
    {
      "cell_type": "markdown",
      "metadata": {
        "id": "_JlkzhifZpqc"
      },
      "source": [
        "$\\require{mhchem}$\n",
        "Most varieties of the copper click work on terminal alkynes.  That presents a problem if we want to represent the variable regioselectivity (sometimes 1,4-disubstituted triazoles result, and sometimes 1,5-disubstituted triazoles result), because in the reactions SMARTS each carbon must be labeled with a specified & unique number.  So defining a reactant as something like `'([CH:1]#[C:2],[CH:2]#[C:1])'`, meaning that atom numbering is either $\\ce{H-^1C^#^2C-R}$ **or** $\\ce{H-^2C^#^1C-R}$) is NOT allowed.\n",
        "\n",
        "Here, we solve the problem by letting the reaction form two products, the first of which is the 1,4 product and the second of which is the 1,5 product."
      ]
    },
    {
      "cell_type": "code",
      "execution_count": null,
      "metadata": {
        "id": "sBX3P3HOZpqc",
        "outputId": "92963741-70b4-4ad6-cb51-ada5f9299b4c"
      },
      "outputs": [
        {
          "data": {
            "text/plain": [
              "[rdkit.Chem.rdmolops.SanitizeFlags.SANITIZE_NONE,\n",
              " rdkit.Chem.rdmolops.SanitizeFlags.SANITIZE_NONE,\n",
              " rdkit.Chem.rdmolops.SanitizeFlags.SANITIZE_NONE,\n",
              " rdkit.Chem.rdmolops.SanitizeFlags.SANITIZE_NONE]"
            ]
          },
          "execution_count": 26,
          "metadata": {},
          "output_type": "execute_result"
        }
      ],
      "source": [
        "products_tuples = copper_click.RunReactants((diyne, azide))\n",
        "products = list(chain.from_iterable(products_tuples))\n",
        "[Chem.SanitizeMol(prod) for prod in products]"
      ]
    },
    {
      "cell_type": "code",
      "execution_count": null,
      "metadata": {
        "id": "VyZlQwA2Zpqc",
        "outputId": "31da625d-d5eb-4f77-bde6-0e2a02613357"
      },
      "outputs": [
        {
          "data": {
            "image/png": "[encoded data removed]",
            "text/plain": [
              "<IPython.core.display.Image object>"
            ]
          },
          "execution_count": 27,
          "metadata": {},
          "output_type": "execute_result"
        }
      ],
      "source": [
        "Draw.MolsToGridImage(products, molsPerRow = 4)"
      ]
    },
    {
      "cell_type": "markdown",
      "metadata": {
        "id": "RxxIOsl5Zpqc"
      },
      "source": [
        "The reaction rule, as we saw above with glycerol, is only executed once per species.  So \"reactive\" groups remain in the output molecules.  Some simple Python scripting could then react these molecules again, generating the (bis)-triazoles.\n",
        "\n",
        "For more complex editing and manipulation of molecules, it might be worthwhile to investigate [RWMol objects](http://www.rdkit.org/Python_Docs/rdkit.Chem.rdchem.RWMol-class.html) instead of or in addition to the SMARTS reactions examples illustrated here."
      ]
    },
    {
      "cell_type": "markdown",
      "metadata": {
        "id": "OylBqv0WZpqd"
      },
      "source": [
        "tutorial author: Curt Fischer, Jan 2017"
      ]
    }
  ],
  "metadata": {
    "anaconda-cloud": {},
    "celltoolbar": "Tags",
    "hide_input": false,
    "kernelspec": {
      "display_name": "Python 3",
      "language": "python",
      "name": "python3"
    },
    "language_info": {
      "codemirror_mode": {
        "name": "ipython",
        "version": 3
      },
      "file_extension": ".py",
      "mimetype": "text/x-python",
      "name": "python",
      "nbconvert_exporter": "python",
      "pygments_lexer": "ipython3",
      "version": "3.9.1"
    },
    "toc": {
      "base_numbering": 1,
      "nav_menu": {},
      "number_sections": true,
      "sideBar": true,
      "skip_h1_title": false,
      "title_cell": "Table of Contents",
      "title_sidebar": "Contents",
      "toc_cell": false,
      "toc_position": {},
      "toc_section_display": true,
      "toc_window_display": false
    },
    "colab": {
      "provenance": [],
      "include_colab_link": true
    }
  },
  "nbformat": 4,
  "nbformat_minor": 0
}