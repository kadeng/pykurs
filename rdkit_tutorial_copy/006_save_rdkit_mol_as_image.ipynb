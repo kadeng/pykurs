{
  "cells": [
    {
      "cell_type": "markdown",
      "metadata": {
        "id": "view-in-github",
        "colab_type": "text"
      },
      "source": [
        "<a href=\"https://colab.research.google.com/github/kadeng/pykurs/blob/main/rdkit_tutorial_copy/006_save_rdkit_mol_as_image.ipynb\" target=\"_parent\"><img src=\"https://colab.research.google.com/assets/colab-badge.svg\" alt=\"Open In Colab\"/></a>"
      ]
    },
    {
      "cell_type": "markdown",
      "metadata": {
        "id": "PA4ibcOGW5GM"
      },
      "source": [
        "# Saving Molecules as Images"
      ]
    },
    {
      "cell_type": "markdown",
      "metadata": {
        "id": "Z-oGoMnmW5GR"
      },
      "source": [
        "This is a quick tutorial on how to save rdkit molecules as image files.\n",
        "\n",
        "@TAGS: #basics #output #fileoperations"
      ]
    },
    {
      "cell_type": "markdown",
      "metadata": {
        "id": "aS364UWTE4D-"
      },
      "source": [
        "## To save an rdkit mol as an SVG"
      ]
    },
    {
      "cell_type": "code",
      "source": [
        "!pip install rdkit"
      ],
      "metadata": {
        "id": "jNw62JEdX0te",
        "outputId": "26387609-825b-49da-e1e9-2ffd015f0c6d",
        "colab": {
          "base_uri": "https://localhost:8080/"
        }
      },
      "execution_count": 1,
      "outputs": [
        {
          "output_type": "stream",
          "name": "stdout",
          "text": [
            "Collecting rdkit\n",
            "  Downloading rdkit-2023.3.2-cp310-cp310-manylinux_2_17_x86_64.manylinux2014_x86_64.whl (29.7 MB)\n",
            "\u001b[2K     \u001b[90m━━━━━━━━━━━━━━━━━━━━━━━━━━━━━━━━━━━━━━━━\u001b[0m \u001b[32m29.7/29.7 MB\u001b[0m \u001b[31m35.3 MB/s\u001b[0m eta \u001b[36m0:00:00\u001b[0m\n",
            "\u001b[?25hRequirement already satisfied: numpy in /usr/local/lib/python3.10/dist-packages (from rdkit) (1.22.4)\n",
            "Requirement already satisfied: Pillow in /usr/local/lib/python3.10/dist-packages (from rdkit) (9.4.0)\n",
            "Installing collected packages: rdkit\n",
            "Successfully installed rdkit-2023.3.2\n"
          ]
        }
      ]
    },
    {
      "cell_type": "code",
      "execution_count": null,
      "metadata": {
        "id": "X3fS7HJeEisX"
      },
      "outputs": [],
      "source": [
        "from rdkit.Chem.Draw import rdMolDraw2D\n",
        "from rdkit.Chem import MolFromSmiles\n",
        "canvas_width_pixels = 300\n",
        "canvas_height_pixels  = 300\n",
        "input_smiles = 'CCCC'\n",
        "mol = MolFromSmiles(input_smiles)\n",
        "mol = rdMolDraw2D.PrepareMolForDrawing(mol)\n",
        "drawer = rdMolDraw2D.MolDraw2DSVG(canvas_width_pixels,canvas_height_pixels)\n",
        "drawer.DrawMolecule(mol)\n",
        "drawer.FinishDrawing()\n",
        "svg = drawer.GetDrawingText()\n",
        "with open('output.svg', 'w') as f:\n",
        "    f.write(svg)"
      ]
    },
    {
      "cell_type": "markdown",
      "metadata": {
        "id": "Nr4R7_cwFfC2"
      },
      "source": [
        "## To Save a MolsToGridImage as a PNG"
      ]
    },
    {
      "cell_type": "code",
      "execution_count": null,
      "metadata": {
        "id": "c1NqPO9HFrzJ"
      },
      "outputs": [],
      "source": [
        "from rdkit import Chem\n",
        "from rdkit.Chem import Draw\n",
        "from rdkit.Chem.Draw import IPythonConsole\n",
        "benzene = Chem.MolFromSmiles('C1=CC=CC=C1')\n",
        "butane = Chem.MolFromSmiles('CCCC')\n",
        "propane = Chem.MolFromSmiles('CCC')\n",
        "ethane = Chem.MolFromSmiles('CC')\n",
        "methane = Chem.MolFromSmiles('C')\n",
        "\n",
        "img = Draw.MolsToGridImage([benzene, methane, ethane, propane, butane], returnPNG=True)\n",
        "open('output_mols_to_grid.png', 'wb').write(img.data)"
      ]
    },
    {
      "cell_type": "code",
      "execution_count": null,
      "metadata": {
        "id": "0oof8NknIKsz"
      },
      "outputs": [],
      "source": []
    }
  ],
  "metadata": {
    "colab": {
      "provenance": [],
      "include_colab_link": true
    },
    "kernelspec": {
      "display_name": "Python 3 (ipykernel)",
      "language": "python",
      "name": "python3"
    },
    "language_info": {
      "codemirror_mode": {
        "name": "ipython",
        "version": 3
      },
      "file_extension": ".py",
      "mimetype": "text/x-python",
      "name": "python",
      "nbconvert_exporter": "python",
      "pygments_lexer": "ipython3",
      "version": "3.8.9"
    }
  },
  "nbformat": 4,
  "nbformat_minor": 0
}